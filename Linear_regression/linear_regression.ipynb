{
 "cells": [
  {
   "cell_type": "markdown",
   "id": "923246fd",
   "metadata": {},
   "source": [
    "# 多元线性回归\n",
    "\n",
    "当我们讲到线性模型的时候，其实指的是我们的coefficients，在很多时候都是\\beta，是线性组合"
   ]
  },
  {
   "cell_type": "markdown",
   "id": "ae841051",
   "metadata": {},
   "source": [
    "### 数据集"
   ]
  },
  {
   "cell_type": "code",
   "execution_count": 2,
   "id": "92b81b6c",
   "metadata": {},
   "outputs": [],
   "source": [
    "from sklearn.linear_model import LinearRegression as LR\n",
    "from sklearn.model_selection import train_test_split, cross_val_score\n",
    "from sklearn.datasets import fetch_california_housing as fch\n",
    "import pandas as pd\n",
    "import numpy as np"
   ]
  },
  {
   "cell_type": "code",
   "execution_count": null,
   "id": "60f6c9e5",
   "metadata": {},
   "outputs": [],
   "source": [
    "housevalue = fch()\n",
    "\n",
    "x = pd.DataFrame(housevalue.data)\n",
    "y = housevalue.target\n",
    "x.shape, y.shape, x.head(), y, y.min(), y.max()"
   ]
  },
  {
   "cell_type": "code",
   "execution_count": 5,
   "id": "39d8b05a",
   "metadata": {},
   "outputs": [
    {
     "data": {
      "text/plain": [
       "['MedInc',\n",
       " 'HouseAge',\n",
       " 'AveRooms',\n",
       " 'AveBedrms',\n",
       " 'Population',\n",
       " 'AveOccup',\n",
       " 'Latitude',\n",
       " 'Longitude']"
      ]
     },
     "execution_count": 5,
     "metadata": {},
     "output_type": "execute_result"
    }
   ],
   "source": [
    "housevalue.feature_names"
   ]
  },
  {
   "cell_type": "code",
   "execution_count": 6,
   "id": "49f7ba84",
   "metadata": {},
   "outputs": [],
   "source": [
    "x.columns = housevalue.feature_names"
   ]
  },
  {
   "cell_type": "code",
   "execution_count": 7,
   "id": "0d59f625",
   "metadata": {},
   "outputs": [
    {
     "data": {
      "text/html": [
       "<div>\n",
       "<style scoped>\n",
       "    .dataframe tbody tr th:only-of-type {\n",
       "        vertical-align: middle;\n",
       "    }\n",
       "\n",
       "    .dataframe tbody tr th {\n",
       "        vertical-align: top;\n",
       "    }\n",
       "\n",
       "    .dataframe thead th {\n",
       "        text-align: right;\n",
       "    }\n",
       "</style>\n",
       "<table border=\"1\" class=\"dataframe\">\n",
       "  <thead>\n",
       "    <tr style=\"text-align: right;\">\n",
       "      <th></th>\n",
       "      <th>MedInc</th>\n",
       "      <th>HouseAge</th>\n",
       "      <th>AveRooms</th>\n",
       "      <th>AveBedrms</th>\n",
       "      <th>Population</th>\n",
       "      <th>AveOccup</th>\n",
       "      <th>Latitude</th>\n",
       "      <th>Longitude</th>\n",
       "    </tr>\n",
       "  </thead>\n",
       "  <tbody>\n",
       "    <tr>\n",
       "      <th>0</th>\n",
       "      <td>8.3252</td>\n",
       "      <td>41.0</td>\n",
       "      <td>6.984127</td>\n",
       "      <td>1.023810</td>\n",
       "      <td>322.0</td>\n",
       "      <td>2.555556</td>\n",
       "      <td>37.88</td>\n",
       "      <td>-122.23</td>\n",
       "    </tr>\n",
       "    <tr>\n",
       "      <th>1</th>\n",
       "      <td>8.3014</td>\n",
       "      <td>21.0</td>\n",
       "      <td>6.238137</td>\n",
       "      <td>0.971880</td>\n",
       "      <td>2401.0</td>\n",
       "      <td>2.109842</td>\n",
       "      <td>37.86</td>\n",
       "      <td>-122.22</td>\n",
       "    </tr>\n",
       "    <tr>\n",
       "      <th>2</th>\n",
       "      <td>7.2574</td>\n",
       "      <td>52.0</td>\n",
       "      <td>8.288136</td>\n",
       "      <td>1.073446</td>\n",
       "      <td>496.0</td>\n",
       "      <td>2.802260</td>\n",
       "      <td>37.85</td>\n",
       "      <td>-122.24</td>\n",
       "    </tr>\n",
       "    <tr>\n",
       "      <th>3</th>\n",
       "      <td>5.6431</td>\n",
       "      <td>52.0</td>\n",
       "      <td>5.817352</td>\n",
       "      <td>1.073059</td>\n",
       "      <td>558.0</td>\n",
       "      <td>2.547945</td>\n",
       "      <td>37.85</td>\n",
       "      <td>-122.25</td>\n",
       "    </tr>\n",
       "    <tr>\n",
       "      <th>4</th>\n",
       "      <td>3.8462</td>\n",
       "      <td>52.0</td>\n",
       "      <td>6.281853</td>\n",
       "      <td>1.081081</td>\n",
       "      <td>565.0</td>\n",
       "      <td>2.181467</td>\n",
       "      <td>37.85</td>\n",
       "      <td>-122.25</td>\n",
       "    </tr>\n",
       "  </tbody>\n",
       "</table>\n",
       "</div>"
      ],
      "text/plain": [
       "   MedInc  HouseAge  AveRooms  AveBedrms  Population  AveOccup  Latitude  \\\n",
       "0  8.3252      41.0  6.984127   1.023810       322.0  2.555556     37.88   \n",
       "1  8.3014      21.0  6.238137   0.971880      2401.0  2.109842     37.86   \n",
       "2  7.2574      52.0  8.288136   1.073446       496.0  2.802260     37.85   \n",
       "3  5.6431      52.0  5.817352   1.073059       558.0  2.547945     37.85   \n",
       "4  3.8462      52.0  6.281853   1.081081       565.0  2.181467     37.85   \n",
       "\n",
       "   Longitude  \n",
       "0    -122.23  \n",
       "1    -122.22  \n",
       "2    -122.24  \n",
       "3    -122.25  \n",
       "4    -122.25  "
      ]
     },
     "execution_count": 7,
     "metadata": {},
     "output_type": "execute_result"
    }
   ],
   "source": [
    "x.head()"
   ]
  },
  {
   "cell_type": "markdown",
   "id": "3f9aa57e",
   "metadata": {},
   "source": [
    "### 训练集测试集分割\n",
    "\n",
    "`切记恢复索引`"
   ]
  },
  {
   "cell_type": "code",
   "execution_count": 8,
   "id": "10dcb2d6",
   "metadata": {},
   "outputs": [
    {
     "data": {
      "text/plain": [
       "(   MedInc  HouseAge  AveRooms  AveBedrms  Population  AveOccup  Latitude  \\\n",
       " 0  4.1776      35.0  4.425172   1.030683      5380.0  3.368817     37.48   \n",
       " 1  5.3261      38.0  6.267516   1.089172       429.0  2.732484     37.53   \n",
       " 2  1.9439      26.0  5.768977   1.141914       891.0  2.940594     36.02   \n",
       " 3  2.5000      22.0  4.916000   1.012000       733.0  2.932000     38.57   \n",
       " 4  3.8250      34.0  5.036765   1.098039      1134.0  2.779412     33.91   \n",
       " \n",
       "    Longitude  \n",
       " 0    -122.19  \n",
       " 1    -122.30  \n",
       " 2    -119.08  \n",
       " 3    -121.31  \n",
       " 4    -118.35  ,\n",
       " (14448, 8))"
      ]
     },
     "execution_count": 8,
     "metadata": {},
     "output_type": "execute_result"
    }
   ],
   "source": [
    "xtrain, xtest, ytrain, ytest = train_test_split(x, y, test_size=0.3, random_state=420)\n",
    "# 恢复索引\n",
    "for i in [xtrain, xtest]:\n",
    "    i.index = range(i.shape[0])\n",
    "\n",
    "xtrain.head(), xtrain.shape"
   ]
  },
  {
   "cell_type": "markdown",
   "id": "371513ca",
   "metadata": {},
   "source": [
    "### 数据标准化"
   ]
  },
  {
   "cell_type": "code",
   "execution_count": 9,
   "id": "6dc7a9f4",
   "metadata": {},
   "outputs": [],
   "source": [
    "from sklearn.preprocessing import StandardScaler\n",
    "stand = StandardScaler().fit(xtrain)\n",
    "xtrain.iloc[:, :] = stand.transform(xtrain.iloc[:, :])\n",
    "xtest.iloc[:, :] = stand.transform(xtest.iloc[:, :])"
   ]
  },
  {
   "cell_type": "code",
   "execution_count": 10,
   "id": "7673f523",
   "metadata": {},
   "outputs": [
    {
     "data": {
      "text/html": [
       "<div>\n",
       "<style scoped>\n",
       "    .dataframe tbody tr th:only-of-type {\n",
       "        vertical-align: middle;\n",
       "    }\n",
       "\n",
       "    .dataframe tbody tr th {\n",
       "        vertical-align: top;\n",
       "    }\n",
       "\n",
       "    .dataframe thead th {\n",
       "        text-align: right;\n",
       "    }\n",
       "</style>\n",
       "<table border=\"1\" class=\"dataframe\">\n",
       "  <thead>\n",
       "    <tr style=\"text-align: right;\">\n",
       "      <th></th>\n",
       "      <th>MedInc</th>\n",
       "      <th>HouseAge</th>\n",
       "      <th>AveRooms</th>\n",
       "      <th>AveBedrms</th>\n",
       "      <th>Population</th>\n",
       "      <th>AveOccup</th>\n",
       "      <th>Latitude</th>\n",
       "      <th>Longitude</th>\n",
       "    </tr>\n",
       "  </thead>\n",
       "  <tbody>\n",
       "    <tr>\n",
       "      <th>0</th>\n",
       "      <td>0.159626</td>\n",
       "      <td>0.510191</td>\n",
       "      <td>-0.400386</td>\n",
       "      <td>-0.137366</td>\n",
       "      <td>3.507724</td>\n",
       "      <td>0.020972</td>\n",
       "      <td>0.865304</td>\n",
       "      <td>-1.309257</td>\n",
       "    </tr>\n",
       "    <tr>\n",
       "      <th>1</th>\n",
       "      <td>0.761674</td>\n",
       "      <td>0.748787</td>\n",
       "      <td>0.330494</td>\n",
       "      <td>-0.018110</td>\n",
       "      <td>-0.886084</td>\n",
       "      <td>-0.031039</td>\n",
       "      <td>0.888745</td>\n",
       "      <td>-1.364222</td>\n",
       "    </tr>\n",
       "    <tr>\n",
       "      <th>2</th>\n",
       "      <td>-1.011288</td>\n",
       "      <td>-0.205595</td>\n",
       "      <td>0.132718</td>\n",
       "      <td>0.089427</td>\n",
       "      <td>-0.476078</td>\n",
       "      <td>-0.014029</td>\n",
       "      <td>0.180835</td>\n",
       "      <td>0.244749</td>\n",
       "    </tr>\n",
       "    <tr>\n",
       "      <th>3</th>\n",
       "      <td>-0.719778</td>\n",
       "      <td>-0.523722</td>\n",
       "      <td>-0.205669</td>\n",
       "      <td>-0.175459</td>\n",
       "      <td>-0.616297</td>\n",
       "      <td>-0.014731</td>\n",
       "      <td>1.376312</td>\n",
       "      <td>-0.869538</td>\n",
       "    </tr>\n",
       "    <tr>\n",
       "      <th>4</th>\n",
       "      <td>-0.025209</td>\n",
       "      <td>0.430659</td>\n",
       "      <td>-0.157760</td>\n",
       "      <td>-0.000031</td>\n",
       "      <td>-0.260426</td>\n",
       "      <td>-0.027203</td>\n",
       "      <td>-0.808364</td>\n",
       "      <td>0.609516</td>\n",
       "    </tr>\n",
       "  </tbody>\n",
       "</table>\n",
       "</div>"
      ],
      "text/plain": [
       "     MedInc  HouseAge  AveRooms  AveBedrms  Population  AveOccup  Latitude  \\\n",
       "0  0.159626  0.510191 -0.400386  -0.137366    3.507724  0.020972  0.865304   \n",
       "1  0.761674  0.748787  0.330494  -0.018110   -0.886084 -0.031039  0.888745   \n",
       "2 -1.011288 -0.205595  0.132718   0.089427   -0.476078 -0.014029  0.180835   \n",
       "3 -0.719778 -0.523722 -0.205669  -0.175459   -0.616297 -0.014731  1.376312   \n",
       "4 -0.025209  0.430659 -0.157760  -0.000031   -0.260426 -0.027203 -0.808364   \n",
       "\n",
       "   Longitude  \n",
       "0  -1.309257  \n",
       "1  -1.364222  \n",
       "2   0.244749  \n",
       "3  -0.869538  \n",
       "4   0.609516  "
      ]
     },
     "execution_count": 10,
     "metadata": {},
     "output_type": "execute_result"
    }
   ],
   "source": [
    "xtrain.head()"
   ]
  },
  {
   "cell_type": "code",
   "execution_count": 11,
   "id": "5cf8e70b",
   "metadata": {},
   "outputs": [
    {
     "data": {
      "text/html": [
       "<div>\n",
       "<style scoped>\n",
       "    .dataframe tbody tr th:only-of-type {\n",
       "        vertical-align: middle;\n",
       "    }\n",
       "\n",
       "    .dataframe tbody tr th {\n",
       "        vertical-align: top;\n",
       "    }\n",
       "\n",
       "    .dataframe thead th {\n",
       "        text-align: right;\n",
       "    }\n",
       "</style>\n",
       "<table border=\"1\" class=\"dataframe\">\n",
       "  <thead>\n",
       "    <tr style=\"text-align: right;\">\n",
       "      <th></th>\n",
       "      <th>MedInc</th>\n",
       "      <th>HouseAge</th>\n",
       "      <th>AveRooms</th>\n",
       "      <th>AveBedrms</th>\n",
       "      <th>Population</th>\n",
       "      <th>AveOccup</th>\n",
       "      <th>Latitude</th>\n",
       "      <th>Longitude</th>\n",
       "    </tr>\n",
       "  </thead>\n",
       "  <tbody>\n",
       "    <tr>\n",
       "      <th>0</th>\n",
       "      <td>-1.104753</td>\n",
       "      <td>1.066914</td>\n",
       "      <td>-0.511652</td>\n",
       "      <td>-0.136703</td>\n",
       "      <td>0.136268</td>\n",
       "      <td>0.079532</td>\n",
       "      <td>-0.784923</td>\n",
       "      <td>0.644494</td>\n",
       "    </tr>\n",
       "    <tr>\n",
       "      <th>1</th>\n",
       "      <td>-1.229252</td>\n",
       "      <td>0.033001</td>\n",
       "      <td>-0.134304</td>\n",
       "      <td>-0.004412</td>\n",
       "      <td>-0.257763</td>\n",
       "      <td>0.000232</td>\n",
       "      <td>1.713859</td>\n",
       "      <td>-1.054420</td>\n",
       "    </tr>\n",
       "    <tr>\n",
       "      <th>2</th>\n",
       "      <td>0.158263</td>\n",
       "      <td>-1.159976</td>\n",
       "      <td>0.067546</td>\n",
       "      <td>-0.106206</td>\n",
       "      <td>1.238492</td>\n",
       "      <td>-0.018691</td>\n",
       "      <td>0.705907</td>\n",
       "      <td>-1.034433</td>\n",
       "    </tr>\n",
       "    <tr>\n",
       "      <th>3</th>\n",
       "      <td>-0.443104</td>\n",
       "      <td>1.862231</td>\n",
       "      <td>-0.103741</td>\n",
       "      <td>-0.025160</td>\n",
       "      <td>0.209040</td>\n",
       "      <td>-0.049979</td>\n",
       "      <td>1.005949</td>\n",
       "      <td>-1.459161</td>\n",
       "    </tr>\n",
       "    <tr>\n",
       "      <th>4</th>\n",
       "      <td>0.328629</td>\n",
       "      <td>0.589723</td>\n",
       "      <td>-0.195970</td>\n",
       "      <td>-0.235342</td>\n",
       "      <td>-0.107783</td>\n",
       "      <td>0.010500</td>\n",
       "      <td>-0.789611</td>\n",
       "      <td>0.739433</td>\n",
       "    </tr>\n",
       "  </tbody>\n",
       "</table>\n",
       "</div>"
      ],
      "text/plain": [
       "     MedInc  HouseAge  AveRooms  AveBedrms  Population  AveOccup  Latitude  \\\n",
       "0 -1.104753  1.066914 -0.511652  -0.136703    0.136268  0.079532 -0.784923   \n",
       "1 -1.229252  0.033001 -0.134304  -0.004412   -0.257763  0.000232  1.713859   \n",
       "2  0.158263 -1.159976  0.067546  -0.106206    1.238492 -0.018691  0.705907   \n",
       "3 -0.443104  1.862231 -0.103741  -0.025160    0.209040 -0.049979  1.005949   \n",
       "4  0.328629  0.589723 -0.195970  -0.235342   -0.107783  0.010500 -0.789611   \n",
       "\n",
       "   Longitude  \n",
       "0   0.644494  \n",
       "1  -1.054420  \n",
       "2  -1.034433  \n",
       "3  -1.459161  \n",
       "4   0.739433  "
      ]
     },
     "execution_count": 11,
     "metadata": {},
     "output_type": "execute_result"
    }
   ],
   "source": [
    "xtest.head()"
   ]
  },
  {
   "cell_type": "markdown",
   "id": "70b5432e",
   "metadata": {},
   "source": [
    "### 建模"
   ]
  },
  {
   "cell_type": "code",
   "execution_count": 12,
   "id": "0cfaf159",
   "metadata": {},
   "outputs": [
    {
     "data": {
      "text/plain": [
       "(7.146198214270825, -0.6528439725035562)"
      ]
     },
     "execution_count": 12,
     "metadata": {},
     "output_type": "execute_result"
    }
   ],
   "source": [
    "reg = LR().fit(xtrain, ytrain)\n",
    "yhat = reg.predict(xtest)\n",
    "yhat.max(), yhat.min()\n",
    "# 发现yhat的范围比真实值大"
   ]
  },
  {
   "cell_type": "code",
   "execution_count": 13,
   "id": "cd55e6aa",
   "metadata": {},
   "outputs": [
    {
     "data": {
      "text/plain": [
       "array([ 8.34330242e-01,  1.28392315e-01, -2.71751685e-01,  3.07236193e-01,\n",
       "        5.87759764e-04, -4.09677688e-02, -8.81149778e-01, -8.52966760e-01])"
      ]
     },
     "execution_count": 13,
     "metadata": {},
     "output_type": "execute_result"
    }
   ],
   "source": [
    "reg.coef_"
   ]
  },
  {
   "cell_type": "code",
   "execution_count": 14,
   "id": "a943c415",
   "metadata": {},
   "outputs": [
    {
     "data": {
      "text/plain": [
       "[('MedInc', 0.8343302417471552),\n",
       " ('HouseAge', 0.1283923151295832),\n",
       " ('AveRooms', -0.2717516851919096),\n",
       " ('AveBedrms', 0.3072361927925217),\n",
       " ('Population', 0.0005877597637465727),\n",
       " ('AveOccup', -0.04096776875874611),\n",
       " ('Latitude', -0.8811497776007535),\n",
       " ('Longitude', -0.852966760456658)]"
      ]
     },
     "execution_count": 14,
     "metadata": {},
     "output_type": "execute_result"
    }
   ],
   "source": [
    "[*zip(xtrain.columns, reg.coef_)]"
   ]
  },
  {
   "cell_type": "markdown",
   "id": "1ba7def8",
   "metadata": {},
   "source": [
    "# 回归评估指标"
   ]
  },
  {
   "cell_type": "markdown",
   "id": "c97e7e7d",
   "metadata": {},
   "source": [
    "### 是否预测准确"
   ]
  },
  {
   "cell_type": "code",
   "execution_count": 15,
   "id": "bc2a2e7b",
   "metadata": {},
   "outputs": [
    {
     "data": {
      "text/plain": [
       "0.5309012639324572"
      ]
     },
     "execution_count": 15,
     "metadata": {},
     "output_type": "execute_result"
    }
   ],
   "source": [
    "# 法一\n",
    "from sklearn.metrics import mean_squared_error as MSE\n",
    "MSE(yhat, ytest)"
   ]
  },
  {
   "cell_type": "code",
   "execution_count": 16,
   "id": "4ef4eb0a",
   "metadata": {},
   "outputs": [
    {
     "data": {
      "text/plain": [
       "2.0819292877906976"
      ]
     },
     "execution_count": 16,
     "metadata": {},
     "output_type": "execute_result"
    }
   ],
   "source": [
    "ytest.mean()"
   ]
  },
  {
   "cell_type": "code",
   "execution_count": 17,
   "id": "208d118f",
   "metadata": {},
   "outputs": [
    {
     "data": {
      "text/plain": [
       "-0.5509524296956594"
      ]
     },
     "execution_count": 17,
     "metadata": {},
     "output_type": "execute_result"
    }
   ],
   "source": [
    "# 法二\n",
    "cross_val_score(reg, x, y, cv = 10, scoring='neg_mean_squared_error').mean()"
   ]
  },
  {
   "cell_type": "markdown",
   "id": "3def5809",
   "metadata": {},
   "source": [
    "### 是否拟合了足够的信息"
   ]
  },
  {
   "cell_type": "code",
   "execution_count": 18,
   "id": "99b274c8",
   "metadata": {},
   "outputs": [
    {
     "data": {
      "text/plain": [
       "0.6043668160178817"
      ]
     },
     "execution_count": 18,
     "metadata": {},
     "output_type": "execute_result"
    }
   ],
   "source": [
    "# 法一\n",
    "from sklearn.metrics import r2_score\n",
    "r2_score(ytest, yhat)"
   ]
  },
  {
   "cell_type": "code",
   "execution_count": 19,
   "id": "6cefd081",
   "metadata": {},
   "outputs": [
    {
     "data": {
      "text/plain": [
       "0.6043668160178817"
      ]
     },
     "execution_count": 19,
     "metadata": {},
     "output_type": "execute_result"
    }
   ],
   "source": [
    "# 法二\n",
    "r2 = reg.score(xtest, ytest)\n",
    "r2"
   ]
  },
  {
   "cell_type": "code",
   "execution_count": 20,
   "id": "287dc5af",
   "metadata": {},
   "outputs": [
    {
     "data": {
      "text/plain": [
       "0.5110068610524554"
      ]
     },
     "execution_count": 20,
     "metadata": {},
     "output_type": "execute_result"
    }
   ],
   "source": [
    "# 法三\n",
    "cross_val_score(reg, x, y, cv = 10, scoring='r2').mean()"
   ]
  },
  {
   "cell_type": "code",
   "execution_count": 21,
   "id": "a64a3e3e",
   "metadata": {},
   "outputs": [
    {
     "data": {
      "image/png": "[encoded data removed]",
      "text/plain": [
       "<Figure size 640x480 with 1 Axes>"
      ]
     },
     "metadata": {},
     "output_type": "display_data"
    }
   ],
   "source": [
    "import matplotlib.pyplot as plt\n",
    "\n",
    "plt.plot(range(len(ytest)), sorted(ytest), label = 'True')\n",
    "plt.plot(range(len(yhat)), sorted(yhat), label = 'Predict')\n",
    "plt.legend()\n",
    "plt.show()"
   ]
  },
  {
   "cell_type": "markdown",
   "id": "92b10e67",
   "metadata": {},
   "source": [
    "# Multicollinearity"
   ]
  },
  {
   "cell_type": "markdown",
   "id": "15ed5d0b",
   "metadata": {},
   "source": [
    "### Ridge Regression\n",
    "\n",
    "当系数的绝对值变大时， 惩罚项会急剧增大，从而“惩罚”那些过大的系数。"
   ]
  },
  {
   "cell_type": "code",
   "execution_count": 22,
   "id": "05e5a2fa",
   "metadata": {},
   "outputs": [],
   "source": [
    "from sklearn.linear_model import  Ridge"
   ]
  },
  {
   "cell_type": "code",
   "execution_count": null,
   "id": "683d4752",
   "metadata": {},
   "outputs": [],
   "source": []
  },
  {
   "cell_type": "code",
   "execution_count": 23,
   "id": "7a7f61cd",
   "metadata": {},
   "outputs": [],
   "source": [
    "ridge = Ridge(alpha=1).fit(xtrain, ytrain)\n"
   ]
  },
  {
   "cell_type": "code",
   "execution_count": 24,
   "id": "61b83d7c",
   "metadata": {},
   "outputs": [
    {
     "data": {
      "text/plain": [
       "0.6043668160178817"
      ]
     },
     "execution_count": 24,
     "metadata": {},
     "output_type": "execute_result"
    }
   ],
   "source": [
    "reg.score(xtest, ytest)\n",
    "# 和多元线性回归的结果差不多，说明不是多重共线性的问题"
   ]
  },
  {
   "cell_type": "code",
   "execution_count": 25,
   "id": "6ba6815c",
   "metadata": {},
   "outputs": [],
   "source": [
    "alpharange = np.linspace(1, 1001, 100)\n",
    "ridge, lr = [], []\n",
    "for alpha in alpharange:\n",
    "    lrrag = LR().fit(xtrain, ytrain)\n",
    "    ridgereg = Ridge(alpha=alpha).fit(xtrain, ytrain)\n",
    "    scorelr = cross_val_score(lrrag, xtest, ytest, cv = 5, scoring='r2').mean()\n",
    "    scoreridge = cross_val_score(ridgereg, xtest, ytest, cv = 5, scoring='r2').mean()\n",
    "    ridge.append(scoreridge)\n",
    "    lr.append(scorelr)\n"
   ]
  },
  {
   "cell_type": "code",
   "execution_count": 26,
   "id": "252d0d4c",
   "metadata": {},
   "outputs": [
    {
     "name": "stdout",
     "output_type": "stream",
     "text": [
      "0.5933800757954306 112.1111111111111\n"
     ]
    },
    {
     "data": {
      "image/png": "[encoded data removed]",
      "text/plain": [
       "<Figure size 640x480 with 1 Axes>"
      ]
     },
     "metadata": {},
     "output_type": "display_data"
    }
   ],
   "source": [
    "\n",
    "print(max(ridge), alpharange[ridge.index(max(ridge))])\n",
    "plt.plot(alpharange, ridge, label = 'Ridge')\n",
    "plt.plot(alpharange, lr, label = 'Linear Regression')\n",
    "plt.legend()\n",
    "plt.show()\n",
    "\n",
    "# 仅有一点点多重共线性问题"
   ]
  },
  {
   "cell_type": "code",
   "execution_count": 27,
   "id": "ae5c2f43",
   "metadata": {},
   "outputs": [
    {
     "data": {
      "text/plain": [
       "0.602498670378733"
      ]
     },
     "execution_count": 27,
     "metadata": {},
     "output_type": "execute_result"
    }
   ],
   "source": [
    "ridge112 = Ridge(alpha=112.1111111111111).fit(xtrain, ytrain)\n",
    "ridge112.score(xtest, ytest)"
   ]
  },
  {
   "cell_type": "code",
   "execution_count": 28,
   "id": "42e0cfea",
   "metadata": {},
   "outputs": [
    {
     "name": "stdout",
     "output_type": "stream",
     "text": [
      "0.5933837436239963 110.1010101010101\n"
     ]
    },
    {
     "data": {
      "image/png": "[encoded data removed]",
      "text/plain": [
       "<Figure size 640x480 with 1 Axes>"
      ]
     },
     "metadata": {},
     "output_type": "display_data"
    }
   ],
   "source": [
    "# 细化\n",
    "alpharange = np.linspace(100, 200, 100)\n",
    "ridge, lr = [], []\n",
    "for alpha in alpharange:\n",
    "    lrrag = LR().fit(xtrain, ytrain)\n",
    "    ridgereg = Ridge(alpha=alpha).fit(xtrain, ytrain)\n",
    "    scorelr = cross_val_score(lrrag, xtest, ytest, cv = 5, scoring='r2').mean()\n",
    "    scoreridge = cross_val_score(ridgereg, xtest, ytest, cv = 5, scoring='r2').mean()\n",
    "    ridge.append(scoreridge)\n",
    "    lr.append(scorelr)\n",
    "\n",
    "\n",
    "print(max(ridge), alpharange[ridge.index(max(ridge))])\n",
    "plt.plot(alpharange, ridge, label = 'Ridge')\n",
    "plt.plot(alpharange, lr, label = 'Linear Regression')\n",
    "plt.legend()\n",
    "plt.show()"
   ]
  },
  {
   "cell_type": "code",
   "execution_count": 29,
   "id": "90c19a0a",
   "metadata": {},
   "outputs": [],
   "source": [
    "# var\n",
    "alpharange = np.linspace(1, 1001, 100)\n",
    "ridge, lr = [], []\n",
    "for alpha in alpharange:\n",
    "    lrrag = LR().fit(xtrain, ytrain)\n",
    "    ridgereg = Ridge(alpha=alpha).fit(xtrain, ytrain)\n",
    "    scorelr = cross_val_score(lrrag, xtest, ytest, cv = 5, scoring='r2').mean()\n",
    "    scoreridge = cross_val_score(ridgereg, xtest, ytest, cv = 5, scoring='r2').mean()\n",
    "    ridge.append(scoreridge)\n",
    "    lr.append(scorelr)\n"
   ]
  },
  {
   "cell_type": "markdown",
   "id": "2a1efc36",
   "metadata": {},
   "source": [
    "### 选择最佳正则化参数\n",
    "\n",
    "\n",
    "#### 岭迹图 \n",
    "\n",
    "不推荐"
   ]
  },
  {
   "cell_type": "code",
   "execution_count": 30,
   "id": "48d2ce02",
   "metadata": {},
   "outputs": [
    {
     "data": {
      "text/plain": [
       "(array([[ 2.        ,  1.5       ,  1.33333333,  1.25      ,  1.2       ,\n",
       "          1.16666667,  1.14285714,  1.125     ,  1.11111111,  1.1       ],\n",
       "        [ 3.        ,  2.5       ,  2.33333333,  2.25      ,  2.2       ,\n",
       "          2.16666667,  2.14285714,  2.125     ,  2.11111111,  2.1       ],\n",
       "        [ 4.        ,  3.5       ,  3.33333333,  3.25      ,  3.2       ,\n",
       "          3.16666667,  3.14285714,  3.125     ,  3.11111111,  3.1       ],\n",
       "        [ 5.        ,  4.5       ,  4.33333333,  4.25      ,  4.2       ,\n",
       "          4.16666667,  4.14285714,  4.125     ,  4.11111111,  4.1       ],\n",
       "        [ 6.        ,  5.5       ,  5.33333333,  5.25      ,  5.2       ,\n",
       "          5.16666667,  5.14285714,  5.125     ,  5.11111111,  5.1       ],\n",
       "        [ 7.        ,  6.5       ,  6.33333333,  6.25      ,  6.2       ,\n",
       "          6.16666667,  6.14285714,  6.125     ,  6.11111111,  6.1       ],\n",
       "        [ 8.        ,  7.5       ,  7.33333333,  7.25      ,  7.2       ,\n",
       "          7.16666667,  7.14285714,  7.125     ,  7.11111111,  7.1       ],\n",
       "        [ 9.        ,  8.5       ,  8.33333333,  8.25      ,  8.2       ,\n",
       "          8.16666667,  8.14285714,  8.125     ,  8.11111111,  8.1       ],\n",
       "        [10.        ,  9.5       ,  9.33333333,  9.25      ,  9.2       ,\n",
       "          9.16666667,  9.14285714,  9.125     ,  9.11111111,  9.1       ]]),\n",
       " (9, 10))"
      ]
     },
     "execution_count": 30,
     "metadata": {},
     "output_type": "execute_result"
    }
   ],
   "source": [
    "from sklearn import linear_model\n",
    "\n",
    "# 创造希尔伯特矩阵\n",
    "Hilbert = 1./(np.arange(1, 11)) + np.arange(1, 10)[:, np.newaxis]\n",
    "Hilbert, Hilbert.shape"
   ]
  },
  {
   "cell_type": "code",
   "execution_count": 31,
   "id": "8f3de7ff",
   "metadata": {},
   "outputs": [
    {
     "data": {
      "text/plain": [
       "(array([1., 1., 1., 1., 1., 1., 1., 1., 1.]), (9,))"
      ]
     },
     "execution_count": 31,
     "metadata": {},
     "output_type": "execute_result"
    }
   ],
   "source": [
    "E = np.ones(9)\n",
    "E, E.shape"
   ]
  },
  {
   "cell_type": "code",
   "execution_count": 32,
   "id": "ceae088d",
   "metadata": {},
   "outputs": [
    {
     "data": {
      "image/png": "[encoded data removed]",
      "text/plain": [
       "<Figure size 640x480 with 1 Axes>"
      ]
     },
     "metadata": {},
     "output_type": "display_data"
    }
   ],
   "source": [
    "# 计算横坐标\n",
    "n_alphas = 200\n",
    "alphas = np.logspace(-10, -2, n_alphas)\n",
    "\n",
    "# 建模，获取每一个正则化取值下的系数组合\n",
    "coefs = []\n",
    "for a in alphas:\n",
    "    ridge = Ridge(alpha=a, fit_intercept=False)\n",
    "    ridge.fit(Hilbert, E)\n",
    "    coefs.append(ridge.coef_)\n",
    "\n",
    "ax = plt.gca()\n",
    "ax.plot(alphas, coefs)\n",
    "ax.set_xscale('log')\n",
    "ax.set_xlim(ax.get_xlim())[::-1] #将横坐标逆转\n",
    "plt.xlabel('alpha')\n",
    "plt.ylabel('coefs')\n",
    "plt.title('Ridge trace plot')\n",
    "plt.axis('tight')\n",
    "plt.show()"
   ]
  },
  {
   "cell_type": "markdown",
   "id": "80058f75",
   "metadata": {},
   "source": [
    "#### GridSearchCV\n",
    "\n",
    "\n",
    "重要参数\n",
    "\n",
    "| 参数      | 含义                                                                                                                                                                                                                                                                  |\n",
    "| :-------- | :-------------------------------------------------------------------------------------------------------------------------------------------------------------------------------------------------------------------------------------------------------------------- |\n",
    "| alphas    | 需要测试的正则化参数的取值元组                                                                                                                                                                                                                                    |\n",
    "| scoring   | 用来 进行交叉验证的模型评估指标，默认是 $R^2$，可自行调整                                                                                                                                                                                                                   |\n",
    "| store_cv_values | 是否保存每次交叉验证的结果，默认False                                                                                                                                                                                                                   |\n",
    "| cv        | 交叉验证的模式，默认是None，表示默认留一交叉验证。可以输入KFold对象和StratifiedKFold对象来进行交叉验证。注意，仅仅当cv为None时，每次交叉验证的结果才可被保存下来。当cv有值存在（不是None）时，store_cv_values无法被设定为True |\n",
    "\n",
    "重要属性\n",
    "\n",
    "| 属性        | 含义                                                               |\n",
    "| :---------- | :----------------------------------------------------------------- |\n",
    "| alpha\\_     | 查看交叉验证选中的alpha                                          |\n",
    "| cv\\_values\\_ | 调用所有交叉验证的结果，只有当store_cv_values=True的时候才能调用，因此返回的结构是(n_samples, n_alphas) |\n",
    "\n",
    "重要接口\n",
    "\n",
    "| 接口  | 含义                                |\n",
    "| :---- | :---------------------------------- |\n",
    "| score | 调用Ridge类不进行交叉验证的情况下返回的R平方 |"
   ]
  },
  {
   "cell_type": "code",
   "execution_count": 33,
   "id": "d0409ab9",
   "metadata": {},
   "outputs": [
    {
     "name": "stdout",
     "output_type": "stream",
     "text": [
      "Best alpha: {'alpha': 1}\n"
     ]
    }
   ],
   "source": [
    "\n",
    "from sklearn.model_selection import GridSearchCV\n",
    "\n",
    "param_grid = {'alpha': np.arange(1, 1001, 100)}\n",
    "ridge = Ridge()\n",
    "grid = GridSearchCV(ridge, param_grid, cv=5, scoring='r2')\n",
    "grid.fit(xtrain, ytrain)\n",
    "\n",
    "print(\"Best alpha:\", grid.best_params_)\n",
    "\n"
   ]
  },
  {
   "cell_type": "code",
   "execution_count": 34,
   "id": "51a9a629",
   "metadata": {},
   "outputs": [
    {
     "name": "stdout",
     "output_type": "stream",
     "text": [
      "   param_alpha  mean_test_score  std_test_score  split0_test_score  \\\n",
      "0            1         0.604425        0.019599           0.625159   \n",
      "1          101         0.603966        0.018325           0.623685   \n",
      "2          201         0.601874        0.017487           0.620993   \n",
      "3          301         0.598958        0.016903           0.617702   \n",
      "4          401         0.595645        0.016469           0.614141   \n",
      "5          501         0.592166        0.016130           0.610484   \n",
      "6          601         0.588650        0.015849           0.606828   \n",
      "7          701         0.585169        0.015606           0.603226   \n",
      "8          801         0.581760        0.015389           0.599705   \n",
      "9          901         0.578443        0.015189           0.596278   \n",
      "\n",
      "   split1_test_score  split2_test_score  split3_test_score  split4_test_score  \n",
      "0           0.617197           0.587114           0.617505           0.575153  \n",
      "1           0.616944           0.586095           0.615161           0.577944  \n",
      "2           0.614893           0.583704           0.611716           0.578063  \n",
      "3           0.611943           0.580666           0.607790           0.576689  \n",
      "4           0.608555           0.577348           0.603697           0.574483  \n",
      "5           0.604980           0.573943           0.599599           0.571825  \n",
      "6           0.601354           0.570553           0.595578           0.568937  \n",
      "7           0.597754           0.567232           0.591677           0.565953  \n",
      "8           0.594222           0.564007           0.587913           0.562952  \n",
      "9           0.590778           0.560888           0.584290           0.559980  \n"
     ]
    }
   ],
   "source": [
    "results = pd.DataFrame(grid.cv_results_)\n",
    "print(results[['param_alpha', 'mean_test_score', 'std_test_score', \n",
    "               'split0_test_score', 'split1_test_score', 'split2_test_score',\n",
    "               'split3_test_score', 'split4_test_score']])\n"
   ]
  },
  {
   "cell_type": "markdown",
   "id": "37f4eebb",
   "metadata": {},
   "source": [
    "### Lasso Regression\n",
    "\n",
    "可以将某些系数压缩为0，可以用于进行特征选择"
   ]
  },
  {
   "cell_type": "code",
   "execution_count": 35,
   "id": "6b812f35",
   "metadata": {},
   "outputs": [
    {
     "data": {
      "text/plain": [
       "[0.8343302417471552,\n",
       " 0.1283923151295832,\n",
       " -0.2717516851919096,\n",
       " 0.3072361927925217,\n",
       " 0.0005877597637465727,\n",
       " -0.04096776875874611,\n",
       " -0.8811497776007535,\n",
       " -0.852966760456658]"
      ]
     },
     "execution_count": 35,
     "metadata": {},
     "output_type": "execute_result"
    }
   ],
   "source": [
    "from sklearn.linear_model import Lasso, LinearRegression\n",
    "\n",
    "lrreg = LinearRegression().fit(xtrain, ytrain)\n",
    "lrreg.coef_.tolist()"
   ]
  },
  {
   "cell_type": "code",
   "execution_count": 36,
   "id": "d9ec4565",
   "metadata": {},
   "outputs": [
    {
     "data": {
      "text/plain": [
       "0.6043668160178817"
      ]
     },
     "execution_count": 36,
     "metadata": {},
     "output_type": "execute_result"
    }
   ],
   "source": [
    "lrreg.score(xtest, ytest)"
   ]
  },
  {
   "cell_type": "code",
   "execution_count": 37,
   "id": "a8cf9824",
   "metadata": {},
   "outputs": [
    {
     "data": {
      "text/plain": [
       "[0.09923322367656365,\n",
       " 0.017218685864444826,\n",
       " 0.019034636126251874,\n",
       " -0.00765928060319468,\n",
       " -0.0027619712737122636,\n",
       " -0.0034036021677309133,\n",
       " -0.021563558303481056,\n",
       " -0.008099856624331858]"
      ]
     },
     "execution_count": 37,
     "metadata": {},
     "output_type": "execute_result"
    }
   ],
   "source": [
    "ridgereg = Ridge(alpha=100000).fit(xtrain, ytrain)\n",
    "ridgereg.coef_.tolist()"
   ]
  },
  {
   "cell_type": "code",
   "execution_count": 38,
   "id": "73f42843",
   "metadata": {},
   "outputs": [
    {
     "data": {
      "text/plain": [
       "0.1223058740097106"
      ]
     },
     "execution_count": 38,
     "metadata": {},
     "output_type": "execute_result"
    }
   ],
   "source": [
    "ridgereg.score(xtest, ytest)"
   ]
  },
  {
   "cell_type": "code",
   "execution_count": 39,
   "id": "c0eeea33",
   "metadata": {},
   "outputs": [
    {
     "name": "stderr",
     "output_type": "stream",
     "text": [
      "d:\\anaconda\\envs\\mineenv\\lib\\site-packages\\sklearn\\base.py:1363: UserWarning: With alpha=0, this algorithm does not converge well. You are advised to use the LinearRegression estimator\n",
      "  return fit_method(estimator, *args, **kwargs)\n",
      "d:\\anaconda\\envs\\mineenv\\lib\\site-packages\\sklearn\\linear_model\\_coordinate_descent.py:695: UserWarning: Coordinate descent with no regularization may lead to unexpected results and is discouraged.\n",
      "  model = cd_fast.enet_coordinate_descent(\n",
      "d:\\anaconda\\envs\\mineenv\\lib\\site-packages\\sklearn\\linear_model\\_coordinate_descent.py:695: ConvergenceWarning: Objective did not converge. You might want to increase the number of iterations, check the scale of the features or consider increasing regularisation. Duality gap: 3.770e+03, tolerance: 1.917e+00\n",
      "Linear regression models with a zero l1 penalization strength are more efficiently fitted using one of the solvers implemented in sklearn.linear_model.Ridge/RidgeCV instead.\n",
      "  model = cd_fast.enet_coordinate_descent(\n"
     ]
    }
   ],
   "source": [
    "lasso = Lasso(alpha=0).fit(xtrain, ytrain)"
   ]
  },
  {
   "cell_type": "code",
   "execution_count": 40,
   "id": "32356d5d",
   "metadata": {},
   "outputs": [
    {
     "data": {
      "text/plain": [
       "[0.0, 0.0, 0.0, -0.0, -0.0, -0.0, -0.0, -0.0]"
      ]
     },
     "execution_count": 40,
     "metadata": {},
     "output_type": "execute_result"
    }
   ],
   "source": [
    "lasso = Lasso().fit(xtrain, ytrain)\n",
    "# 不给alpha的取值就不会警告\n",
    "lasso.coef_.tolist()\n",
    "# 系数都被缩小为0了，说明1这个正则化强度太强了"
   ]
  },
  {
   "cell_type": "code",
   "execution_count": 41,
   "id": "d295ad9b",
   "metadata": {},
   "outputs": [
    {
     "data": {
      "text/plain": [
       "[0.8289227099280785,\n",
       " 0.1286979523349944,\n",
       " -0.2576915274495252,\n",
       " 0.293099514748687,\n",
       " 0.0,\n",
       " -0.039870733497678224,\n",
       " -0.871087804881538,\n",
       " -0.8421076278378835]"
      ]
     },
     "execution_count": 41,
     "metadata": {},
     "output_type": "execute_result"
    }
   ],
   "source": [
    "lasso = Lasso(alpha=0.001).fit(xtrain, ytrain)\n",
    "lasso.coef_.tolist()\n"
   ]
  },
  {
   "cell_type": "code",
   "execution_count": 42,
   "id": "b8ab9818",
   "metadata": {},
   "outputs": [
    {
     "data": {
      "text/plain": [
       "0.6041820784046763"
      ]
     },
     "execution_count": 42,
     "metadata": {},
     "output_type": "execute_result"
    }
   ],
   "source": [
    "lasso.score(xtest, ytest)"
   ]
  },
  {
   "cell_type": "code",
   "execution_count": 43,
   "id": "5f84d68e",
   "metadata": {},
   "outputs": [
    {
     "data": {
      "image/png": "[encoded data removed]",
      "text/plain": [
       "<Figure size 640x480 with 1 Axes>"
      ]
     },
     "metadata": {},
     "output_type": "display_data"
    }
   ],
   "source": [
    "plt.plot(range(1, 9), (lrreg.coef_ * 100).tolist(), label = 'LR')\n",
    "plt.plot(range(1, 9), (ridgereg.coef_ * 100).tolist(), label = 'Ridge')\n",
    "plt.plot(range(1, 9), (lasso.coef_ * 100).tolist(), label = 'Lasso')\n",
    "plt.plot(range(1, 9), [0] * 8, linestyle = '--')\n",
    "plt.xlabel('w')\n",
    "plt.legend()\n",
    "plt.show()"
   ]
  },
  {
   "cell_type": "markdown",
   "id": "83e73483",
   "metadata": {},
   "source": [
    "#### 选择最佳正则化系数"
   ]
  },
  {
   "cell_type": "code",
   "execution_count": 44,
   "id": "4da1248d",
   "metadata": {},
   "outputs": [],
   "source": [
    "from sklearn.linear_model import LassoCV"
   ]
  },
  {
   "cell_type": "code",
   "execution_count": 45,
   "id": "4e655bf2",
   "metadata": {},
   "outputs": [],
   "source": [
    "alpharange = np.logspace(-10, -2, 200, base = 10)\n",
    "lasso_ = LassoCV(alphas=alpharange\n",
    "                 , cv = 5\n",
    "                 ).fit(xtrain, ytrain)\n"
   ]
  },
  {
   "cell_type": "code",
   "execution_count": 46,
   "id": "2698eab1",
   "metadata": {},
   "outputs": [
    {
     "data": {
      "text/plain": [
       "0.0015702901247293774"
      ]
     },
     "execution_count": 46,
     "metadata": {},
     "output_type": "execute_result"
    }
   ],
   "source": [
    "lasso_.alpha_\n",
    "# 被选择的最佳正则化参数"
   ]
  },
  {
   "cell_type": "code",
   "execution_count": 47,
   "id": "4d6d6317",
   "metadata": {},
   "outputs": [
    {
     "data": {
      "text/plain": [
       "array([[0.52486704, 0.49770832, 0.55992444, 0.50652539, 0.55643135],\n",
       "       [0.52388456, 0.49654603, 0.55890531, 0.5053951 , 0.55648267],\n",
       "       [0.52301426, 0.49552381, 0.55800023, 0.50440036, 0.55666724],\n",
       "       [0.52227761, 0.49467567, 0.5572348 , 0.50355648, 0.55694584],\n",
       "       [0.52165479, 0.49396472, 0.55657968, 0.50283082, 0.5572927 ],\n",
       "       [0.52112327, 0.49337292, 0.55602318, 0.50221089, 0.55768514],\n",
       "       [0.52067275, 0.49287612, 0.5555449 , 0.50167532, 0.55810653],\n",
       "       [0.52028673, 0.49246247, 0.55513747, 0.50121394, 0.5585438 ],\n",
       "       [0.51995866, 0.49211455, 0.55478567, 0.50081773, 0.55898643],\n",
       "       [0.51967632, 0.49182478, 0.55448309, 0.50047307, 0.55942583],\n",
       "       [0.51943569, 0.49158048, 0.55422415, 0.50017605, 0.55985763],\n",
       "       [0.5192276 , 0.49137551, 0.55399898, 0.49991634, 0.56027651],\n",
       "       [0.51904841, 0.49120472, 0.55380409, 0.49969023, 0.5606782 ],\n",
       "       [0.51889502, 0.49106022, 0.55363648, 0.49949434, 0.5610631 ],\n",
       "       [0.5187614 , 0.49093864, 0.55348961, 0.4993218 , 0.56142847],\n",
       "       [0.51864562, 0.49083632, 0.55336165, 0.49917061, 0.56177362],\n",
       "       [0.51854601, 0.49075092, 0.55325107, 0.49903789, 0.56209687],\n",
       "       [0.51845857, 0.49067825, 0.55315381, 0.49892207, 0.56240135],\n",
       "       [0.5183823 , 0.49061681, 0.55306943, 0.49881911, 0.56268584],\n",
       "       [0.51831567, 0.49056485, 0.5529954 , 0.49872814, 0.56295093],\n",
       "       [0.51825797, 0.49052127, 0.55293032, 0.49864766, 0.56319739],\n",
       "       [0.5182068 , 0.49048536, 0.55287369, 0.49857632, 0.56342465],\n",
       "       [0.51816178, 0.49045457, 0.5528231 , 0.49851297, 0.56363653],\n",
       "       [0.51812212, 0.49042841, 0.55277832, 0.49845663, 0.56383244],\n",
       "       [0.51808712, 0.4904062 , 0.55273864, 0.49840688, 0.56401331],\n",
       "       [0.51805617, 0.49038732, 0.55270342, 0.49836206, 0.56418009],\n",
       "       [0.51802911, 0.49037125, 0.55267212, 0.49832198, 0.56433372],\n",
       "       [0.51800479, 0.49035754, 0.55264424, 0.49828612, 0.56447507],\n",
       "       [0.51798313, 0.49034584, 0.55261939, 0.49825398, 0.56460503],\n",
       "       [0.51796385, 0.49033582, 0.55259718, 0.49822515, 0.5647244 ],\n",
       "       [0.51794664, 0.49032742, 0.55257762, 0.49819925, 0.56483398],\n",
       "       [0.51793128, 0.49032006, 0.55255957, 0.49817596, 0.5649345 ],\n",
       "       [0.51791747, 0.4903137 , 0.55254383, 0.498155  , 0.56502665],\n",
       "       [0.51790508, 0.49030821, 0.5525295 , 0.49813611, 0.5651104 ],\n",
       "       [0.51789397, 0.49030346, 0.55251661, 0.49811907, 0.56518842],\n",
       "       [0.51788399, 0.49029934, 0.552505  , 0.49810369, 0.56525865],\n",
       "       [0.51787502, 0.49029577, 0.55249454, 0.4980898 , 0.56532402],\n",
       "       [0.51786695, 0.49029267, 0.55248511, 0.49807724, 0.56538312],\n",
       "       [0.51785968, 0.49028996, 0.55247661, 0.49806587, 0.56543769],\n",
       "       [0.51785312, 0.49028759, 0.55246892, 0.49805569, 0.56548762],\n",
       "       [0.51784721, 0.49028552, 0.55246198, 0.49804628, 0.56553325],\n",
       "       [0.51784187, 0.4902837 , 0.5524557 , 0.49803792, 0.56557494],\n",
       "       [0.51783704, 0.49028211, 0.55245001, 0.49803041, 0.56561304],\n",
       "       [0.51783268, 0.4902807 , 0.55244487, 0.49802371, 0.56564784],\n",
       "       [0.51782873, 0.49027946, 0.5524402 , 0.49801757, 0.56567962],\n",
       "       [0.51782515, 0.49027836, 0.55243598, 0.49801199, 0.56570864],\n",
       "       [0.51782191, 0.49027739, 0.55243214, 0.49800693, 0.56573513],\n",
       "       [0.51781897, 0.49027652, 0.55242866, 0.49800233, 0.56575932],\n",
       "       [0.51781631, 0.49027576, 0.55242551, 0.49799816, 0.56578139],\n",
       "       [0.51781393, 0.49027507, 0.55242264, 0.49799436, 0.56580154],\n",
       "       [0.5178117 , 0.49027446, 0.55242003, 0.49799091, 0.56581992],\n",
       "       [0.51780974, 0.49027392, 0.55241767, 0.49798777, 0.5658367 ],\n",
       "       [0.5178079 , 0.49027343, 0.55241552, 0.49798492, 0.565852  ],\n",
       "       [0.51780628, 0.49027299, 0.55241356, 0.49798233, 0.56586597],\n",
       "       [0.51780476, 0.4902726 , 0.55241178, 0.49797997, 0.5658787 ],\n",
       "       [0.51780342, 0.49027225, 0.55241017, 0.49797782, 0.56589032],\n",
       "       [0.51780217, 0.49027193, 0.5524087 , 0.49797586, 0.56590092],\n",
       "       [0.51780106, 0.49027165, 0.55240736, 0.49797409, 0.56591059],\n",
       "       [0.51780002, 0.49027139, 0.55240614, 0.49797247, 0.5659194 ],\n",
       "       [0.51779911, 0.49027116, 0.55240503, 0.49797099, 0.56592744],\n",
       "       [0.51779825, 0.49027095, 0.55240402, 0.49796965, 0.56593478],\n",
       "       [0.51779749, 0.49027077, 0.55240311, 0.49796843, 0.56594146],\n",
       "       [0.51779678, 0.4902706 , 0.55240227, 0.49796731, 0.56594756],\n",
       "       [0.51779615, 0.49027044, 0.55240151, 0.4979663 , 0.56595312],\n",
       "       [0.51779557, 0.4902703 , 0.55240082, 0.49796538, 0.56595819],\n",
       "       [0.51779503, 0.49027018, 0.55240018, 0.49796453, 0.56596282],\n",
       "       [0.51779455, 0.49027006, 0.55239961, 0.49796377, 0.56596703],\n",
       "       [0.51779412, 0.49026996, 0.55239909, 0.49796307, 0.56597087],\n",
       "       [0.51779372, 0.49026986, 0.55239861, 0.49796243, 0.56597438],\n",
       "       [0.51779335, 0.49026978, 0.55239817, 0.49796185, 0.56597757],\n",
       "       [0.51779302, 0.4902697 , 0.55239778, 0.49796133, 0.56598049],\n",
       "       [0.51779272, 0.49026963, 0.55239742, 0.49796084, 0.56598314],\n",
       "       [0.51779244, 0.49026957, 0.55239709, 0.49796041, 0.56598556],\n",
       "       [0.51779219, 0.49026951, 0.55239679, 0.49796001, 0.56598777],\n",
       "       [0.51779196, 0.49026946, 0.55239651, 0.49795964, 0.56598978],\n",
       "       [0.51779175, 0.49026941, 0.55239627, 0.49795931, 0.56599162],\n",
       "       [0.51779156, 0.49026936, 0.55239604, 0.49795901, 0.56599329],\n",
       "       [0.51779139, 0.49026932, 0.55239583, 0.49795873, 0.56599482],\n",
       "       [0.51779123, 0.49026929, 0.55239564, 0.49795848, 0.56599621],\n",
       "       [0.51779109, 0.49026926, 0.55239547, 0.49795825, 0.56599748],\n",
       "       [0.51779096, 0.49026923, 0.55239532, 0.49795804, 0.56599863],\n",
       "       [0.51779084, 0.4902692 , 0.55239517, 0.49795785, 0.56599968],\n",
       "       [0.51779073, 0.49026917, 0.55239504, 0.49795768, 0.56600065],\n",
       "       [0.51779063, 0.49026915, 0.55239493, 0.49795752, 0.56600152],\n",
       "       [0.51779054, 0.49026913, 0.55239482, 0.49795738, 0.56600232],\n",
       "       [0.51779046, 0.49026911, 0.55239472, 0.49795725, 0.56600305],\n",
       "       [0.51779038, 0.4902691 , 0.55239463, 0.49795713, 0.56600371],\n",
       "       [0.51779031, 0.49026908, 0.55239455, 0.49795702, 0.56600431],\n",
       "       [0.51779025, 0.49026907, 0.55239447, 0.49795692, 0.56600487],\n",
       "       [0.51779019, 0.49026905, 0.55239441, 0.49795683, 0.56600537],\n",
       "       [0.51779014, 0.49026904, 0.55239434, 0.49795675, 0.56600583],\n",
       "       [0.5177901 , 0.49026903, 0.55239429, 0.49795667, 0.56600624],\n",
       "       [0.51779005, 0.49026902, 0.55239424, 0.4979566 , 0.56600662],\n",
       "       [0.51779001, 0.49026901, 0.55239419, 0.49795654, 0.56600697],\n",
       "       [0.51778998, 0.490269  , 0.55239415, 0.49795648, 0.56600729],\n",
       "       [0.51778994, 0.490269  , 0.55239411, 0.49795643, 0.56600758],\n",
       "       [0.51778991, 0.49026899, 0.55239407, 0.49795638, 0.56600784],\n",
       "       [0.51778989, 0.49026898, 0.55239404, 0.49795634, 0.56600808],\n",
       "       [0.51778986, 0.49026898, 0.55239401, 0.4979563 , 0.5660083 ],\n",
       "       [0.51778984, 0.49026897, 0.55239398, 0.49795626, 0.5660085 ],\n",
       "       [0.51778982, 0.49026897, 0.55239396, 0.49795623, 0.56600868],\n",
       "       [0.5177898 , 0.49026896, 0.55239394, 0.4979562 , 0.56600884],\n",
       "       [0.51778978, 0.49026896, 0.55239392, 0.49795617, 0.56600899],\n",
       "       [0.51778977, 0.49026896, 0.5523939 , 0.49795615, 0.56600913],\n",
       "       [0.51778975, 0.49026895, 0.55239388, 0.49795613, 0.56600926],\n",
       "       [0.51778974, 0.49026895, 0.55239386, 0.49795611, 0.56600937],\n",
       "       [0.51778973, 0.49026895, 0.55239385, 0.49795609, 0.56600948],\n",
       "       [0.51778972, 0.49026895, 0.55239384, 0.49795607, 0.56600957],\n",
       "       [0.51778971, 0.49026894, 0.55239383, 0.49795605, 0.56600966],\n",
       "       [0.5177897 , 0.49026894, 0.55239382, 0.49795604, 0.56600974],\n",
       "       [0.51778969, 0.49026894, 0.55239381, 0.49795603, 0.56600981],\n",
       "       [0.51778968, 0.49026894, 0.5523938 , 0.49795602, 0.56600987],\n",
       "       [0.51778968, 0.49026894, 0.55239379, 0.497956  , 0.56600993],\n",
       "       [0.51778967, 0.49026894, 0.55239378, 0.497956  , 0.56600999],\n",
       "       [0.51778967, 0.49026893, 0.55239377, 0.49795599, 0.56601004],\n",
       "       [0.51778966, 0.49026893, 0.55239377, 0.49795598, 0.56601008],\n",
       "       [0.51778966, 0.49026893, 0.55239376, 0.49795597, 0.56601012],\n",
       "       [0.51778965, 0.49026893, 0.55239376, 0.49795596, 0.56601016],\n",
       "       [0.51778965, 0.49026893, 0.55239375, 0.49795596, 0.5660102 ],\n",
       "       [0.51778964, 0.49026893, 0.55239375, 0.49795595, 0.56601023],\n",
       "       [0.51778964, 0.49026893, 0.55239375, 0.49795595, 0.56601026],\n",
       "       [0.51778964, 0.49026893, 0.55239374, 0.49795594, 0.56601028],\n",
       "       [0.51778964, 0.49026893, 0.55239374, 0.49795594, 0.56601031],\n",
       "       [0.51778963, 0.49026893, 0.55239374, 0.49795593, 0.56601033],\n",
       "       [0.51778963, 0.49026893, 0.55239373, 0.49795593, 0.56601035],\n",
       "       [0.51778963, 0.49026893, 0.55239373, 0.49795593, 0.56601037],\n",
       "       [0.51778963, 0.49026893, 0.55239373, 0.49795592, 0.56601038],\n",
       "       [0.51778963, 0.49026892, 0.55239373, 0.49795592, 0.5660104 ],\n",
       "       [0.51778962, 0.49026892, 0.55239372, 0.49795592, 0.56601041],\n",
       "       [0.51778962, 0.49026892, 0.55239372, 0.49795592, 0.56601042],\n",
       "       [0.51778962, 0.49026892, 0.55239372, 0.49795591, 0.56601043],\n",
       "       [0.51778962, 0.49026892, 0.55239372, 0.49795591, 0.56601044],\n",
       "       [0.51778962, 0.49026892, 0.55239372, 0.49795591, 0.56601045],\n",
       "       [0.51778962, 0.49026892, 0.55239372, 0.49795591, 0.56601046],\n",
       "       [0.51778962, 0.49026892, 0.55239372, 0.49795591, 0.56601047],\n",
       "       [0.51778962, 0.49026892, 0.55239372, 0.49795591, 0.56601048],\n",
       "       [0.51778962, 0.49026892, 0.55239371, 0.49795591, 0.56601048],\n",
       "       [0.51778962, 0.49026892, 0.55239371, 0.4979559 , 0.56601049],\n",
       "       [0.51778961, 0.49026892, 0.55239371, 0.4979559 , 0.56601049],\n",
       "       [0.51778961, 0.49026892, 0.55239371, 0.4979559 , 0.5660105 ],\n",
       "       [0.51778961, 0.49026892, 0.55239371, 0.4979559 , 0.5660105 ],\n",
       "       [0.51778961, 0.49026892, 0.55239371, 0.4979559 , 0.56601051],\n",
       "       [0.51778961, 0.49026892, 0.55239371, 0.4979559 , 0.56601051],\n",
       "       [0.51778961, 0.49026892, 0.55239371, 0.4979559 , 0.56601052],\n",
       "       [0.51778961, 0.49026892, 0.55239371, 0.4979559 , 0.56601052],\n",
       "       [0.51778961, 0.49026892, 0.55239371, 0.4979559 , 0.56601052],\n",
       "       [0.51778961, 0.49026892, 0.55239371, 0.4979559 , 0.56601052],\n",
       "       [0.51778961, 0.49026892, 0.55239371, 0.4979559 , 0.56601053],\n",
       "       [0.51778961, 0.49026892, 0.55239371, 0.4979559 , 0.56601053],\n",
       "       [0.51778961, 0.49026892, 0.55239371, 0.4979559 , 0.56601053],\n",
       "       [0.51778961, 0.49026892, 0.55239371, 0.4979559 , 0.56601053],\n",
       "       [0.51778961, 0.49026892, 0.55239371, 0.4979559 , 0.56601053],\n",
       "       [0.51778961, 0.49026892, 0.55239371, 0.4979559 , 0.56601053],\n",
       "       [0.51778961, 0.49026892, 0.55239371, 0.4979559 , 0.56601054],\n",
       "       [0.51778961, 0.49026892, 0.55239371, 0.4979559 , 0.56601054],\n",
       "       [0.51778961, 0.49026892, 0.55239371, 0.4979559 , 0.56601054],\n",
       "       [0.51778961, 0.49026892, 0.55239371, 0.4979559 , 0.56601054],\n",
       "       [0.51778961, 0.49026892, 0.55239371, 0.4979559 , 0.56601054],\n",
       "       [0.51778961, 0.49026892, 0.55239371, 0.4979559 , 0.56601054],\n",
       "       [0.51778961, 0.49026892, 0.55239371, 0.4979559 , 0.56601054],\n",
       "       [0.51778961, 0.49026892, 0.55239371, 0.4979559 , 0.56601054],\n",
       "       [0.51778961, 0.49026892, 0.55239371, 0.4979559 , 0.56601054],\n",
       "       [0.51778961, 0.49026892, 0.55239371, 0.4979559 , 0.56601054],\n",
       "       [0.51778961, 0.49026892, 0.55239371, 0.49795589, 0.56601054],\n",
       "       [0.51778961, 0.49026892, 0.55239371, 0.49795589, 0.56601055],\n",
       "       [0.51778961, 0.49026892, 0.55239371, 0.49795589, 0.56601055],\n",
       "       [0.51778961, 0.49026892, 0.55239371, 0.49795589, 0.56601055],\n",
       "       [0.51778961, 0.49026892, 0.55239371, 0.49795589, 0.56601055],\n",
       "       [0.51778961, 0.49026892, 0.55239371, 0.49795589, 0.56601055],\n",
       "       [0.51778961, 0.49026892, 0.55239371, 0.49795589, 0.56601055],\n",
       "       [0.51778961, 0.49026892, 0.55239371, 0.49795589, 0.56601055],\n",
       "       [0.51778961, 0.49026892, 0.55239371, 0.49795589, 0.56601055],\n",
       "       [0.51778961, 0.49026892, 0.55239371, 0.49795589, 0.56601055],\n",
       "       [0.51778961, 0.49026892, 0.55239371, 0.49795589, 0.56601055],\n",
       "       [0.51778961, 0.49026892, 0.55239371, 0.49795589, 0.56601055],\n",
       "       [0.51778961, 0.49026892, 0.55239371, 0.49795589, 0.56601055],\n",
       "       [0.51778961, 0.49026892, 0.55239371, 0.49795589, 0.56601055],\n",
       "       [0.51778961, 0.49026892, 0.55239371, 0.49795589, 0.56601055],\n",
       "       [0.51778961, 0.49026892, 0.55239371, 0.49795589, 0.56601055],\n",
       "       [0.51778961, 0.49026892, 0.55239371, 0.49795589, 0.56601055],\n",
       "       [0.51778961, 0.49026892, 0.55239371, 0.49795589, 0.56601055],\n",
       "       [0.51778961, 0.49026892, 0.55239371, 0.49795589, 0.56601055],\n",
       "       [0.51778961, 0.49026892, 0.55239371, 0.49795589, 0.56601055],\n",
       "       [0.51778961, 0.49026892, 0.55239371, 0.49795589, 0.56601055],\n",
       "       [0.51778961, 0.49026892, 0.55239371, 0.49795589, 0.56601055],\n",
       "       [0.51778961, 0.49026892, 0.55239371, 0.49795589, 0.56601055],\n",
       "       [0.51778961, 0.49026892, 0.55239371, 0.49795589, 0.56601055],\n",
       "       [0.51778961, 0.49026892, 0.55239371, 0.49795589, 0.56601055],\n",
       "       [0.51778961, 0.49026892, 0.55239371, 0.49795589, 0.56601055],\n",
       "       [0.51778961, 0.49026892, 0.55239371, 0.49795589, 0.56601055],\n",
       "       [0.51778961, 0.49026892, 0.55239371, 0.49795589, 0.56601055],\n",
       "       [0.51778961, 0.49026892, 0.55239371, 0.49795589, 0.56601055],\n",
       "       [0.51778961, 0.49026892, 0.55239371, 0.49795589, 0.56601055],\n",
       "       [0.51778961, 0.49026892, 0.55239371, 0.49795589, 0.56601055],\n",
       "       [0.51778961, 0.49026892, 0.55239371, 0.49795589, 0.56601055],\n",
       "       [0.51778961, 0.49026892, 0.55239371, 0.49795589, 0.56601055],\n",
       "       [0.51778961, 0.49026892, 0.55239371, 0.49795589, 0.56601055],\n",
       "       [0.51778961, 0.49026892, 0.55239371, 0.49795589, 0.56601055],\n",
       "       [0.51778961, 0.49026892, 0.55239371, 0.49795589, 0.56601055],\n",
       "       [0.51778961, 0.49026892, 0.55239371, 0.49795589, 0.56601055]])"
      ]
     },
     "execution_count": 47,
     "metadata": {},
     "output_type": "execute_result"
    }
   ],
   "source": [
    "lasso_.mse_path_\n",
    "# 所有交叉验证的结果"
   ]
  },
  {
   "cell_type": "code",
   "execution_count": 48,
   "id": "6d986909",
   "metadata": {},
   "outputs": [
    {
     "data": {
      "text/plain": [
       "(200, 5)"
      ]
     },
     "execution_count": 48,
     "metadata": {},
     "output_type": "execute_result"
    }
   ],
   "source": [
    "lasso_.mse_path_.shape"
   ]
  },
  {
   "cell_type": "code",
   "execution_count": 49,
   "id": "df267990",
   "metadata": {},
   "outputs": [
    {
     "data": {
      "text/plain": [
       "array([0.52909131, 0.52824273, 0.52752118, 0.52693808, 0.52646454,\n",
       "       0.52608308, 0.52577512, 0.52552888, 0.52533261, 0.52517662,\n",
       "       0.5250548 , 0.52495899, 0.52488513, 0.52482983, 0.52478798,\n",
       "       0.52475756, 0.52473655, 0.52472281, 0.5247147 , 0.524711  ,\n",
       "       0.52471092, 0.52471337, 0.52471779, 0.52472358, 0.52473043,\n",
       "       0.52473781, 0.52474564, 0.52475355, 0.52476147, 0.52476928,\n",
       "       0.52477698, 0.52478427, 0.52479133, 0.52479786, 0.52480431,\n",
       "       0.52481013, 0.52481583, 0.52482102, 0.52482596, 0.52483059,\n",
       "       0.52483485, 0.52483883, 0.52484252, 0.52484596, 0.52484912,\n",
       "       0.52485202, 0.5248547 , 0.52485716, 0.52485942, 0.52486151,\n",
       "       0.52486341, 0.52486516, 0.52486675, 0.52486823, 0.52486956,\n",
       "       0.5248708 , 0.52487192, 0.52487295, 0.52487389, 0.52487475,\n",
       "       0.52487553, 0.52487625, 0.5248769 , 0.5248775 , 0.52487805,\n",
       "       0.52487855, 0.524879  , 0.52487942, 0.5248798 , 0.52488015,\n",
       "       0.52488046, 0.52488075, 0.52488101, 0.52488125, 0.52488147,\n",
       "       0.52488167, 0.52488185, 0.52488202, 0.52488217, 0.52488231,\n",
       "       0.52488243, 0.52488255, 0.52488265, 0.52488275, 0.52488284,\n",
       "       0.52488292, 0.52488299, 0.52488305, 0.52488311, 0.52488317,\n",
       "       0.52488322, 0.52488327, 0.52488331, 0.52488334, 0.52488338,\n",
       "       0.52488341, 0.52488344, 0.52488347, 0.52488349, 0.52488351,\n",
       "       0.52488353, 0.52488355, 0.52488357, 0.52488358, 0.52488359,\n",
       "       0.52488361, 0.52488362, 0.52488363, 0.52488364, 0.52488365,\n",
       "       0.52488365, 0.52488366, 0.52488367, 0.52488367, 0.52488368,\n",
       "       0.52488368, 0.52488369, 0.52488369, 0.5248837 , 0.5248837 ,\n",
       "       0.5248837 , 0.52488371, 0.52488371, 0.52488371, 0.52488371,\n",
       "       0.52488372, 0.52488372, 0.52488372, 0.52488372, 0.52488372,\n",
       "       0.52488372, 0.52488372, 0.52488373, 0.52488373, 0.52488373,\n",
       "       0.52488373, 0.52488373, 0.52488373, 0.52488373, 0.52488373,\n",
       "       0.52488373, 0.52488373, 0.52488373, 0.52488373, 0.52488373,\n",
       "       0.52488373, 0.52488373, 0.52488373, 0.52488373, 0.52488373,\n",
       "       0.52488373, 0.52488373, 0.52488373, 0.52488373, 0.52488373,\n",
       "       0.52488373, 0.52488373, 0.52488373, 0.52488373, 0.52488373,\n",
       "       0.52488373, 0.52488374, 0.52488374, 0.52488374, 0.52488374,\n",
       "       0.52488374, 0.52488374, 0.52488374, 0.52488374, 0.52488374,\n",
       "       0.52488374, 0.52488374, 0.52488374, 0.52488374, 0.52488374,\n",
       "       0.52488374, 0.52488374, 0.52488374, 0.52488374, 0.52488374,\n",
       "       0.52488374, 0.52488374, 0.52488374, 0.52488374, 0.52488374,\n",
       "       0.52488374, 0.52488374, 0.52488374, 0.52488374, 0.52488374,\n",
       "       0.52488374, 0.52488374, 0.52488374, 0.52488374, 0.52488374,\n",
       "       0.52488374, 0.52488374, 0.52488374, 0.52488374, 0.52488374])"
      ]
     },
     "execution_count": 49,
     "metadata": {},
     "output_type": "execute_result"
    }
   ],
   "source": [
    "lasso_.mse_path_.mean(axis=1)"
   ]
  },
  {
   "cell_type": "code",
   "execution_count": 50,
   "id": "c38e1be6",
   "metadata": {},
   "outputs": [
    {
     "data": {
      "text/plain": [
       "array([ 0.82583823,  0.12898579, -0.24961531,  0.28501239,  0.        ,\n",
       "       -0.03927036, -0.86527073, -0.83586062])"
      ]
     },
     "execution_count": 50,
     "metadata": {},
     "output_type": "execute_result"
    }
   ],
   "source": [
    "# 最佳正则化系数下的系数\n",
    "lasso_.coef_"
   ]
  },
  {
   "cell_type": "code",
   "execution_count": 51,
   "id": "bec63c44",
   "metadata": {},
   "outputs": [
    {
     "data": {
      "text/plain": [
       "0.6040337271934113"
      ]
     },
     "execution_count": 51,
     "metadata": {},
     "output_type": "execute_result"
    }
   ],
   "source": [
    "lasso_.score(xtest, ytest)"
   ]
  },
  {
   "cell_type": "code",
   "execution_count": 52,
   "id": "45386975",
   "metadata": {},
   "outputs": [
    {
     "name": "stderr",
     "output_type": "stream",
     "text": [
      "d:\\anaconda\\envs\\mineenv\\lib\\site-packages\\sklearn\\linear_model\\_coordinate_descent.py:1613: FutureWarning: 'n_alphas' was deprecated in 1.7 and will be removed in 1.9. 'alphas' now accepts an integer value which removes the need to pass 'n_alphas'. The default value of 'alphas' will change from None to 100 in 1.9. Pass an explicit value to 'alphas' and leave 'n_alphas' to its default value to silence this warning.\n",
      "  warnings.warn(\n",
      "d:\\anaconda\\envs\\mineenv\\lib\\site-packages\\sklearn\\linear_model\\_coordinate_descent.py:681: ConvergenceWarning: Objective did not converge. You might want to increase the number of iterations, check the scale of the features or consider increasing regularisation. Duality gap: 2.038e+00, tolerance: 1.518e+00\n",
      "  model = cd_fast.enet_coordinate_descent_gram(\n",
      "d:\\anaconda\\envs\\mineenv\\lib\\site-packages\\sklearn\\linear_model\\_coordinate_descent.py:681: ConvergenceWarning: Objective did not converge. You might want to increase the number of iterations, check the scale of the features or consider increasing regularisation. Duality gap: 6.372e+00, tolerance: 1.518e+00\n",
      "  model = cd_fast.enet_coordinate_descent_gram(\n",
      "d:\\anaconda\\envs\\mineenv\\lib\\site-packages\\sklearn\\linear_model\\_coordinate_descent.py:681: ConvergenceWarning: Objective did not converge. You might want to increase the number of iterations, check the scale of the features or consider increasing regularisation. Duality gap: 4.467e+01, tolerance: 1.518e+00\n",
      "  model = cd_fast.enet_coordinate_descent_gram(\n",
      "d:\\anaconda\\envs\\mineenv\\lib\\site-packages\\sklearn\\linear_model\\_coordinate_descent.py:681: ConvergenceWarning: Objective did not converge. You might want to increase the number of iterations, check the scale of the features or consider increasing regularisation. Duality gap: 1.205e+02, tolerance: 1.518e+00\n",
      "  model = cd_fast.enet_coordinate_descent_gram(\n",
      "d:\\anaconda\\envs\\mineenv\\lib\\site-packages\\sklearn\\linear_model\\_coordinate_descent.py:681: ConvergenceWarning: Objective did not converge. You might want to increase the number of iterations, check the scale of the features or consider increasing regularisation. Duality gap: 2.182e+01, tolerance: 1.518e+00\n",
      "  model = cd_fast.enet_coordinate_descent_gram(\n",
      "d:\\anaconda\\envs\\mineenv\\lib\\site-packages\\sklearn\\linear_model\\_coordinate_descent.py:681: ConvergenceWarning: Objective did not converge. You might want to increase the number of iterations, check the scale of the features or consider increasing regularisation. Duality gap: 1.975e+00, tolerance: 1.518e+00\n",
      "  model = cd_fast.enet_coordinate_descent_gram(\n",
      "d:\\anaconda\\envs\\mineenv\\lib\\site-packages\\sklearn\\linear_model\\_coordinate_descent.py:681: ConvergenceWarning: Objective did not converge. You might want to increase the number of iterations, check the scale of the features or consider increasing regularisation. Duality gap: 4.551e+02, tolerance: 1.518e+00\n",
      "  model = cd_fast.enet_coordinate_descent_gram(\n",
      "d:\\anaconda\\envs\\mineenv\\lib\\site-packages\\sklearn\\linear_model\\_coordinate_descent.py:681: ConvergenceWarning: Objective did not converge. You might want to increase the number of iterations, check the scale of the features or consider increasing regularisation. Duality gap: 1.146e+03, tolerance: 1.518e+00\n",
      "  model = cd_fast.enet_coordinate_descent_gram(\n",
      "d:\\anaconda\\envs\\mineenv\\lib\\site-packages\\sklearn\\linear_model\\_coordinate_descent.py:681: ConvergenceWarning: Objective did not converge. You might want to increase the number of iterations, check the scale of the features or consider increasing regularisation. Duality gap: 1.294e+02, tolerance: 1.518e+00\n",
      "  model = cd_fast.enet_coordinate_descent_gram(\n",
      "d:\\anaconda\\envs\\mineenv\\lib\\site-packages\\sklearn\\linear_model\\_coordinate_descent.py:681: ConvergenceWarning: Objective did not converge. You might want to increase the number of iterations, check the scale of the features or consider increasing regularisation. Duality gap: 7.614e+02, tolerance: 1.518e+00\n",
      "  model = cd_fast.enet_coordinate_descent_gram(\n",
      "d:\\anaconda\\envs\\mineenv\\lib\\site-packages\\sklearn\\linear_model\\_coordinate_descent.py:681: ConvergenceWarning: Objective did not converge. You might want to increase the number of iterations, check the scale of the features or consider increasing regularisation. Duality gap: 1.427e+03, tolerance: 1.518e+00\n",
      "  model = cd_fast.enet_coordinate_descent_gram(\n",
      "d:\\anaconda\\envs\\mineenv\\lib\\site-packages\\sklearn\\linear_model\\_coordinate_descent.py:681: ConvergenceWarning: Objective did not converge. You might want to increase the number of iterations, check the scale of the features or consider increasing regularisation. Duality gap: 1.952e+03, tolerance: 1.518e+00\n",
      "  model = cd_fast.enet_coordinate_descent_gram(\n",
      "d:\\anaconda\\envs\\mineenv\\lib\\site-packages\\sklearn\\linear_model\\_coordinate_descent.py:681: ConvergenceWarning: Objective did not converge. You might want to increase the number of iterations, check the scale of the features or consider increasing regularisation. Duality gap: 2.323e+03, tolerance: 1.518e+00\n",
      "  model = cd_fast.enet_coordinate_descent_gram(\n",
      "d:\\anaconda\\envs\\mineenv\\lib\\site-packages\\sklearn\\linear_model\\_coordinate_descent.py:681: ConvergenceWarning: Objective did not converge. You might want to increase the number of iterations, check the scale of the features or consider increasing regularisation. Duality gap: 2.572e+03, tolerance: 1.518e+00\n",
      "  model = cd_fast.enet_coordinate_descent_gram(\n",
      "d:\\anaconda\\envs\\mineenv\\lib\\site-packages\\sklearn\\linear_model\\_coordinate_descent.py:681: ConvergenceWarning: Objective did not converge. You might want to increase the number of iterations, check the scale of the features or consider increasing regularisation. Duality gap: 2.735e+03, tolerance: 1.518e+00\n",
      "  model = cd_fast.enet_coordinate_descent_gram(\n",
      "d:\\anaconda\\envs\\mineenv\\lib\\site-packages\\sklearn\\linear_model\\_coordinate_descent.py:681: ConvergenceWarning: Objective did not converge. You might want to increase the number of iterations, check the scale of the features or consider increasing regularisation. Duality gap: 2.841e+03, tolerance: 1.518e+00\n",
      "  model = cd_fast.enet_coordinate_descent_gram(\n",
      "d:\\anaconda\\envs\\mineenv\\lib\\site-packages\\sklearn\\linear_model\\_coordinate_descent.py:681: ConvergenceWarning: Objective did not converge. You might want to increase the number of iterations, check the scale of the features or consider increasing regularisation. Duality gap: 2.908e+03, tolerance: 1.518e+00\n",
      "  model = cd_fast.enet_coordinate_descent_gram(\n",
      "d:\\anaconda\\envs\\mineenv\\lib\\site-packages\\sklearn\\linear_model\\_coordinate_descent.py:681: ConvergenceWarning: Objective did not converge. You might want to increase the number of iterations, check the scale of the features or consider increasing regularisation. Duality gap: 2.950e+03, tolerance: 1.518e+00\n",
      "  model = cd_fast.enet_coordinate_descent_gram(\n",
      "d:\\anaconda\\envs\\mineenv\\lib\\site-packages\\sklearn\\linear_model\\_coordinate_descent.py:681: ConvergenceWarning: Objective did not converge. You might want to increase the number of iterations, check the scale of the features or consider increasing regularisation. Duality gap: 2.977e+03, tolerance: 1.518e+00\n",
      "  model = cd_fast.enet_coordinate_descent_gram(\n",
      "d:\\anaconda\\envs\\mineenv\\lib\\site-packages\\sklearn\\linear_model\\_coordinate_descent.py:681: ConvergenceWarning: Objective did not converge. You might want to increase the number of iterations, check the scale of the features or consider increasing regularisation. Duality gap: 2.994e+03, tolerance: 1.518e+00\n",
      "  model = cd_fast.enet_coordinate_descent_gram(\n",
      "d:\\anaconda\\envs\\mineenv\\lib\\site-packages\\sklearn\\linear_model\\_coordinate_descent.py:681: ConvergenceWarning: Objective did not converge. You might want to increase the number of iterations, check the scale of the features or consider increasing regularisation. Duality gap: 3.004e+03, tolerance: 1.518e+00\n",
      "  model = cd_fast.enet_coordinate_descent_gram(\n",
      "d:\\anaconda\\envs\\mineenv\\lib\\site-packages\\sklearn\\linear_model\\_coordinate_descent.py:681: ConvergenceWarning: Objective did not converge. You might want to increase the number of iterations, check the scale of the features or consider increasing regularisation. Duality gap: 3.011e+03, tolerance: 1.518e+00\n",
      "  model = cd_fast.enet_coordinate_descent_gram(\n",
      "d:\\anaconda\\envs\\mineenv\\lib\\site-packages\\sklearn\\linear_model\\_coordinate_descent.py:681: ConvergenceWarning: Objective did not converge. You might want to increase the number of iterations, check the scale of the features or consider increasing regularisation. Duality gap: 3.015e+03, tolerance: 1.518e+00\n",
      "  model = cd_fast.enet_coordinate_descent_gram(\n",
      "d:\\anaconda\\envs\\mineenv\\lib\\site-packages\\sklearn\\linear_model\\_coordinate_descent.py:681: ConvergenceWarning: Objective did not converge. You might want to increase the number of iterations, check the scale of the features or consider increasing regularisation. Duality gap: 3.018e+03, tolerance: 1.518e+00\n",
      "  model = cd_fast.enet_coordinate_descent_gram(\n",
      "d:\\anaconda\\envs\\mineenv\\lib\\site-packages\\sklearn\\linear_model\\_coordinate_descent.py:681: ConvergenceWarning: Objective did not converge. You might want to increase the number of iterations, check the scale of the features or consider increasing regularisation. Duality gap: 3.020e+03, tolerance: 1.518e+00\n",
      "  model = cd_fast.enet_coordinate_descent_gram(\n",
      "d:\\anaconda\\envs\\mineenv\\lib\\site-packages\\sklearn\\linear_model\\_coordinate_descent.py:681: ConvergenceWarning: Objective did not converge. You might want to increase the number of iterations, check the scale of the features or consider increasing regularisation. Duality gap: 3.021e+03, tolerance: 1.518e+00\n",
      "  model = cd_fast.enet_coordinate_descent_gram(\n",
      "d:\\anaconda\\envs\\mineenv\\lib\\site-packages\\sklearn\\linear_model\\_coordinate_descent.py:681: ConvergenceWarning: Objective did not converge. You might want to increase the number of iterations, check the scale of the features or consider increasing regularisation. Duality gap: 3.021e+03, tolerance: 1.518e+00\n",
      "  model = cd_fast.enet_coordinate_descent_gram(\n",
      "d:\\anaconda\\envs\\mineenv\\lib\\site-packages\\sklearn\\linear_model\\_coordinate_descent.py:681: ConvergenceWarning: Objective did not converge. You might want to increase the number of iterations, check the scale of the features or consider increasing regularisation. Duality gap: 3.022e+03, tolerance: 1.518e+00\n",
      "  model = cd_fast.enet_coordinate_descent_gram(\n",
      "d:\\anaconda\\envs\\mineenv\\lib\\site-packages\\sklearn\\linear_model\\_coordinate_descent.py:681: ConvergenceWarning: Objective did not converge. You might want to increase the number of iterations, check the scale of the features or consider increasing regularisation. Duality gap: 1.013e+01, tolerance: 1.547e+00\n",
      "  model = cd_fast.enet_coordinate_descent_gram(\n",
      "d:\\anaconda\\envs\\mineenv\\lib\\site-packages\\sklearn\\linear_model\\_coordinate_descent.py:681: ConvergenceWarning: Objective did not converge. You might want to increase the number of iterations, check the scale of the features or consider increasing regularisation. Duality gap: 3.851e+01, tolerance: 1.547e+00\n",
      "  model = cd_fast.enet_coordinate_descent_gram(\n",
      "d:\\anaconda\\envs\\mineenv\\lib\\site-packages\\sklearn\\linear_model\\_coordinate_descent.py:681: ConvergenceWarning: Objective did not converge. You might want to increase the number of iterations, check the scale of the features or consider increasing regularisation. Duality gap: 5.144e+01, tolerance: 1.547e+00\n",
      "  model = cd_fast.enet_coordinate_descent_gram(\n",
      "d:\\anaconda\\envs\\mineenv\\lib\\site-packages\\sklearn\\linear_model\\_coordinate_descent.py:681: ConvergenceWarning: Objective did not converge. You might want to increase the number of iterations, check the scale of the features or consider increasing regularisation. Duality gap: 1.220e+02, tolerance: 1.547e+00\n",
      "  model = cd_fast.enet_coordinate_descent_gram(\n",
      "d:\\anaconda\\envs\\mineenv\\lib\\site-packages\\sklearn\\linear_model\\_coordinate_descent.py:681: ConvergenceWarning: Objective did not converge. You might want to increase the number of iterations, check the scale of the features or consider increasing regularisation. Duality gap: 9.064e+01, tolerance: 1.547e+00\n",
      "  model = cd_fast.enet_coordinate_descent_gram(\n",
      "d:\\anaconda\\envs\\mineenv\\lib\\site-packages\\sklearn\\linear_model\\_coordinate_descent.py:681: ConvergenceWarning: Objective did not converge. You might want to increase the number of iterations, check the scale of the features or consider increasing regularisation. Duality gap: 6.133e+02, tolerance: 1.547e+00\n",
      "  model = cd_fast.enet_coordinate_descent_gram(\n",
      "d:\\anaconda\\envs\\mineenv\\lib\\site-packages\\sklearn\\linear_model\\_coordinate_descent.py:681: ConvergenceWarning: Objective did not converge. You might want to increase the number of iterations, check the scale of the features or consider increasing regularisation. Duality gap: 6.060e+02, tolerance: 1.547e+00\n",
      "  model = cd_fast.enet_coordinate_descent_gram(\n",
      "d:\\anaconda\\envs\\mineenv\\lib\\site-packages\\sklearn\\linear_model\\_coordinate_descent.py:681: ConvergenceWarning: Objective did not converge. You might want to increase the number of iterations, check the scale of the features or consider increasing regularisation. Duality gap: 1.149e+03, tolerance: 1.547e+00\n",
      "  model = cd_fast.enet_coordinate_descent_gram(\n",
      "d:\\anaconda\\envs\\mineenv\\lib\\site-packages\\sklearn\\linear_model\\_coordinate_descent.py:681: ConvergenceWarning: Objective did not converge. You might want to increase the number of iterations, check the scale of the features or consider increasing regularisation. Duality gap: 1.535e+03, tolerance: 1.547e+00\n",
      "  model = cd_fast.enet_coordinate_descent_gram(\n",
      "d:\\anaconda\\envs\\mineenv\\lib\\site-packages\\sklearn\\linear_model\\_coordinate_descent.py:681: ConvergenceWarning: Objective did not converge. You might want to increase the number of iterations, check the scale of the features or consider increasing regularisation. Duality gap: 2.042e+03, tolerance: 1.547e+00\n",
      "  model = cd_fast.enet_coordinate_descent_gram(\n",
      "d:\\anaconda\\envs\\mineenv\\lib\\site-packages\\sklearn\\linear_model\\_coordinate_descent.py:681: ConvergenceWarning: Objective did not converge. You might want to increase the number of iterations, check the scale of the features or consider increasing regularisation. Duality gap: 2.398e+03, tolerance: 1.547e+00\n",
      "  model = cd_fast.enet_coordinate_descent_gram(\n",
      "d:\\anaconda\\envs\\mineenv\\lib\\site-packages\\sklearn\\linear_model\\_coordinate_descent.py:681: ConvergenceWarning: Objective did not converge. You might want to increase the number of iterations, check the scale of the features or consider increasing regularisation. Duality gap: 2.636e+03, tolerance: 1.547e+00\n",
      "  model = cd_fast.enet_coordinate_descent_gram(\n",
      "d:\\anaconda\\envs\\mineenv\\lib\\site-packages\\sklearn\\linear_model\\_coordinate_descent.py:681: ConvergenceWarning: Objective did not converge. You might want to increase the number of iterations, check the scale of the features or consider increasing regularisation. Duality gap: 2.791e+03, tolerance: 1.547e+00\n",
      "  model = cd_fast.enet_coordinate_descent_gram(\n",
      "d:\\anaconda\\envs\\mineenv\\lib\\site-packages\\sklearn\\linear_model\\_coordinate_descent.py:681: ConvergenceWarning: Objective did not converge. You might want to increase the number of iterations, check the scale of the features or consider increasing regularisation. Duality gap: 2.890e+03, tolerance: 1.547e+00\n",
      "  model = cd_fast.enet_coordinate_descent_gram(\n",
      "d:\\anaconda\\envs\\mineenv\\lib\\site-packages\\sklearn\\linear_model\\_coordinate_descent.py:681: ConvergenceWarning: Objective did not converge. You might want to increase the number of iterations, check the scale of the features or consider increasing regularisation. Duality gap: 2.954e+03, tolerance: 1.547e+00\n",
      "  model = cd_fast.enet_coordinate_descent_gram(\n",
      "d:\\anaconda\\envs\\mineenv\\lib\\site-packages\\sklearn\\linear_model\\_coordinate_descent.py:681: ConvergenceWarning: Objective did not converge. You might want to increase the number of iterations, check the scale of the features or consider increasing regularisation. Duality gap: 2.994e+03, tolerance: 1.547e+00\n",
      "  model = cd_fast.enet_coordinate_descent_gram(\n",
      "d:\\anaconda\\envs\\mineenv\\lib\\site-packages\\sklearn\\linear_model\\_coordinate_descent.py:681: ConvergenceWarning: Objective did not converge. You might want to increase the number of iterations, check the scale of the features or consider increasing regularisation. Duality gap: 3.019e+03, tolerance: 1.547e+00\n",
      "  model = cd_fast.enet_coordinate_descent_gram(\n",
      "d:\\anaconda\\envs\\mineenv\\lib\\site-packages\\sklearn\\linear_model\\_coordinate_descent.py:681: ConvergenceWarning: Objective did not converge. You might want to increase the number of iterations, check the scale of the features or consider increasing regularisation. Duality gap: 3.035e+03, tolerance: 1.547e+00\n",
      "  model = cd_fast.enet_coordinate_descent_gram(\n",
      "d:\\anaconda\\envs\\mineenv\\lib\\site-packages\\sklearn\\linear_model\\_coordinate_descent.py:681: ConvergenceWarning: Objective did not converge. You might want to increase the number of iterations, check the scale of the features or consider increasing regularisation. Duality gap: 3.046e+03, tolerance: 1.547e+00\n",
      "  model = cd_fast.enet_coordinate_descent_gram(\n",
      "d:\\anaconda\\envs\\mineenv\\lib\\site-packages\\sklearn\\linear_model\\_coordinate_descent.py:681: ConvergenceWarning: Objective did not converge. You might want to increase the number of iterations, check the scale of the features or consider increasing regularisation. Duality gap: 3.052e+03, tolerance: 1.547e+00\n",
      "  model = cd_fast.enet_coordinate_descent_gram(\n",
      "d:\\anaconda\\envs\\mineenv\\lib\\site-packages\\sklearn\\linear_model\\_coordinate_descent.py:681: ConvergenceWarning: Objective did not converge. You might want to increase the number of iterations, check the scale of the features or consider increasing regularisation. Duality gap: 3.056e+03, tolerance: 1.547e+00\n",
      "  model = cd_fast.enet_coordinate_descent_gram(\n",
      "d:\\anaconda\\envs\\mineenv\\lib\\site-packages\\sklearn\\linear_model\\_coordinate_descent.py:681: ConvergenceWarning: Objective did not converge. You might want to increase the number of iterations, check the scale of the features or consider increasing regularisation. Duality gap: 3.058e+03, tolerance: 1.547e+00\n",
      "  model = cd_fast.enet_coordinate_descent_gram(\n",
      "d:\\anaconda\\envs\\mineenv\\lib\\site-packages\\sklearn\\linear_model\\_coordinate_descent.py:681: ConvergenceWarning: Objective did not converge. You might want to increase the number of iterations, check the scale of the features or consider increasing regularisation. Duality gap: 3.060e+03, tolerance: 1.547e+00\n",
      "  model = cd_fast.enet_coordinate_descent_gram(\n",
      "d:\\anaconda\\envs\\mineenv\\lib\\site-packages\\sklearn\\linear_model\\_coordinate_descent.py:681: ConvergenceWarning: Objective did not converge. You might want to increase the number of iterations, check the scale of the features or consider increasing regularisation. Duality gap: 3.061e+03, tolerance: 1.547e+00\n",
      "  model = cd_fast.enet_coordinate_descent_gram(\n",
      "d:\\anaconda\\envs\\mineenv\\lib\\site-packages\\sklearn\\linear_model\\_coordinate_descent.py:681: ConvergenceWarning: Objective did not converge. You might want to increase the number of iterations, check the scale of the features or consider increasing regularisation. Duality gap: 3.062e+03, tolerance: 1.547e+00\n",
      "  model = cd_fast.enet_coordinate_descent_gram(\n",
      "d:\\anaconda\\envs\\mineenv\\lib\\site-packages\\sklearn\\linear_model\\_coordinate_descent.py:681: ConvergenceWarning: Objective did not converge. You might want to increase the number of iterations, check the scale of the features or consider increasing regularisation. Duality gap: 3.062e+03, tolerance: 1.547e+00\n",
      "  model = cd_fast.enet_coordinate_descent_gram(\n",
      "d:\\anaconda\\envs\\mineenv\\lib\\site-packages\\sklearn\\linear_model\\_coordinate_descent.py:681: ConvergenceWarning: Objective did not converge. You might want to increase the number of iterations, check the scale of the features or consider increasing regularisation. Duality gap: 2.424e+00, tolerance: 1.530e+00\n",
      "  model = cd_fast.enet_coordinate_descent_gram(\n",
      "d:\\anaconda\\envs\\mineenv\\lib\\site-packages\\sklearn\\linear_model\\_coordinate_descent.py:681: ConvergenceWarning: Objective did not converge. You might want to increase the number of iterations, check the scale of the features or consider increasing regularisation. Duality gap: 2.948e+01, tolerance: 1.530e+00\n",
      "  model = cd_fast.enet_coordinate_descent_gram(\n",
      "d:\\anaconda\\envs\\mineenv\\lib\\site-packages\\sklearn\\linear_model\\_coordinate_descent.py:681: ConvergenceWarning: Objective did not converge. You might want to increase the number of iterations, check the scale of the features or consider increasing regularisation. Duality gap: 5.025e+01, tolerance: 1.530e+00\n",
      "  model = cd_fast.enet_coordinate_descent_gram(\n",
      "d:\\anaconda\\envs\\mineenv\\lib\\site-packages\\sklearn\\linear_model\\_coordinate_descent.py:681: ConvergenceWarning: Objective did not converge. You might want to increase the number of iterations, check the scale of the features or consider increasing regularisation. Duality gap: 1.321e+02, tolerance: 1.530e+00\n",
      "  model = cd_fast.enet_coordinate_descent_gram(\n",
      "d:\\anaconda\\envs\\mineenv\\lib\\site-packages\\sklearn\\linear_model\\_coordinate_descent.py:681: ConvergenceWarning: Objective did not converge. You might want to increase the number of iterations, check the scale of the features or consider increasing regularisation. Duality gap: 3.457e+01, tolerance: 1.530e+00\n",
      "  model = cd_fast.enet_coordinate_descent_gram(\n",
      "d:\\anaconda\\envs\\mineenv\\lib\\site-packages\\sklearn\\linear_model\\_coordinate_descent.py:681: ConvergenceWarning: Objective did not converge. You might want to increase the number of iterations, check the scale of the features or consider increasing regularisation. Duality gap: 3.185e+01, tolerance: 1.530e+00\n",
      "  model = cd_fast.enet_coordinate_descent_gram(\n",
      "d:\\anaconda\\envs\\mineenv\\lib\\site-packages\\sklearn\\linear_model\\_coordinate_descent.py:681: ConvergenceWarning: Objective did not converge. You might want to increase the number of iterations, check the scale of the features or consider increasing regularisation. Duality gap: 3.857e+02, tolerance: 1.530e+00\n",
      "  model = cd_fast.enet_coordinate_descent_gram(\n",
      "d:\\anaconda\\envs\\mineenv\\lib\\site-packages\\sklearn\\linear_model\\_coordinate_descent.py:681: ConvergenceWarning: Objective did not converge. You might want to increase the number of iterations, check the scale of the features or consider increasing regularisation. Duality gap: 1.064e+03, tolerance: 1.530e+00\n",
      "  model = cd_fast.enet_coordinate_descent_gram(\n",
      "d:\\anaconda\\envs\\mineenv\\lib\\site-packages\\sklearn\\linear_model\\_coordinate_descent.py:681: ConvergenceWarning: Objective did not converge. You might want to increase the number of iterations, check the scale of the features or consider increasing regularisation. Duality gap: 2.784e+02, tolerance: 1.530e+00\n",
      "  model = cd_fast.enet_coordinate_descent_gram(\n",
      "d:\\anaconda\\envs\\mineenv\\lib\\site-packages\\sklearn\\linear_model\\_coordinate_descent.py:681: ConvergenceWarning: Objective did not converge. You might want to increase the number of iterations, check the scale of the features or consider increasing regularisation. Duality gap: 9.461e+02, tolerance: 1.530e+00\n",
      "  model = cd_fast.enet_coordinate_descent_gram(\n",
      "d:\\anaconda\\envs\\mineenv\\lib\\site-packages\\sklearn\\linear_model\\_coordinate_descent.py:681: ConvergenceWarning: Objective did not converge. You might want to increase the number of iterations, check the scale of the features or consider increasing regularisation. Duality gap: 1.568e+03, tolerance: 1.530e+00\n",
      "  model = cd_fast.enet_coordinate_descent_gram(\n",
      "d:\\anaconda\\envs\\mineenv\\lib\\site-packages\\sklearn\\linear_model\\_coordinate_descent.py:681: ConvergenceWarning: Objective did not converge. You might want to increase the number of iterations, check the scale of the features or consider increasing regularisation. Duality gap: 2.038e+03, tolerance: 1.530e+00\n",
      "  model = cd_fast.enet_coordinate_descent_gram(\n",
      "d:\\anaconda\\envs\\mineenv\\lib\\site-packages\\sklearn\\linear_model\\_coordinate_descent.py:681: ConvergenceWarning: Objective did not converge. You might want to increase the number of iterations, check the scale of the features or consider increasing regularisation. Duality gap: 2.365e+03, tolerance: 1.530e+00\n",
      "  model = cd_fast.enet_coordinate_descent_gram(\n",
      "d:\\anaconda\\envs\\mineenv\\lib\\site-packages\\sklearn\\linear_model\\_coordinate_descent.py:681: ConvergenceWarning: Objective did not converge. You might want to increase the number of iterations, check the scale of the features or consider increasing regularisation. Duality gap: 2.583e+03, tolerance: 1.530e+00\n",
      "  model = cd_fast.enet_coordinate_descent_gram(\n",
      "d:\\anaconda\\envs\\mineenv\\lib\\site-packages\\sklearn\\linear_model\\_coordinate_descent.py:681: ConvergenceWarning: Objective did not converge. You might want to increase the number of iterations, check the scale of the features or consider increasing regularisation. Duality gap: 2.725e+03, tolerance: 1.530e+00\n",
      "  model = cd_fast.enet_coordinate_descent_gram(\n",
      "d:\\anaconda\\envs\\mineenv\\lib\\site-packages\\sklearn\\linear_model\\_coordinate_descent.py:681: ConvergenceWarning: Objective did not converge. You might want to increase the number of iterations, check the scale of the features or consider increasing regularisation. Duality gap: 2.816e+03, tolerance: 1.530e+00\n",
      "  model = cd_fast.enet_coordinate_descent_gram(\n",
      "d:\\anaconda\\envs\\mineenv\\lib\\site-packages\\sklearn\\linear_model\\_coordinate_descent.py:681: ConvergenceWarning: Objective did not converge. You might want to increase the number of iterations, check the scale of the features or consider increasing regularisation. Duality gap: 2.873e+03, tolerance: 1.530e+00\n",
      "  model = cd_fast.enet_coordinate_descent_gram(\n",
      "d:\\anaconda\\envs\\mineenv\\lib\\site-packages\\sklearn\\linear_model\\_coordinate_descent.py:681: ConvergenceWarning: Objective did not converge. You might want to increase the number of iterations, check the scale of the features or consider increasing regularisation. Duality gap: 2.910e+03, tolerance: 1.530e+00\n",
      "  model = cd_fast.enet_coordinate_descent_gram(\n",
      "d:\\anaconda\\envs\\mineenv\\lib\\site-packages\\sklearn\\linear_model\\_coordinate_descent.py:681: ConvergenceWarning: Objective did not converge. You might want to increase the number of iterations, check the scale of the features or consider increasing regularisation. Duality gap: 2.933e+03, tolerance: 1.530e+00\n",
      "  model = cd_fast.enet_coordinate_descent_gram(\n",
      "d:\\anaconda\\envs\\mineenv\\lib\\site-packages\\sklearn\\linear_model\\_coordinate_descent.py:681: ConvergenceWarning: Objective did not converge. You might want to increase the number of iterations, check the scale of the features or consider increasing regularisation. Duality gap: 2.948e+03, tolerance: 1.530e+00\n",
      "  model = cd_fast.enet_coordinate_descent_gram(\n",
      "d:\\anaconda\\envs\\mineenv\\lib\\site-packages\\sklearn\\linear_model\\_coordinate_descent.py:681: ConvergenceWarning: Objective did not converge. You might want to increase the number of iterations, check the scale of the features or consider increasing regularisation. Duality gap: 2.965e+03, tolerance: 1.530e+00\n",
      "  model = cd_fast.enet_coordinate_descent_gram(\n",
      "d:\\anaconda\\envs\\mineenv\\lib\\site-packages\\sklearn\\linear_model\\_coordinate_descent.py:681: ConvergenceWarning: Objective did not converge. You might want to increase the number of iterations, check the scale of the features or consider increasing regularisation. Duality gap: 2.963e+03, tolerance: 1.530e+00\n",
      "  model = cd_fast.enet_coordinate_descent_gram(\n",
      "d:\\anaconda\\envs\\mineenv\\lib\\site-packages\\sklearn\\linear_model\\_coordinate_descent.py:681: ConvergenceWarning: Objective did not converge. You might want to increase the number of iterations, check the scale of the features or consider increasing regularisation. Duality gap: 2.966e+03, tolerance: 1.530e+00\n",
      "  model = cd_fast.enet_coordinate_descent_gram(\n",
      "d:\\anaconda\\envs\\mineenv\\lib\\site-packages\\sklearn\\linear_model\\_coordinate_descent.py:681: ConvergenceWarning: Objective did not converge. You might want to increase the number of iterations, check the scale of the features or consider increasing regularisation. Duality gap: 2.969e+03, tolerance: 1.530e+00\n",
      "  model = cd_fast.enet_coordinate_descent_gram(\n",
      "d:\\anaconda\\envs\\mineenv\\lib\\site-packages\\sklearn\\linear_model\\_coordinate_descent.py:681: ConvergenceWarning: Objective did not converge. You might want to increase the number of iterations, check the scale of the features or consider increasing regularisation. Duality gap: 2.970e+03, tolerance: 1.530e+00\n",
      "  model = cd_fast.enet_coordinate_descent_gram(\n",
      "d:\\anaconda\\envs\\mineenv\\lib\\site-packages\\sklearn\\linear_model\\_coordinate_descent.py:681: ConvergenceWarning: Objective did not converge. You might want to increase the number of iterations, check the scale of the features or consider increasing regularisation. Duality gap: 2.971e+03, tolerance: 1.530e+00\n",
      "  model = cd_fast.enet_coordinate_descent_gram(\n",
      "d:\\anaconda\\envs\\mineenv\\lib\\site-packages\\sklearn\\linear_model\\_coordinate_descent.py:681: ConvergenceWarning: Objective did not converge. You might want to increase the number of iterations, check the scale of the features or consider increasing regularisation. Duality gap: 2.972e+03, tolerance: 1.530e+00\n",
      "  model = cd_fast.enet_coordinate_descent_gram(\n",
      "d:\\anaconda\\envs\\mineenv\\lib\\site-packages\\sklearn\\linear_model\\_coordinate_descent.py:681: ConvergenceWarning: Objective did not converge. You might want to increase the number of iterations, check the scale of the features or consider increasing regularisation. Duality gap: 2.972e+03, tolerance: 1.530e+00\n",
      "  model = cd_fast.enet_coordinate_descent_gram(\n",
      "d:\\anaconda\\envs\\mineenv\\lib\\site-packages\\sklearn\\linear_model\\_coordinate_descent.py:681: ConvergenceWarning: Objective did not converge. You might want to increase the number of iterations, check the scale of the features or consider increasing regularisation. Duality gap: 3.328e+00, tolerance: 1.541e+00\n",
      "  model = cd_fast.enet_coordinate_descent_gram(\n",
      "d:\\anaconda\\envs\\mineenv\\lib\\site-packages\\sklearn\\linear_model\\_coordinate_descent.py:681: ConvergenceWarning: Objective did not converge. You might want to increase the number of iterations, check the scale of the features or consider increasing regularisation. Duality gap: 3.307e+01, tolerance: 1.541e+00\n",
      "  model = cd_fast.enet_coordinate_descent_gram(\n",
      "d:\\anaconda\\envs\\mineenv\\lib\\site-packages\\sklearn\\linear_model\\_coordinate_descent.py:681: ConvergenceWarning: Objective did not converge. You might want to increase the number of iterations, check the scale of the features or consider increasing regularisation. Duality gap: 9.496e+01, tolerance: 1.541e+00\n",
      "  model = cd_fast.enet_coordinate_descent_gram(\n",
      "d:\\anaconda\\envs\\mineenv\\lib\\site-packages\\sklearn\\linear_model\\_coordinate_descent.py:681: ConvergenceWarning: Objective did not converge. You might want to increase the number of iterations, check the scale of the features or consider increasing regularisation. Duality gap: 3.543e+01, tolerance: 1.541e+00\n",
      "  model = cd_fast.enet_coordinate_descent_gram(\n",
      "d:\\anaconda\\envs\\mineenv\\lib\\site-packages\\sklearn\\linear_model\\_coordinate_descent.py:681: ConvergenceWarning: Objective did not converge. You might want to increase the number of iterations, check the scale of the features or consider increasing regularisation. Duality gap: 1.332e+01, tolerance: 1.541e+00\n",
      "  model = cd_fast.enet_coordinate_descent_gram(\n",
      "d:\\anaconda\\envs\\mineenv\\lib\\site-packages\\sklearn\\linear_model\\_coordinate_descent.py:681: ConvergenceWarning: Objective did not converge. You might want to increase the number of iterations, check the scale of the features or consider increasing regularisation. Duality gap: 3.317e+02, tolerance: 1.541e+00\n",
      "  model = cd_fast.enet_coordinate_descent_gram(\n",
      "d:\\anaconda\\envs\\mineenv\\lib\\site-packages\\sklearn\\linear_model\\_coordinate_descent.py:681: ConvergenceWarning: Objective did not converge. You might want to increase the number of iterations, check the scale of the features or consider increasing regularisation. Duality gap: 1.023e+03, tolerance: 1.541e+00\n",
      "  model = cd_fast.enet_coordinate_descent_gram(\n",
      "d:\\anaconda\\envs\\mineenv\\lib\\site-packages\\sklearn\\linear_model\\_coordinate_descent.py:681: ConvergenceWarning: Objective did not converge. You might want to increase the number of iterations, check the scale of the features or consider increasing regularisation. Duality gap: 2.857e+02, tolerance: 1.541e+00\n",
      "  model = cd_fast.enet_coordinate_descent_gram(\n",
      "d:\\anaconda\\envs\\mineenv\\lib\\site-packages\\sklearn\\linear_model\\_coordinate_descent.py:681: ConvergenceWarning: Objective did not converge. You might want to increase the number of iterations, check the scale of the features or consider increasing regularisation. Duality gap: 2.794e+02, tolerance: 1.541e+00\n",
      "  model = cd_fast.enet_coordinate_descent_gram(\n",
      "d:\\anaconda\\envs\\mineenv\\lib\\site-packages\\sklearn\\linear_model\\_coordinate_descent.py:681: ConvergenceWarning: Objective did not converge. You might want to increase the number of iterations, check the scale of the features or consider increasing regularisation. Duality gap: 9.638e+02, tolerance: 1.541e+00\n",
      "  model = cd_fast.enet_coordinate_descent_gram(\n",
      "d:\\anaconda\\envs\\mineenv\\lib\\site-packages\\sklearn\\linear_model\\_coordinate_descent.py:681: ConvergenceWarning: Objective did not converge. You might want to increase the number of iterations, check the scale of the features or consider increasing regularisation. Duality gap: 1.604e+03, tolerance: 1.541e+00\n",
      "  model = cd_fast.enet_coordinate_descent_gram(\n",
      "d:\\anaconda\\envs\\mineenv\\lib\\site-packages\\sklearn\\linear_model\\_coordinate_descent.py:681: ConvergenceWarning: Objective did not converge. You might want to increase the number of iterations, check the scale of the features or consider increasing regularisation. Duality gap: 2.088e+03, tolerance: 1.541e+00\n",
      "  model = cd_fast.enet_coordinate_descent_gram(\n",
      "d:\\anaconda\\envs\\mineenv\\lib\\site-packages\\sklearn\\linear_model\\_coordinate_descent.py:681: ConvergenceWarning: Objective did not converge. You might want to increase the number of iterations, check the scale of the features or consider increasing regularisation. Duality gap: 2.525e+03, tolerance: 1.541e+00\n",
      "  model = cd_fast.enet_coordinate_descent_gram(\n",
      "d:\\anaconda\\envs\\mineenv\\lib\\site-packages\\sklearn\\linear_model\\_coordinate_descent.py:681: ConvergenceWarning: Objective did not converge. You might want to increase the number of iterations, check the scale of the features or consider increasing regularisation. Duality gap: 2.650e+03, tolerance: 1.541e+00\n",
      "  model = cd_fast.enet_coordinate_descent_gram(\n",
      "d:\\anaconda\\envs\\mineenv\\lib\\site-packages\\sklearn\\linear_model\\_coordinate_descent.py:681: ConvergenceWarning: Objective did not converge. You might want to increase the number of iterations, check the scale of the features or consider increasing regularisation. Duality gap: 2.796e+03, tolerance: 1.541e+00\n",
      "  model = cd_fast.enet_coordinate_descent_gram(\n",
      "d:\\anaconda\\envs\\mineenv\\lib\\site-packages\\sklearn\\linear_model\\_coordinate_descent.py:681: ConvergenceWarning: Objective did not converge. You might want to increase the number of iterations, check the scale of the features or consider increasing regularisation. Duality gap: 2.916e+03, tolerance: 1.541e+00\n",
      "  model = cd_fast.enet_coordinate_descent_gram(\n",
      "d:\\anaconda\\envs\\mineenv\\lib\\site-packages\\sklearn\\linear_model\\_coordinate_descent.py:681: ConvergenceWarning: Objective did not converge. You might want to increase the number of iterations, check the scale of the features or consider increasing regularisation. Duality gap: 2.966e+03, tolerance: 1.541e+00\n",
      "  model = cd_fast.enet_coordinate_descent_gram(\n",
      "d:\\anaconda\\envs\\mineenv\\lib\\site-packages\\sklearn\\linear_model\\_coordinate_descent.py:681: ConvergenceWarning: Objective did not converge. You might want to increase the number of iterations, check the scale of the features or consider increasing regularisation. Duality gap: 2.987e+03, tolerance: 1.541e+00\n",
      "  model = cd_fast.enet_coordinate_descent_gram(\n",
      "d:\\anaconda\\envs\\mineenv\\lib\\site-packages\\sklearn\\linear_model\\_coordinate_descent.py:681: ConvergenceWarning: Objective did not converge. You might want to increase the number of iterations, check the scale of the features or consider increasing regularisation. Duality gap: 3.011e+03, tolerance: 1.541e+00\n",
      "  model = cd_fast.enet_coordinate_descent_gram(\n",
      "d:\\anaconda\\envs\\mineenv\\lib\\site-packages\\sklearn\\linear_model\\_coordinate_descent.py:681: ConvergenceWarning: Objective did not converge. You might want to increase the number of iterations, check the scale of the features or consider increasing regularisation. Duality gap: 3.030e+03, tolerance: 1.541e+00\n",
      "  model = cd_fast.enet_coordinate_descent_gram(\n",
      "d:\\anaconda\\envs\\mineenv\\lib\\site-packages\\sklearn\\linear_model\\_coordinate_descent.py:681: ConvergenceWarning: Objective did not converge. You might want to increase the number of iterations, check the scale of the features or consider increasing regularisation. Duality gap: 3.038e+03, tolerance: 1.541e+00\n",
      "  model = cd_fast.enet_coordinate_descent_gram(\n",
      "d:\\anaconda\\envs\\mineenv\\lib\\site-packages\\sklearn\\linear_model\\_coordinate_descent.py:681: ConvergenceWarning: Objective did not converge. You might want to increase the number of iterations, check the scale of the features or consider increasing regularisation. Duality gap: 3.041e+03, tolerance: 1.541e+00\n",
      "  model = cd_fast.enet_coordinate_descent_gram(\n",
      "d:\\anaconda\\envs\\mineenv\\lib\\site-packages\\sklearn\\linear_model\\_coordinate_descent.py:681: ConvergenceWarning: Objective did not converge. You might want to increase the number of iterations, check the scale of the features or consider increasing regularisation. Duality gap: 3.045e+03, tolerance: 1.541e+00\n",
      "  model = cd_fast.enet_coordinate_descent_gram(\n",
      "d:\\anaconda\\envs\\mineenv\\lib\\site-packages\\sklearn\\linear_model\\_coordinate_descent.py:681: ConvergenceWarning: Objective did not converge. You might want to increase the number of iterations, check the scale of the features or consider increasing regularisation. Duality gap: 3.048e+03, tolerance: 1.541e+00\n",
      "  model = cd_fast.enet_coordinate_descent_gram(\n",
      "d:\\anaconda\\envs\\mineenv\\lib\\site-packages\\sklearn\\linear_model\\_coordinate_descent.py:681: ConvergenceWarning: Objective did not converge. You might want to increase the number of iterations, check the scale of the features or consider increasing regularisation. Duality gap: 3.049e+03, tolerance: 1.541e+00\n",
      "  model = cd_fast.enet_coordinate_descent_gram(\n",
      "d:\\anaconda\\envs\\mineenv\\lib\\site-packages\\sklearn\\linear_model\\_coordinate_descent.py:681: ConvergenceWarning: Objective did not converge. You might want to increase the number of iterations, check the scale of the features or consider increasing regularisation. Duality gap: 3.050e+03, tolerance: 1.541e+00\n",
      "  model = cd_fast.enet_coordinate_descent_gram(\n",
      "d:\\anaconda\\envs\\mineenv\\lib\\site-packages\\sklearn\\linear_model\\_coordinate_descent.py:681: ConvergenceWarning: Objective did not converge. You might want to increase the number of iterations, check the scale of the features or consider increasing regularisation. Duality gap: 3.050e+03, tolerance: 1.541e+00\n",
      "  model = cd_fast.enet_coordinate_descent_gram(\n",
      "d:\\anaconda\\envs\\mineenv\\lib\\site-packages\\sklearn\\linear_model\\_coordinate_descent.py:681: ConvergenceWarning: Objective did not converge. You might want to increase the number of iterations, check the scale of the features or consider increasing regularisation. Duality gap: 3.231e+00, tolerance: 1.532e+00\n",
      "  model = cd_fast.enet_coordinate_descent_gram(\n",
      "d:\\anaconda\\envs\\mineenv\\lib\\site-packages\\sklearn\\linear_model\\_coordinate_descent.py:681: ConvergenceWarning: Objective did not converge. You might want to increase the number of iterations, check the scale of the features or consider increasing regularisation. Duality gap: 3.210e+01, tolerance: 1.532e+00\n",
      "  model = cd_fast.enet_coordinate_descent_gram(\n",
      "d:\\anaconda\\envs\\mineenv\\lib\\site-packages\\sklearn\\linear_model\\_coordinate_descent.py:681: ConvergenceWarning: Objective did not converge. You might want to increase the number of iterations, check the scale of the features or consider increasing regularisation. Duality gap: 9.218e+01, tolerance: 1.532e+00\n",
      "  model = cd_fast.enet_coordinate_descent_gram(\n",
      "d:\\anaconda\\envs\\mineenv\\lib\\site-packages\\sklearn\\linear_model\\_coordinate_descent.py:681: ConvergenceWarning: Objective did not converge. You might want to increase the number of iterations, check the scale of the features or consider increasing regularisation. Duality gap: 1.095e+01, tolerance: 1.532e+00\n",
      "  model = cd_fast.enet_coordinate_descent_gram(\n",
      "d:\\anaconda\\envs\\mineenv\\lib\\site-packages\\sklearn\\linear_model\\_coordinate_descent.py:681: ConvergenceWarning: Objective did not converge. You might want to increase the number of iterations, check the scale of the features or consider increasing regularisation. Duality gap: 5.635e+01, tolerance: 1.532e+00\n",
      "  model = cd_fast.enet_coordinate_descent_gram(\n",
      "d:\\anaconda\\envs\\mineenv\\lib\\site-packages\\sklearn\\linear_model\\_coordinate_descent.py:681: ConvergenceWarning: Objective did not converge. You might want to increase the number of iterations, check the scale of the features or consider increasing regularisation. Duality gap: 3.220e+02, tolerance: 1.532e+00\n",
      "  model = cd_fast.enet_coordinate_descent_gram(\n",
      "d:\\anaconda\\envs\\mineenv\\lib\\site-packages\\sklearn\\linear_model\\_coordinate_descent.py:681: ConvergenceWarning: Objective did not converge. You might want to increase the number of iterations, check the scale of the features or consider increasing regularisation. Duality gap: 9.931e+02, tolerance: 1.532e+00\n",
      "  model = cd_fast.enet_coordinate_descent_gram(\n",
      "d:\\anaconda\\envs\\mineenv\\lib\\site-packages\\sklearn\\linear_model\\_coordinate_descent.py:681: ConvergenceWarning: Objective did not converge. You might want to increase the number of iterations, check the scale of the features or consider increasing regularisation. Duality gap: 5.860e+02, tolerance: 1.532e+00\n",
      "  model = cd_fast.enet_coordinate_descent_gram(\n",
      "d:\\anaconda\\envs\\mineenv\\lib\\site-packages\\sklearn\\linear_model\\_coordinate_descent.py:681: ConvergenceWarning: Objective did not converge. You might want to increase the number of iterations, check the scale of the features or consider increasing regularisation. Duality gap: 2.713e+02, tolerance: 1.532e+00\n",
      "  model = cd_fast.enet_coordinate_descent_gram(\n",
      "d:\\anaconda\\envs\\mineenv\\lib\\site-packages\\sklearn\\linear_model\\_coordinate_descent.py:681: ConvergenceWarning: Objective did not converge. You might want to increase the number of iterations, check the scale of the features or consider increasing regularisation. Duality gap: 1.562e+03, tolerance: 1.532e+00\n",
      "  model = cd_fast.enet_coordinate_descent_gram(\n",
      "d:\\anaconda\\envs\\mineenv\\lib\\site-packages\\sklearn\\linear_model\\_coordinate_descent.py:681: ConvergenceWarning: Objective did not converge. You might want to increase the number of iterations, check the scale of the features or consider increasing regularisation. Duality gap: 1.557e+03, tolerance: 1.532e+00\n",
      "  model = cd_fast.enet_coordinate_descent_gram(\n",
      "d:\\anaconda\\envs\\mineenv\\lib\\site-packages\\sklearn\\linear_model\\_coordinate_descent.py:681: ConvergenceWarning: Objective did not converge. You might want to increase the number of iterations, check the scale of the features or consider increasing regularisation. Duality gap: 2.027e+03, tolerance: 1.532e+00\n",
      "  model = cd_fast.enet_coordinate_descent_gram(\n",
      "d:\\anaconda\\envs\\mineenv\\lib\\site-packages\\sklearn\\linear_model\\_coordinate_descent.py:681: ConvergenceWarning: Objective did not converge. You might want to increase the number of iterations, check the scale of the features or consider increasing regularisation. Duality gap: 2.354e+03, tolerance: 1.532e+00\n",
      "  model = cd_fast.enet_coordinate_descent_gram(\n",
      "d:\\anaconda\\envs\\mineenv\\lib\\site-packages\\sklearn\\linear_model\\_coordinate_descent.py:681: ConvergenceWarning: Objective did not converge. You might want to increase the number of iterations, check the scale of the features or consider increasing regularisation. Duality gap: 2.572e+03, tolerance: 1.532e+00\n",
      "  model = cd_fast.enet_coordinate_descent_gram(\n",
      "d:\\anaconda\\envs\\mineenv\\lib\\site-packages\\sklearn\\linear_model\\_coordinate_descent.py:681: ConvergenceWarning: Objective did not converge. You might want to increase the number of iterations, check the scale of the features or consider increasing regularisation. Duality gap: 2.714e+03, tolerance: 1.532e+00\n",
      "  model = cd_fast.enet_coordinate_descent_gram(\n",
      "d:\\anaconda\\envs\\mineenv\\lib\\site-packages\\sklearn\\linear_model\\_coordinate_descent.py:681: ConvergenceWarning: Objective did not converge. You might want to increase the number of iterations, check the scale of the features or consider increasing regularisation. Duality gap: 2.805e+03, tolerance: 1.532e+00\n",
      "  model = cd_fast.enet_coordinate_descent_gram(\n",
      "d:\\anaconda\\envs\\mineenv\\lib\\site-packages\\sklearn\\linear_model\\_coordinate_descent.py:681: ConvergenceWarning: Objective did not converge. You might want to increase the number of iterations, check the scale of the features or consider increasing regularisation. Duality gap: 2.863e+03, tolerance: 1.532e+00\n",
      "  model = cd_fast.enet_coordinate_descent_gram(\n",
      "d:\\anaconda\\envs\\mineenv\\lib\\site-packages\\sklearn\\linear_model\\_coordinate_descent.py:681: ConvergenceWarning: Objective did not converge. You might want to increase the number of iterations, check the scale of the features or consider increasing regularisation. Duality gap: 2.900e+03, tolerance: 1.532e+00\n",
      "  model = cd_fast.enet_coordinate_descent_gram(\n",
      "d:\\anaconda\\envs\\mineenv\\lib\\site-packages\\sklearn\\linear_model\\_coordinate_descent.py:681: ConvergenceWarning: Objective did not converge. You might want to increase the number of iterations, check the scale of the features or consider increasing regularisation. Duality gap: 2.923e+03, tolerance: 1.532e+00\n",
      "  model = cd_fast.enet_coordinate_descent_gram(\n",
      "d:\\anaconda\\envs\\mineenv\\lib\\site-packages\\sklearn\\linear_model\\_coordinate_descent.py:681: ConvergenceWarning: Objective did not converge. You might want to increase the number of iterations, check the scale of the features or consider increasing regularisation. Duality gap: 2.937e+03, tolerance: 1.532e+00\n",
      "  model = cd_fast.enet_coordinate_descent_gram(\n",
      "d:\\anaconda\\envs\\mineenv\\lib\\site-packages\\sklearn\\linear_model\\_coordinate_descent.py:681: ConvergenceWarning: Objective did not converge. You might want to increase the number of iterations, check the scale of the features or consider increasing regularisation. Duality gap: 2.947e+03, tolerance: 1.532e+00\n",
      "  model = cd_fast.enet_coordinate_descent_gram(\n",
      "d:\\anaconda\\envs\\mineenv\\lib\\site-packages\\sklearn\\linear_model\\_coordinate_descent.py:681: ConvergenceWarning: Objective did not converge. You might want to increase the number of iterations, check the scale of the features or consider increasing regularisation. Duality gap: 2.952e+03, tolerance: 1.532e+00\n",
      "  model = cd_fast.enet_coordinate_descent_gram(\n",
      "d:\\anaconda\\envs\\mineenv\\lib\\site-packages\\sklearn\\linear_model\\_coordinate_descent.py:681: ConvergenceWarning: Objective did not converge. You might want to increase the number of iterations, check the scale of the features or consider increasing regularisation. Duality gap: 2.956e+03, tolerance: 1.532e+00\n",
      "  model = cd_fast.enet_coordinate_descent_gram(\n",
      "d:\\anaconda\\envs\\mineenv\\lib\\site-packages\\sklearn\\linear_model\\_coordinate_descent.py:681: ConvergenceWarning: Objective did not converge. You might want to increase the number of iterations, check the scale of the features or consider increasing regularisation. Duality gap: 2.958e+03, tolerance: 1.532e+00\n",
      "  model = cd_fast.enet_coordinate_descent_gram(\n",
      "d:\\anaconda\\envs\\mineenv\\lib\\site-packages\\sklearn\\linear_model\\_coordinate_descent.py:681: ConvergenceWarning: Objective did not converge. You might want to increase the number of iterations, check the scale of the features or consider increasing regularisation. Duality gap: 2.960e+03, tolerance: 1.532e+00\n",
      "  model = cd_fast.enet_coordinate_descent_gram(\n",
      "d:\\anaconda\\envs\\mineenv\\lib\\site-packages\\sklearn\\linear_model\\_coordinate_descent.py:681: ConvergenceWarning: Objective did not converge. You might want to increase the number of iterations, check the scale of the features or consider increasing regularisation. Duality gap: 2.961e+03, tolerance: 1.532e+00\n",
      "  model = cd_fast.enet_coordinate_descent_gram(\n",
      "d:\\anaconda\\envs\\mineenv\\lib\\site-packages\\sklearn\\linear_model\\_coordinate_descent.py:681: ConvergenceWarning: Objective did not converge. You might want to increase the number of iterations, check the scale of the features or consider increasing regularisation. Duality gap: 2.961e+03, tolerance: 1.532e+00\n",
      "  model = cd_fast.enet_coordinate_descent_gram(\n"
     ]
    }
   ],
   "source": [
    "# 用lasspcv\n",
    "lscv = LassoCV(eps = 1e-20\n",
    "               , n_alphas= 100\n",
    "               , cv = 5).fit(xtrain, ytrain)"
   ]
  },
  {
   "cell_type": "code",
   "execution_count": 53,
   "id": "345eb85b",
   "metadata": {},
   "outputs": [
    {
     "data": {
      "text/plain": [
       "0.001873282475267021"
      ]
     },
     "execution_count": 53,
     "metadata": {},
     "output_type": "execute_result"
    }
   ],
   "source": [
    "lscv.alpha_"
   ]
  },
  {
   "cell_type": "code",
   "execution_count": 54,
   "id": "a967e414",
   "metadata": {},
   "outputs": [
    {
     "data": {
      "text/plain": [
       "(100,)"
      ]
     },
     "execution_count": 54,
     "metadata": {},
     "output_type": "execute_result"
    }
   ],
   "source": [
    "lscv.alphas_.shape"
   ]
  },
  {
   "cell_type": "code",
   "execution_count": 55,
   "id": "d4c1f2f9",
   "metadata": {},
   "outputs": [
    {
     "data": {
      "text/plain": [
       "0.6039445395477893"
      ]
     },
     "execution_count": 55,
     "metadata": {},
     "output_type": "execute_result"
    }
   ],
   "source": [
    "lscv.score(xtest, ytest)"
   ]
  },
  {
   "cell_type": "code",
   "execution_count": 56,
   "id": "2be7eccc",
   "metadata": {},
   "outputs": [
    {
     "data": {
      "text/plain": [
       "array([ 0.82419034,  0.12913746, -0.24530723,  0.28070212,  0.        ,\n",
       "       -0.03895105, -0.86219961, -0.83255921])"
      ]
     },
     "execution_count": 56,
     "metadata": {},
     "output_type": "execute_result"
    }
   ],
   "source": [
    "lscv.coef_"
   ]
  },
  {
   "cell_type": "code",
   "execution_count": 57,
   "id": "0d8e3e2e",
   "metadata": {},
   "outputs": [
    {
     "data": {
      "text/plain": [
       "[('MedInc', 0.8241903390716742),\n",
       " ('HouseAge', 0.12913746108622073),\n",
       " ('AveRooms', -0.24530723422977962),\n",
       " ('AveBedrms', 0.28070212086799057),\n",
       " ('Population', 0.0),\n",
       " ('AveOccup', -0.03895105297029216),\n",
       " ('Latitude', -0.8621996089440707),\n",
       " ('Longitude', -0.832559212167235)]"
      ]
     },
     "execution_count": 57,
     "metadata": {},
     "output_type": "execute_result"
    }
   ],
   "source": [
    "[*zip(xtrain.columns, lscv.coef_)]"
   ]
  },
  {
   "cell_type": "markdown",
   "id": "74aaf173",
   "metadata": {},
   "source": [
    "# 线性模型与非线性模型\n",
    "\n",
    "| | 线性模型 | 非线性模型 |\n",
    "| :-- | :----------------------------------------------- | :--------------------------------------------- |\n",
    "| **代表模型** | 线性回归, 逻辑回归, 弹性网, 感知机 | 决策树, 树的集成模型, 使用高斯核 |\n",
    "| **模型特点** | 模型简单, 运行速度快 | 模型复杂, 效果好, 但速度慢 |\n",
    "| **数学特征:** | | |\n",
    "| 回归 | 自变量是一次项 | 自变量都不是一次项 |\n",
    "| 分类 | 决策边界上的自变量都是一次项 | 决策边界上的自变量都不是一次项 |\n",
    "| **可视化:** | | |\n",
    "| 回归 | 拟合出的图像是一条直线 | 拟合出的图像不是一条直线 |\n",
    "| 分类 | 决策边界在二维平面是一条直线 | 决策边界在二维平面不是一条直线 |\n",
    "| **擅长数据类型** | 主要是线性数据, 线性可分数据 | 所有数据 |"
   ]
  },
  {
   "cell_type": "markdown",
   "id": "c3d1dbea",
   "metadata": {},
   "source": [
    "\n",
    "### 线性回归和决策树回归在非线性数据集上的表现"
   ]
  },
  {
   "cell_type": "code",
   "execution_count": 58,
   "id": "d6081909",
   "metadata": {},
   "outputs": [],
   "source": [
    "from sklearn.tree import DecisionTreeRegressor"
   ]
  },
  {
   "cell_type": "code",
   "execution_count": 59,
   "id": "6e825eb5",
   "metadata": {},
   "outputs": [
    {
     "data": {
      "image/png": "[encoded data removed]",
      "text/plain": [
       "<Figure size 640x480 with 1 Axes>"
      ]
     },
     "metadata": {},
     "output_type": "display_data"
    }
   ],
   "source": [
    "rnd = np.random.RandomState(42)\n",
    "x = rnd.uniform(-3, 3, size = 100)\n",
    "y = np.sin(x) + rnd.normal(size = len(x)) / 3\n",
    "plt.scatter(x, y)\n",
    "plt.show()"
   ]
  },
  {
   "cell_type": "code",
   "execution_count": 60,
   "id": "c797c98c",
   "metadata": {},
   "outputs": [
    {
     "data": {
      "text/plain": [
       "(100, 1)"
      ]
     },
     "execution_count": 60,
     "metadata": {},
     "output_type": "execute_result"
    }
   ],
   "source": [
    "x = x.reshape(-1, 1)\n",
    "x.shape\n",
    "# sklearn只接受二维以上的数组"
   ]
  },
  {
   "cell_type": "code",
   "execution_count": 61,
   "id": "31eed86a",
   "metadata": {},
   "outputs": [],
   "source": [
    "# 使用原数据建模\n",
    "linear = LinearRegression().fit(x, y)\n",
    "tree = DecisionTreeRegressor(random_state=0).fit(x, y)"
   ]
  },
  {
   "cell_type": "code",
   "execution_count": 62,
   "id": "37eb62f7",
   "metadata": {},
   "outputs": [
    {
     "data": {
      "image/png": "[encoded data removed]",
      "text/plain": [
       "<Figure size 640x480 with 1 Axes>"
      ]
     },
     "metadata": {},
     "output_type": "display_data"
    }
   ],
   "source": [
    "fig, ax1 = plt.subplots(1)\n",
    "\n",
    "# 测试数据\n",
    "line = np.linspace(-3, 3, 1000, endpoint=False).reshape(-1, 1)\n",
    "\n",
    "ax1.plot(line, linear.predict(line), label = 'Linear Regression')\n",
    "ax1.plot(line, tree.predict(line), label = 'DecisionTreeRegressor')\n",
    "\n",
    "\n",
    "# 原数据\n",
    "ax1.plot(x[:, 0], y, 'o')\n",
    "ax1.set_xlabel('Input feature')\n",
    "ax1.set_ylabel('Regression output')\n",
    "ax1.legend()\n",
    "plt.tight_layout()\n",
    "plt.show()\n",
    "\n",
    "\n",
    "# 一个欠拟合一个过拟合"
   ]
  },
  {
   "cell_type": "markdown",
   "id": "1a31e92e",
   "metadata": {},
   "source": [
    "### 离散化：帮助线性模型解决非线性问题"
   ]
  },
  {
   "cell_type": "code",
   "execution_count": 63,
   "id": "dabf293a",
   "metadata": {},
   "outputs": [],
   "source": [
    "from sklearn.preprocessing import KBinsDiscretizer"
   ]
  },
  {
   "cell_type": "code",
   "execution_count": 64,
   "id": "93f5667e",
   "metadata": {},
   "outputs": [
    {
     "name": "stderr",
     "output_type": "stream",
     "text": [
      "d:\\anaconda\\envs\\mineenv\\lib\\site-packages\\sklearn\\preprocessing\\_discretization.py:296: FutureWarning: The current default behavior, quantile_method='linear', will be changed to quantile_method='averaged_inverted_cdf' in scikit-learn version 1.9 to naturally support sample weight equivalence properties by default. Pass quantile_method='averaged_inverted_cdf' explicitly to silence this warning.\n",
      "  warnings.warn(\n"
     ]
    }
   ],
   "source": [
    "# 将数据分箱\n",
    "\n",
    "# 独热编码\n",
    "# 返回一个稀疏矩阵，每一列都是一个分好的类别\n",
    "enc = KBinsDiscretizer(n_bins=10, encode='onehot')\n",
    "x_binned = enc.fit_transform(x)\n"
   ]
  },
  {
   "cell_type": "code",
   "execution_count": 65,
   "id": "975b2c43",
   "metadata": {},
   "outputs": [
    {
     "data": {
      "text/plain": [
       "<100x10 sparse matrix of type '<class 'numpy.float64'>'\n",
       "\twith 100 stored elements in Compressed Sparse Row format>"
      ]
     },
     "execution_count": 65,
     "metadata": {},
     "output_type": "execute_result"
    }
   ],
   "source": [
    "\n",
    "x_binned"
   ]
  },
  {
   "cell_type": "code",
   "execution_count": 66,
   "id": "de20719e",
   "metadata": {},
   "outputs": [
    {
     "data": {
      "text/html": [
       "<div>\n",
       "<style scoped>\n",
       "    .dataframe tbody tr th:only-of-type {\n",
       "        vertical-align: middle;\n",
       "    }\n",
       "\n",
       "    .dataframe tbody tr th {\n",
       "        vertical-align: top;\n",
       "    }\n",
       "\n",
       "    .dataframe thead th {\n",
       "        text-align: right;\n",
       "    }\n",
       "</style>\n",
       "<table border=\"1\" class=\"dataframe\">\n",
       "  <thead>\n",
       "    <tr style=\"text-align: right;\">\n",
       "      <th></th>\n",
       "      <th>0</th>\n",
       "      <th>1</th>\n",
       "      <th>2</th>\n",
       "      <th>3</th>\n",
       "      <th>4</th>\n",
       "      <th>5</th>\n",
       "      <th>6</th>\n",
       "      <th>7</th>\n",
       "      <th>8</th>\n",
       "      <th>9</th>\n",
       "    </tr>\n",
       "  </thead>\n",
       "  <tbody>\n",
       "    <tr>\n",
       "      <th>0</th>\n",
       "      <td>0.0</td>\n",
       "      <td>0.0</td>\n",
       "      <td>0.0</td>\n",
       "      <td>0.0</td>\n",
       "      <td>1.0</td>\n",
       "      <td>0.0</td>\n",
       "      <td>0.0</td>\n",
       "      <td>0.0</td>\n",
       "      <td>0.0</td>\n",
       "      <td>0.0</td>\n",
       "    </tr>\n",
       "    <tr>\n",
       "      <th>1</th>\n",
       "      <td>0.0</td>\n",
       "      <td>0.0</td>\n",
       "      <td>0.0</td>\n",
       "      <td>0.0</td>\n",
       "      <td>0.0</td>\n",
       "      <td>0.0</td>\n",
       "      <td>0.0</td>\n",
       "      <td>0.0</td>\n",
       "      <td>0.0</td>\n",
       "      <td>1.0</td>\n",
       "    </tr>\n",
       "    <tr>\n",
       "      <th>2</th>\n",
       "      <td>0.0</td>\n",
       "      <td>0.0</td>\n",
       "      <td>0.0</td>\n",
       "      <td>0.0</td>\n",
       "      <td>0.0</td>\n",
       "      <td>0.0</td>\n",
       "      <td>0.0</td>\n",
       "      <td>1.0</td>\n",
       "      <td>0.0</td>\n",
       "      <td>0.0</td>\n",
       "    </tr>\n",
       "    <tr>\n",
       "      <th>3</th>\n",
       "      <td>0.0</td>\n",
       "      <td>0.0</td>\n",
       "      <td>0.0</td>\n",
       "      <td>0.0</td>\n",
       "      <td>0.0</td>\n",
       "      <td>0.0</td>\n",
       "      <td>1.0</td>\n",
       "      <td>0.0</td>\n",
       "      <td>0.0</td>\n",
       "      <td>0.0</td>\n",
       "    </tr>\n",
       "    <tr>\n",
       "      <th>4</th>\n",
       "      <td>0.0</td>\n",
       "      <td>0.0</td>\n",
       "      <td>1.0</td>\n",
       "      <td>0.0</td>\n",
       "      <td>0.0</td>\n",
       "      <td>0.0</td>\n",
       "      <td>0.0</td>\n",
       "      <td>0.0</td>\n",
       "      <td>0.0</td>\n",
       "      <td>0.0</td>\n",
       "    </tr>\n",
       "  </tbody>\n",
       "</table>\n",
       "</div>"
      ],
      "text/plain": [
       "     0    1    2    3    4    5    6    7    8    9\n",
       "0  0.0  0.0  0.0  0.0  1.0  0.0  0.0  0.0  0.0  0.0\n",
       "1  0.0  0.0  0.0  0.0  0.0  0.0  0.0  0.0  0.0  1.0\n",
       "2  0.0  0.0  0.0  0.0  0.0  0.0  0.0  1.0  0.0  0.0\n",
       "3  0.0  0.0  0.0  0.0  0.0  0.0  1.0  0.0  0.0  0.0\n",
       "4  0.0  0.0  1.0  0.0  0.0  0.0  0.0  0.0  0.0  0.0"
      ]
     },
     "execution_count": 66,
     "metadata": {},
     "output_type": "execute_result"
    }
   ],
   "source": [
    "pd.DataFrame(x_binned.toarray()).head()"
   ]
  },
  {
   "cell_type": "code",
   "execution_count": 77,
   "id": "5bd68b82",
   "metadata": {},
   "outputs": [],
   "source": [
    "# 使用分箱后的数据进行模型训练\n",
    "linear_ = LinearRegression().fit(x_binned, y)\n",
    "tree_ = DecisionTreeRegressor(random_state=0).fit(x_binned, y)"
   ]
  },
  {
   "cell_type": "code",
   "execution_count": null,
   "id": "0aac336c",
   "metadata": {},
   "outputs": [
    {
     "ename": "ValueError",
     "evalue": "X has 1 features, but LinearRegression is expecting 10 features as input.",
     "output_type": "error",
     "traceback": [
      "\u001b[1;31m---------------------------------------------------------------------------\u001b[0m",
      "\u001b[1;31mValueError\u001b[0m                                Traceback (most recent call last)",
      "Cell \u001b[1;32mIn[68], line 1\u001b[0m\n\u001b[1;32m----> 1\u001b[0m \u001b[43mlinear_\u001b[49m\u001b[38;5;241;43m.\u001b[39;49m\u001b[43mpredict\u001b[49m\u001b[43m(\u001b[49m\u001b[43mline\u001b[49m\u001b[43m)\u001b[49m \u001b[38;5;66;03m# line 作为测试集\u001b[39;00m\n",
      "File \u001b[1;32md:\\anaconda\\envs\\mineenv\\lib\\site-packages\\sklearn\\linear_model\\_base.py:298\u001b[0m, in \u001b[0;36mLinearModel.predict\u001b[1;34m(self, X)\u001b[0m\n\u001b[0;32m    284\u001b[0m \u001b[38;5;28;01mdef\u001b[39;00m\u001b[38;5;250m \u001b[39m\u001b[38;5;21mpredict\u001b[39m(\u001b[38;5;28mself\u001b[39m, X):\n\u001b[0;32m    285\u001b[0m \u001b[38;5;250m    \u001b[39m\u001b[38;5;124;03m\"\"\"\u001b[39;00m\n\u001b[0;32m    286\u001b[0m \u001b[38;5;124;03m    Predict using the linear model.\u001b[39;00m\n\u001b[0;32m    287\u001b[0m \n\u001b[1;32m   (...)\u001b[0m\n\u001b[0;32m    296\u001b[0m \u001b[38;5;124;03m        Returns predicted values.\u001b[39;00m\n\u001b[0;32m    297\u001b[0m \u001b[38;5;124;03m    \"\"\"\u001b[39;00m\n\u001b[1;32m--> 298\u001b[0m     \u001b[38;5;28;01mreturn\u001b[39;00m \u001b[38;5;28;43mself\u001b[39;49m\u001b[38;5;241;43m.\u001b[39;49m\u001b[43m_decision_function\u001b[49m\u001b[43m(\u001b[49m\u001b[43mX\u001b[49m\u001b[43m)\u001b[49m\n",
      "File \u001b[1;32md:\\anaconda\\envs\\mineenv\\lib\\site-packages\\sklearn\\linear_model\\_base.py:277\u001b[0m, in \u001b[0;36mLinearModel._decision_function\u001b[1;34m(self, X)\u001b[0m\n\u001b[0;32m    274\u001b[0m \u001b[38;5;28;01mdef\u001b[39;00m\u001b[38;5;250m \u001b[39m\u001b[38;5;21m_decision_function\u001b[39m(\u001b[38;5;28mself\u001b[39m, X):\n\u001b[0;32m    275\u001b[0m     check_is_fitted(\u001b[38;5;28mself\u001b[39m)\n\u001b[1;32m--> 277\u001b[0m     X \u001b[38;5;241m=\u001b[39m \u001b[43mvalidate_data\u001b[49m\u001b[43m(\u001b[49m\u001b[38;5;28;43mself\u001b[39;49m\u001b[43m,\u001b[49m\u001b[43m \u001b[49m\u001b[43mX\u001b[49m\u001b[43m,\u001b[49m\u001b[43m \u001b[49m\u001b[43maccept_sparse\u001b[49m\u001b[38;5;241;43m=\u001b[39;49m\u001b[43m[\u001b[49m\u001b[38;5;124;43m\"\u001b[39;49m\u001b[38;5;124;43mcsr\u001b[39;49m\u001b[38;5;124;43m\"\u001b[39;49m\u001b[43m,\u001b[49m\u001b[43m \u001b[49m\u001b[38;5;124;43m\"\u001b[39;49m\u001b[38;5;124;43mcsc\u001b[39;49m\u001b[38;5;124;43m\"\u001b[39;49m\u001b[43m,\u001b[49m\u001b[43m \u001b[49m\u001b[38;5;124;43m\"\u001b[39;49m\u001b[38;5;124;43mcoo\u001b[39;49m\u001b[38;5;124;43m\"\u001b[39;49m\u001b[43m]\u001b[49m\u001b[43m,\u001b[49m\u001b[43m \u001b[49m\u001b[43mreset\u001b[49m\u001b[38;5;241;43m=\u001b[39;49m\u001b[38;5;28;43;01mFalse\u001b[39;49;00m\u001b[43m)\u001b[49m\n\u001b[0;32m    278\u001b[0m     coef_ \u001b[38;5;241m=\u001b[39m \u001b[38;5;28mself\u001b[39m\u001b[38;5;241m.\u001b[39mcoef_\n\u001b[0;32m    279\u001b[0m     \u001b[38;5;28;01mif\u001b[39;00m coef_\u001b[38;5;241m.\u001b[39mndim \u001b[38;5;241m==\u001b[39m \u001b[38;5;241m1\u001b[39m:\n",
      "File \u001b[1;32md:\\anaconda\\envs\\mineenv\\lib\\site-packages\\sklearn\\utils\\validation.py:2975\u001b[0m, in \u001b[0;36mvalidate_data\u001b[1;34m(_estimator, X, y, reset, validate_separately, skip_check_array, **check_params)\u001b[0m\n\u001b[0;32m   2972\u001b[0m     out \u001b[38;5;241m=\u001b[39m X, y\n\u001b[0;32m   2974\u001b[0m \u001b[38;5;28;01mif\u001b[39;00m \u001b[38;5;129;01mnot\u001b[39;00m no_val_X \u001b[38;5;129;01mand\u001b[39;00m check_params\u001b[38;5;241m.\u001b[39mget(\u001b[38;5;124m\"\u001b[39m\u001b[38;5;124mensure_2d\u001b[39m\u001b[38;5;124m\"\u001b[39m, \u001b[38;5;28;01mTrue\u001b[39;00m):\n\u001b[1;32m-> 2975\u001b[0m     \u001b[43m_check_n_features\u001b[49m\u001b[43m(\u001b[49m\u001b[43m_estimator\u001b[49m\u001b[43m,\u001b[49m\u001b[43m \u001b[49m\u001b[43mX\u001b[49m\u001b[43m,\u001b[49m\u001b[43m \u001b[49m\u001b[43mreset\u001b[49m\u001b[38;5;241;43m=\u001b[39;49m\u001b[43mreset\u001b[49m\u001b[43m)\u001b[49m\n\u001b[0;32m   2977\u001b[0m \u001b[38;5;28;01mreturn\u001b[39;00m out\n",
      "File \u001b[1;32md:\\anaconda\\envs\\mineenv\\lib\\site-packages\\sklearn\\utils\\validation.py:2839\u001b[0m, in \u001b[0;36m_check_n_features\u001b[1;34m(estimator, X, reset)\u001b[0m\n\u001b[0;32m   2836\u001b[0m     \u001b[38;5;28;01mreturn\u001b[39;00m\n\u001b[0;32m   2838\u001b[0m \u001b[38;5;28;01mif\u001b[39;00m n_features \u001b[38;5;241m!=\u001b[39m estimator\u001b[38;5;241m.\u001b[39mn_features_in_:\n\u001b[1;32m-> 2839\u001b[0m     \u001b[38;5;28;01mraise\u001b[39;00m \u001b[38;5;167;01mValueError\u001b[39;00m(\n\u001b[0;32m   2840\u001b[0m         \u001b[38;5;124mf\u001b[39m\u001b[38;5;124m\"\u001b[39m\u001b[38;5;124mX has \u001b[39m\u001b[38;5;132;01m{\u001b[39;00mn_features\u001b[38;5;132;01m}\u001b[39;00m\u001b[38;5;124m features, but \u001b[39m\u001b[38;5;132;01m{\u001b[39;00mestimator\u001b[38;5;241m.\u001b[39m\u001b[38;5;18m__class__\u001b[39m\u001b[38;5;241m.\u001b[39m\u001b[38;5;18m__name__\u001b[39m\u001b[38;5;132;01m}\u001b[39;00m\u001b[38;5;124m \u001b[39m\u001b[38;5;124m\"\u001b[39m\n\u001b[0;32m   2841\u001b[0m         \u001b[38;5;124mf\u001b[39m\u001b[38;5;124m\"\u001b[39m\u001b[38;5;124mis expecting \u001b[39m\u001b[38;5;132;01m{\u001b[39;00mestimator\u001b[38;5;241m.\u001b[39mn_features_in_\u001b[38;5;132;01m}\u001b[39;00m\u001b[38;5;124m features as input.\u001b[39m\u001b[38;5;124m\"\u001b[39m\n\u001b[0;32m   2842\u001b[0m     )\n",
      "\u001b[1;31mValueError\u001b[0m: X has 1 features, but LinearRegression is expecting 10 features as input."
     ]
    }
   ],
   "source": [
    "linear_.predict(line) # line 作为测试集\n",
    "# 在sklearn中，测试集和训练集结构要一致"
   ]
  },
  {
   "cell_type": "code",
   "execution_count": 70,
   "id": "bd38ba5d",
   "metadata": {},
   "outputs": [],
   "source": [
    "line = np.linspace(-3, 3, 1000, endpoint=False).reshape(-1, 1)\n",
    "line_binned = enc.transform(line)"
   ]
  },
  {
   "cell_type": "code",
   "execution_count": 72,
   "id": "6fafdbbd",
   "metadata": {},
   "outputs": [
    {
     "data": {
      "text/plain": [
       "(1000,)"
      ]
     },
     "execution_count": 72,
     "metadata": {},
     "output_type": "execute_result"
    }
   ],
   "source": [
    "linear_.predict(line_binned).shape# line_binned 作为测试集"
   ]
  },
  {
   "cell_type": "code",
   "execution_count": null,
   "id": "3a7ec5bb",
   "metadata": {},
   "outputs": [
    {
     "data": {
      "image/png": "[encoded data removed]",
      "text/plain": [
       "<Figure size 640x480 with 2 Axes>"
      ]
     },
     "metadata": {},
     "output_type": "display_data"
    }
   ],
   "source": [
    "fig, (ax1, ax2) = plt.subplots(ncols=2\n",
    "                               , sharey=True\n",
    "                               )\n",
    "\n",
    "# 原始数据上建模的结果可视化\n",
    "ax1.plot(line, linear.predict(line), label = 'LR')\n",
    "ax1.plot(line, tree.predict(line), label = 'Tree')\n",
    "ax1.plot(x[:, 0], y, 'o')\n",
    "ax1.legend()\n",
    "ax1.set_xlabel('Input feature')\n",
    "ax1.set_ylabel('Regression Output')\n",
    "ax1.set_title('Result Before Descretization')\n",
    "\n",
    "ax2.plot(line, linear_.predict(line_binned), label = 'LR', linestyle = '-')\n",
    "ax2.plot(line, tree_.predict(line_binned), label = 'tree', linestyle = ':')\n",
    "ax2.plot(x[:, 0], y, 'o')\n",
    "\n",
    "# 绘制和箱宽一致的竖线\n",
    "ax2.vlines(enc.bin_edges_[0] # x轴\n",
    "           , *plt.gca().get_ylim() # y 轴的上限和下限\n",
    "           ,  alpha = 0.2\n",
    "           )\n",
    "\n",
    "ax2.legend()\n",
    "ax2.set_xlabel('Input feature')\n",
    "ax2.set_ylabel('Regression Output')\n",
    "ax2.set_title('Result After Descretization')\n",
    "plt.show()\n",
    "\n"
   ]
  },
  {
   "cell_type": "code",
   "execution_count": 83,
   "id": "a4b33f64",
   "metadata": {},
   "outputs": [
    {
     "data": {
      "text/plain": [
       "0.6800102369793313"
      ]
     },
     "execution_count": 83,
     "metadata": {},
     "output_type": "execute_result"
    }
   ],
   "source": [
    "linear.score(line, np.sin(line))"
   ]
  },
  {
   "cell_type": "code",
   "execution_count": null,
   "id": "701651db",
   "metadata": {},
   "outputs": [
    {
     "data": {
      "text/plain": [
       "0.944133075051055"
      ]
     },
     "execution_count": 82,
     "metadata": {},
     "output_type": "execute_result"
    }
   ],
   "source": [
    "linear_.score(line_binned, np.sin(line))"
   ]
  },
  {
   "cell_type": "code",
   "execution_count": 84,
   "id": "72f6cbfb",
   "metadata": {},
   "outputs": [
    {
     "data": {
      "text/plain": [
       "0.8478082863491422"
      ]
     },
     "execution_count": 84,
     "metadata": {},
     "output_type": "execute_result"
    }
   ],
   "source": [
    "tree.score(line, np.sin(line))"
   ]
  },
  {
   "cell_type": "code",
   "execution_count": 85,
   "id": "17879ae9",
   "metadata": {},
   "outputs": [
    {
     "data": {
      "text/plain": [
       "0.944133075051055"
      ]
     },
     "execution_count": 85,
     "metadata": {},
     "output_type": "execute_result"
    }
   ],
   "source": [
    "tree_.score(line_binned, np.sin(line))"
   ]
  },
  {
   "cell_type": "code",
   "execution_count": 86,
   "id": "abbe715a",
   "metadata": {},
   "outputs": [
    {
     "name": "stderr",
     "output_type": "stream",
     "text": [
      "d:\\anaconda\\envs\\mineenv\\lib\\site-packages\\sklearn\\preprocessing\\_discretization.py:296: FutureWarning: The current default behavior, quantile_method='linear', will be changed to quantile_method='averaged_inverted_cdf' in scikit-learn version 1.9 to naturally support sample weight equivalence properties by default. Pass quantile_method='averaged_inverted_cdf' explicitly to silence this warning.\n",
      "  warnings.warn(\n"
     ]
    },
    {
     "data": {
      "image/png": "[encoded data removed]",
      "text/plain": [
       "<Figure size 640x480 with 2 Axes>"
      ]
     },
     "metadata": {},
     "output_type": "display_data"
    }
   ],
   "source": [
    "# 箱子数的影响\n",
    "enc = KBinsDiscretizer(n_bins=5, encode='onehot')\n",
    "x_binned = enc.fit_transform(x)\n",
    "line_binned = enc.transform(line)\n",
    "linear = LinearRegression().fit(x, y)\n",
    "tree = DecisionTreeRegressor(random_state=0).fit(x, y)\n",
    "linear_ = LinearRegression().fit(x_binned, y)\n",
    "tree_ = DecisionTreeRegressor(random_state=0).fit(x_binned, y)\n",
    "\n",
    "fig, (ax1, ax2) = plt.subplots(ncols=2\n",
    "                               , sharey=True\n",
    "                               )\n",
    "\n",
    "# 原始数据上建模的结果可视化\n",
    "ax1.plot(line, linear.predict(line), label = 'LR')\n",
    "ax1.plot(line, tree.predict(line), label = 'Tree')\n",
    "ax1.plot(x[:, 0], y, 'o')\n",
    "ax1.legend()\n",
    "ax1.set_xlabel('Input feature')\n",
    "ax1.set_ylabel('Regression Output')\n",
    "ax1.set_title('Result Before Descretization')\n",
    "\n",
    "ax2.plot(line, linear_.predict(line_binned), label = 'LR', linestyle = '-')\n",
    "ax2.plot(line, tree_.predict(line_binned), label = 'tree', linestyle = ':')\n",
    "ax2.plot(x[:, 0], y, 'o')\n",
    "\n",
    "# 绘制和箱宽一致的竖线\n",
    "ax2.vlines(enc.bin_edges_[0] # x轴\n",
    "           , *plt.gca().get_ylim() # y 轴的上限和下限\n",
    "           ,  alpha = 0.2\n",
    "           )\n",
    "\n",
    "ax2.legend()\n",
    "ax2.set_xlabel('Input feature')\n",
    "ax2.set_ylabel('Regression Output')\n",
    "ax2.set_title('Result After Descretization')\n",
    "plt.show()"
   ]
  },
  {
   "cell_type": "code",
   "execution_count": 89,
   "id": "b93cc4d1",
   "metadata": {},
   "outputs": [
    {
     "data": {
      "text/plain": [
       "(0.8649069759304867, 0.8649069759304868)"
      ]
     },
     "execution_count": 89,
     "metadata": {},
     "output_type": "execute_result"
    }
   ],
   "source": [
    "linear_.score(line_binned, np.sin(line)), tree_.score(line_binned, np.sin(line))\n",
    "\n",
    "# 效果没有10箱的效果好"
   ]
  },
  {
   "cell_type": "code",
   "execution_count": 90,
   "id": "e34fb731",
   "metadata": {},
   "outputs": [
    {
     "name": "stderr",
     "output_type": "stream",
     "text": [
      "d:\\anaconda\\envs\\mineenv\\lib\\site-packages\\sklearn\\preprocessing\\_discretization.py:296: FutureWarning: The current default behavior, quantile_method='linear', will be changed to quantile_method='averaged_inverted_cdf' in scikit-learn version 1.9 to naturally support sample weight equivalence properties by default. Pass quantile_method='averaged_inverted_cdf' explicitly to silence this warning.\n",
      "  warnings.warn(\n",
      "d:\\anaconda\\envs\\mineenv\\lib\\site-packages\\sklearn\\preprocessing\\_discretization.py:296: FutureWarning: The current default behavior, quantile_method='linear', will be changed to quantile_method='averaged_inverted_cdf' in scikit-learn version 1.9 to naturally support sample weight equivalence properties by default. Pass quantile_method='averaged_inverted_cdf' explicitly to silence this warning.\n",
      "  warnings.warn(\n",
      "d:\\anaconda\\envs\\mineenv\\lib\\site-packages\\sklearn\\preprocessing\\_discretization.py:296: FutureWarning: The current default behavior, quantile_method='linear', will be changed to quantile_method='averaged_inverted_cdf' in scikit-learn version 1.9 to naturally support sample weight equivalence properties by default. Pass quantile_method='averaged_inverted_cdf' explicitly to silence this warning.\n",
      "  warnings.warn(\n",
      "d:\\anaconda\\envs\\mineenv\\lib\\site-packages\\sklearn\\preprocessing\\_discretization.py:296: FutureWarning: The current default behavior, quantile_method='linear', will be changed to quantile_method='averaged_inverted_cdf' in scikit-learn version 1.9 to naturally support sample weight equivalence properties by default. Pass quantile_method='averaged_inverted_cdf' explicitly to silence this warning.\n",
      "  warnings.warn(\n",
      "d:\\anaconda\\envs\\mineenv\\lib\\site-packages\\sklearn\\preprocessing\\_discretization.py:296: FutureWarning: The current default behavior, quantile_method='linear', will be changed to quantile_method='averaged_inverted_cdf' in scikit-learn version 1.9 to naturally support sample weight equivalence properties by default. Pass quantile_method='averaged_inverted_cdf' explicitly to silence this warning.\n",
      "  warnings.warn(\n",
      "d:\\anaconda\\envs\\mineenv\\lib\\site-packages\\sklearn\\preprocessing\\_discretization.py:296: FutureWarning: The current default behavior, quantile_method='linear', will be changed to quantile_method='averaged_inverted_cdf' in scikit-learn version 1.9 to naturally support sample weight equivalence properties by default. Pass quantile_method='averaged_inverted_cdf' explicitly to silence this warning.\n",
      "  warnings.warn(\n"
     ]
    },
    {
     "data": {
      "image/png": "[encoded data removed]",
      "text/plain": [
       "<Figure size 640x480 with 1 Axes>"
      ]
     },
     "metadata": {},
     "output_type": "display_data"
    }
   ],
   "source": [
    "# 选取最优箱数\n",
    "pred, score, var = [], [], []\n",
    "binsrange = [2,5,10,15,20,30]\n",
    "\n",
    "for i in binsrange:\n",
    "    #实例化分箱类\n",
    "    enc = KBinsDiscretizer(n_bins=i, encode=\"onehot\")\n",
    "    #转换数据\n",
    "    X_binned = enc.fit_transform(x)\n",
    "    line_binned = enc.transform(line)\n",
    "    #建立模型\n",
    "    LinearR_ = LinearRegression()\n",
    "    #全数据集上的交叉验证\n",
    "    cvresult = cross_val_score(LinearR_, X_binned, y, cv=5)\n",
    "    score.append(cvresult.mean())\n",
    "    var.append(cvresult.var())\n",
    "    #测试数据集上的打分结果\n",
    "    pred.append(LinearR_.fit(X_binned,y).score(line_binned,np.sin(line)))\n",
    "\n",
    "plt.figure()\n",
    "plt.plot(binsrange,pred,c=\"orange\",label=\"test\")\n",
    "plt.plot(binsrange,score,c=\"k\",label=\"full data\")\n",
    "plt.plot(binsrange,score+np.array(var)*0.5,c=\"red\",linestyle=\"--\", label = \"var\")\n",
    "plt.plot(binsrange,score-np.array(var)*0.5,c=\"red\",linestyle=\"--\")\n",
    "plt.legend()\n",
    "plt.show()"
   ]
  },
  {
   "cell_type": "markdown",
   "id": "5bd33ab7",
   "metadata": {},
   "source": [
    "# 多项式回归"
   ]
  },
  {
   "cell_type": "markdown",
   "id": "a3595c8b",
   "metadata": {},
   "source": [
    "### `PolynomialFeatures`\n",
    "\n",
    "增加自变量的次数"
   ]
  },
  {
   "cell_type": "code",
   "execution_count": 91,
   "id": "a12c8273",
   "metadata": {},
   "outputs": [],
   "source": [
    "from sklearn.preprocessing import PolynomialFeatures"
   ]
  },
  {
   "cell_type": "code",
   "execution_count": 92,
   "id": "fa48a00e",
   "metadata": {},
   "outputs": [
    {
     "data": {
      "text/plain": [
       "array([[1],\n",
       "       [2],\n",
       "       [3]])"
      ]
     },
     "execution_count": 92,
     "metadata": {},
     "output_type": "execute_result"
    }
   ],
   "source": [
    "x = np.arange(1, 4).reshape(-1, 1)\n",
    "x"
   ]
  },
  {
   "cell_type": "code",
   "execution_count": 96,
   "id": "3657faf4",
   "metadata": {},
   "outputs": [
    {
     "data": {
      "text/plain": [
       "(array([[1., 1., 1.],\n",
       "        [1., 2., 4.],\n",
       "        [1., 3., 9.]]),\n",
       " (3, 3))"
      ]
     },
     "execution_count": 96,
     "metadata": {},
     "output_type": "execute_result"
    }
   ],
   "source": [
    "poly2 = PolynomialFeatures(degree=2)\n",
    "x2 = poly2.fit_transform(x)\n",
    "x2, x2.shape"
   ]
  },
  {
   "cell_type": "code",
   "execution_count": 104,
   "id": "a0eb97b1",
   "metadata": {},
   "outputs": [
    {
     "data": {
      "text/plain": [
       "(array([[ 1.,  1.,  1.,  1.],\n",
       "        [ 1.,  2.,  4.,  8.],\n",
       "        [ 1.,  3.,  9., 27.]]),\n",
       " (3, 4))"
      ]
     },
     "execution_count": 104,
     "metadata": {},
     "output_type": "execute_result"
    }
   ],
   "source": [
    "poly3 = PolynomialFeatures(degree = 3)\n",
    "x3 = poly3.fit_transform(x)\n",
    "x3, x3.shape"
   ]
  },
  {
   "cell_type": "code",
   "execution_count": null,
   "id": "7c996857",
   "metadata": {},
   "outputs": [
    {
     "data": {
      "text/plain": [
       "(array([[ 1.,  1.,  1.],\n",
       "        [ 2.,  4.,  8.],\n",
       "        [ 3.,  9., 27.]]),\n",
       " (3, 3))"
      ]
     },
     "execution_count": 105,
     "metadata": {},
     "output_type": "execute_result"
    }
   ],
   "source": [
    "poly30 = PolynomialFeatures(degree = 3, include_bias=False)\n",
    "x30 = poly30.fit_transform(x)\n",
    "x30, x30.shape\n",
    "# 不带截距的"
   ]
  },
  {
   "cell_type": "code",
   "execution_count": 106,
   "id": "7e9d6141",
   "metadata": {},
   "outputs": [
    {
     "data": {
      "text/plain": [
       "array([-0.17620087,  0.18887636,  0.82674718])"
      ]
     },
     "execution_count": 106,
     "metadata": {},
     "output_type": "execute_result"
    }
   ],
   "source": [
    "rnd = np.random.RandomState(888)\n",
    "y = rnd.randn(3)\n",
    "y"
   ]
  },
  {
   "cell_type": "code",
   "execution_count": 107,
   "id": "fc77ebf4",
   "metadata": {},
   "outputs": [
    {
     "data": {
      "text/plain": [
       "array([-3.88578059e-16,  4.66455823e-02,  8.68920331e-02,  8.25079327e-03])"
      ]
     },
     "execution_count": 107,
     "metadata": {},
     "output_type": "execute_result"
    }
   ],
   "source": [
    "LinearRegression().fit(x3, y).coef_"
   ]
  },
  {
   "cell_type": "code",
   "execution_count": null,
   "id": "09d2bb43",
   "metadata": {},
   "outputs": [
    {
     "data": {
      "text/plain": [
       "-0.3179892823443657"
      ]
     },
     "execution_count": 111,
     "metadata": {},
     "output_type": "execute_result"
    }
   ],
   "source": [
    "LinearRegression().fit(x3, y).intercept_\n",
    "# 可见并不知道哪个是截距"
   ]
  },
  {
   "cell_type": "code",
   "execution_count": 113,
   "id": "a701fecb",
   "metadata": {},
   "outputs": [
    {
     "data": {
      "text/plain": [
       "array([-0.25898096, -0.06153634,  0.14590035, -0.00158393])"
      ]
     },
     "execution_count": 113,
     "metadata": {},
     "output_type": "execute_result"
    }
   ],
   "source": [
    "LinearRegression(fit_intercept=False).fit(x3, y).coef_\n"
   ]
  },
  {
   "cell_type": "code",
   "execution_count": 114,
   "id": "eb9de367",
   "metadata": {},
   "outputs": [
    {
     "data": {
      "text/plain": [
       "0.0"
      ]
     },
     "execution_count": 114,
     "metadata": {},
     "output_type": "execute_result"
    }
   ],
   "source": [
    "LinearRegression(fit_intercept=False).fit(x3, y).intercept_"
   ]
  },
  {
   "cell_type": "code",
   "execution_count": 115,
   "id": "4d5c3da5",
   "metadata": {},
   "outputs": [
    {
     "data": {
      "text/plain": [
       "array([[0, 1],\n",
       "       [2, 3],\n",
       "       [4, 5]])"
      ]
     },
     "execution_count": 115,
     "metadata": {},
     "output_type": "execute_result"
    }
   ],
   "source": [
    "#若有两个特征\n",
    "x = np.arange(6).reshape(3, 2)\n",
    "x"
   ]
  },
  {
   "cell_type": "code",
   "execution_count": null,
   "id": "5f5e4af6",
   "metadata": {},
   "outputs": [
    {
     "data": {
      "text/plain": [
       "array([[ 1.,  0.,  1.,  0.,  0.,  1.],\n",
       "       [ 1.,  2.,  3.,  4.,  6.,  9.],\n",
       "       [ 1.,  4.,  5., 16., 20., 25.]])"
      ]
     },
     "execution_count": 116,
     "metadata": {},
     "output_type": "execute_result"
    }
   ],
   "source": [
    "PolynomialFeatures(degree=2).fit_transform(x)\n",
    "# 分别对应x_0, x_1, x_2, x_1^2, x_1*x_2. x_2^2"
   ]
  },
  {
   "cell_type": "code",
   "execution_count": null,
   "id": "265c7a92",
   "metadata": {},
   "outputs": [
    {
     "data": {
      "text/plain": [
       "array([[  1.,   0.,   1.,   0.,   0.,   1.,   0.,   0.,   0.,   1.],\n",
       "       [  1.,   2.,   3.,   4.,   6.,   9.,   8.,  12.,  18.,  27.],\n",
       "       [  1.,   4.,   5.,  16.,  20.,  25.,  64.,  80., 100., 125.]])"
      ]
     },
     "execution_count": 117,
     "metadata": {},
     "output_type": "execute_result"
    }
   ],
   "source": [
    "PolynomialFeatures(degree=3).fit_transform(x)\n",
    "# x_0, x_1, x_2, x_3, x_1^2, x_1*x_2, x_2^2, x_1^3, x_1^2*x_2, x_1*x_2^2, x_2^3"
   ]
  },
  {
   "cell_type": "code",
   "execution_count": null,
   "id": "d6c63403",
   "metadata": {},
   "outputs": [
    {
     "data": {
      "text/plain": [
       "array([[ 1.,  0.,  1.,  0.],\n",
       "       [ 1.,  2.,  3.,  6.],\n",
       "       [ 1.,  4.,  5., 20.]])"
      ]
     },
     "execution_count": 118,
     "metadata": {},
     "output_type": "execute_result"
    }
   ],
   "source": [
    "PolynomialFeatures(degree=2, interaction_only=True).fit_transform(x)\n",
    "# x_0, x_1, x_2, x_1*x_2"
   ]
  },
  {
   "cell_type": "code",
   "execution_count": null,
   "id": "9747eda3",
   "metadata": {},
   "outputs": [
    {
     "data": {
      "text/plain": [
       "array([[0, 1, 2],\n",
       "       [3, 4, 5],\n",
       "       [6, 7, 8]])"
      ]
     },
     "execution_count": 119,
     "metadata": {},
     "output_type": "execute_result"
    }
   ],
   "source": [
    "# 更高维度的原始特征矩阵\n",
    "x = np.arange(9).reshape(3, 3)\n",
    "x"
   ]
  },
  {
   "cell_type": "code",
   "execution_count": 120,
   "id": "c8fb6738",
   "metadata": {},
   "outputs": [
    {
     "data": {
      "text/plain": [
       "(3, 20)"
      ]
     },
     "execution_count": 120,
     "metadata": {},
     "output_type": "execute_result"
    }
   ],
   "source": [
    "PolynomialFeatures(degree=3).fit_transform(x).shape"
   ]
  },
  {
   "cell_type": "markdown",
   "id": "73ed153a",
   "metadata": {},
   "source": [
    "### 多项式回归处理非线性问题"
   ]
  },
  {
   "cell_type": "code",
   "execution_count": 122,
   "id": "aa573fb0",
   "metadata": {},
   "outputs": [
    {
     "data": {
      "image/png": "[encoded data removed]",
      "text/plain": [
       "<Figure size 640x480 with 1 Axes>"
      ]
     },
     "metadata": {},
     "output_type": "display_data"
    }
   ],
   "source": [
    "rnd = np.random.RandomState(42)\n",
    "x = rnd.uniform(-3, 3, size = 100)\n",
    "y = np.sin(x) + rnd.normal(size = len(x)) / 3\n",
    "plt.scatter(x, y)\n",
    "plt.show()"
   ]
  },
  {
   "cell_type": "code",
   "execution_count": 123,
   "id": "4d7804cb",
   "metadata": {},
   "outputs": [],
   "source": [
    "x = x.reshape(-1, 1)"
   ]
  },
  {
   "cell_type": "code",
   "execution_count": 139,
   "id": "e680f622",
   "metadata": {},
   "outputs": [],
   "source": [
    "test = np.linspace(-3, 3, 100, endpoint=False).reshape(-1, 1 )"
   ]
  },
  {
   "cell_type": "code",
   "execution_count": 140,
   "id": "07013ddc",
   "metadata": {},
   "outputs": [
    {
     "data": {
      "text/plain": [
       "0.5361526059318595"
      ]
     },
     "execution_count": 140,
     "metadata": {},
     "output_type": "execute_result"
    }
   ],
   "source": [
    "linear = LinearRegression().fit(x, y)\n",
    "linear.score(x, y)"
   ]
  },
  {
   "cell_type": "code",
   "execution_count": 141,
   "id": "7882f160",
   "metadata": {},
   "outputs": [
    {
     "data": {
      "text/plain": [
       "0.6798093497639441"
      ]
     },
     "execution_count": 141,
     "metadata": {},
     "output_type": "execute_result"
    }
   ],
   "source": [
    "linear.score(test, np.sin(test))"
   ]
  },
  {
   "cell_type": "code",
   "execution_count": 142,
   "id": "15c4ba60",
   "metadata": {},
   "outputs": [
    {
     "data": {
      "text/plain": [
       "0.8561679370344799"
      ]
     },
     "execution_count": 142,
     "metadata": {},
     "output_type": "execute_result"
    }
   ],
   "source": [
    "poly = PolynomialFeatures(degree=5)\n",
    "x5 = poly.fit_transform(x)\n",
    "test5 = poly.fit_transform(test)\n",
    "linear5 = LinearRegression().fit(x5, y)\n",
    "linear5.score(x5, y)\n"
   ]
  },
  {
   "cell_type": "code",
   "execution_count": 143,
   "id": "fc139457",
   "metadata": {},
   "outputs": [
    {
     "data": {
      "text/plain": [
       "0.9867831363815881"
      ]
     },
     "execution_count": 143,
     "metadata": {},
     "output_type": "execute_result"
    }
   ],
   "source": [
    "linear5.score(test5, np.sin(test))"
   ]
  },
  {
   "cell_type": "code",
   "execution_count": 144,
   "id": "b0e9dec2",
   "metadata": {},
   "outputs": [
    {
     "data": {
      "image/png": "[encoded data removed]",
      "text/plain": [
       "<Figure size 640x480 with 1 Axes>"
      ]
     },
     "metadata": {},
     "output_type": "display_data"
    }
   ],
   "source": [
    "fig, ax1 = plt.subplots(1)\n",
    "\n",
    "ax1.plot(test, linear.predict(test), label = 'linear regression')\n",
    "ax1.plot(test, linear5.predict(test5), label = 'Polynomial regression')\n",
    "ax1.plot(x[:, 0], y, 'o')\n",
    "\n",
    "ax1.legend()\n",
    "plt.show()"
   ]
  },
  {
   "cell_type": "markdown",
   "id": "05b30e33",
   "metadata": {},
   "source": [
    "### 用交叉验证选择最佳的次数"
   ]
  },
  {
   "cell_type": "code",
   "execution_count": null,
   "id": "dc0c1db9",
   "metadata": {},
   "outputs": [
    {
     "data": {
      "text/plain": [
       "<matplotlib.legend.Legend at 0x24be8f0ea10>"
      ]
     },
     "execution_count": 159,
     "metadata": {},
     "output_type": "execute_result"
    },
    {
     "data": {
      "image/png": "[encoded data removed]",
      "text/plain": [
       "<Figure size 640x480 with 1 Axes>"
      ]
     },
     "metadata": {},
     "output_type": "display_data"
    }
   ],
   "source": [
    "from sklearn.pipeline import Pipeline\n",
    "degree = np.arange(1, 20)\n",
    "score = []\n",
    "test_score = []\n",
    "for d in degree:\n",
    "    pipe = Pipeline([('Poly features', PolynomialFeatures(degree=d))\n",
    "                    , ('LR', LinearRegression())])\n",
    "    x_ = PolynomialFeatures(degree=d).fit_transform(x)\n",
    "    test_ = PolynomialFeatures(degree=d).fit(x).transform(test)\n",
    "    linear_ = LinearRegression().fit(x_, y)\n",
    "    s = cross_val_score(pipe, x, y, cv = 10, scoring='r2').mean()\n",
    "    testsco = linear_.score(test_, np.sin(test))\n",
    "    score.append(s)\n",
    "    test_score.append(testsco)\n",
    "\n",
    "plt.plot(degree, score, label = 'CV')\n",
    "plt.plot(degree, test_score, label = 'test score')\n",
    "plt.legend()\n"
   ]
  },
  {
   "cell_type": "markdown",
   "id": "de9a68cd",
   "metadata": {},
   "source": [
    "### 可解释性（房价数据集）"
   ]
  },
  {
   "cell_type": "code",
   "execution_count": 3,
   "id": "ea471990",
   "metadata": {},
   "outputs": [
    {
     "data": {
      "text/html": [
       "<div>\n",
       "<style scoped>\n",
       "    .dataframe tbody tr th:only-of-type {\n",
       "        vertical-align: middle;\n",
       "    }\n",
       "\n",
       "    .dataframe tbody tr th {\n",
       "        vertical-align: top;\n",
       "    }\n",
       "\n",
       "    .dataframe thead th {\n",
       "        text-align: right;\n",
       "    }\n",
       "</style>\n",
       "<table border=\"1\" class=\"dataframe\">\n",
       "  <thead>\n",
       "    <tr style=\"text-align: right;\">\n",
       "      <th></th>\n",
       "      <th>MedInc</th>\n",
       "      <th>HouseAge</th>\n",
       "      <th>AveRooms</th>\n",
       "      <th>AveBedrms</th>\n",
       "      <th>Population</th>\n",
       "      <th>AveOccup</th>\n",
       "      <th>Latitude</th>\n",
       "      <th>Longitude</th>\n",
       "    </tr>\n",
       "  </thead>\n",
       "  <tbody>\n",
       "    <tr>\n",
       "      <th>0</th>\n",
       "      <td>8.3252</td>\n",
       "      <td>41.0</td>\n",
       "      <td>6.984127</td>\n",
       "      <td>1.023810</td>\n",
       "      <td>322.0</td>\n",
       "      <td>2.555556</td>\n",
       "      <td>37.88</td>\n",
       "      <td>-122.23</td>\n",
       "    </tr>\n",
       "    <tr>\n",
       "      <th>1</th>\n",
       "      <td>8.3014</td>\n",
       "      <td>21.0</td>\n",
       "      <td>6.238137</td>\n",
       "      <td>0.971880</td>\n",
       "      <td>2401.0</td>\n",
       "      <td>2.109842</td>\n",
       "      <td>37.86</td>\n",
       "      <td>-122.22</td>\n",
       "    </tr>\n",
       "    <tr>\n",
       "      <th>2</th>\n",
       "      <td>7.2574</td>\n",
       "      <td>52.0</td>\n",
       "      <td>8.288136</td>\n",
       "      <td>1.073446</td>\n",
       "      <td>496.0</td>\n",
       "      <td>2.802260</td>\n",
       "      <td>37.85</td>\n",
       "      <td>-122.24</td>\n",
       "    </tr>\n",
       "    <tr>\n",
       "      <th>3</th>\n",
       "      <td>5.6431</td>\n",
       "      <td>52.0</td>\n",
       "      <td>5.817352</td>\n",
       "      <td>1.073059</td>\n",
       "      <td>558.0</td>\n",
       "      <td>2.547945</td>\n",
       "      <td>37.85</td>\n",
       "      <td>-122.25</td>\n",
       "    </tr>\n",
       "    <tr>\n",
       "      <th>4</th>\n",
       "      <td>3.8462</td>\n",
       "      <td>52.0</td>\n",
       "      <td>6.281853</td>\n",
       "      <td>1.081081</td>\n",
       "      <td>565.0</td>\n",
       "      <td>2.181467</td>\n",
       "      <td>37.85</td>\n",
       "      <td>-122.25</td>\n",
       "    </tr>\n",
       "  </tbody>\n",
       "</table>\n",
       "</div>"
      ],
      "text/plain": [
       "   MedInc  HouseAge  AveRooms  AveBedrms  Population  AveOccup  Latitude  \\\n",
       "0  8.3252      41.0  6.984127   1.023810       322.0  2.555556     37.88   \n",
       "1  8.3014      21.0  6.238137   0.971880      2401.0  2.109842     37.86   \n",
       "2  7.2574      52.0  8.288136   1.073446       496.0  2.802260     37.85   \n",
       "3  5.6431      52.0  5.817352   1.073059       558.0  2.547945     37.85   \n",
       "4  3.8462      52.0  6.281853   1.081081       565.0  2.181467     37.85   \n",
       "\n",
       "   Longitude  \n",
       "0    -122.23  \n",
       "1    -122.22  \n",
       "2    -122.24  \n",
       "3    -122.25  \n",
       "4    -122.25  "
      ]
     },
     "execution_count": 3,
     "metadata": {},
     "output_type": "execute_result"
    }
   ],
   "source": [
    "from sklearn.preprocessing import PolynomialFeatures\n",
    "from sklearn.linear_model import LinearRegression\n",
    "housevalue = fch()\n",
    "\n",
    "x = pd.DataFrame(housevalue.data)\n",
    "y = housevalue.target\n",
    "x.columns = housevalue.feature_names\n",
    "x.head()\n"
   ]
  },
  {
   "cell_type": "code",
   "execution_count": 4,
   "id": "a70b7282",
   "metadata": {},
   "outputs": [
    {
     "data": {
      "text/plain": [
       "array(['1', 'MedInc', 'HouseAge', 'AveRooms', 'AveBedrms', 'Population',\n",
       "       'AveOccup', 'Latitude', 'Longitude', 'MedInc^2', 'MedInc HouseAge',\n",
       "       'MedInc AveRooms', 'MedInc AveBedrms', 'MedInc Population',\n",
       "       'MedInc AveOccup', 'MedInc Latitude', 'MedInc Longitude',\n",
       "       'HouseAge^2', 'HouseAge AveRooms', 'HouseAge AveBedrms',\n",
       "       'HouseAge Population', 'HouseAge AveOccup', 'HouseAge Latitude',\n",
       "       'HouseAge Longitude', 'AveRooms^2', 'AveRooms AveBedrms',\n",
       "       'AveRooms Population', 'AveRooms AveOccup', 'AveRooms Latitude',\n",
       "       'AveRooms Longitude', 'AveBedrms^2', 'AveBedrms Population',\n",
       "       'AveBedrms AveOccup', 'AveBedrms Latitude', 'AveBedrms Longitude',\n",
       "       'Population^2', 'Population AveOccup', 'Population Latitude',\n",
       "       'Population Longitude', 'AveOccup^2', 'AveOccup Latitude',\n",
       "       'AveOccup Longitude', 'Latitude^2', 'Latitude Longitude',\n",
       "       'Longitude^2'], dtype=object)"
      ]
     },
     "execution_count": 4,
     "metadata": {},
     "output_type": "execute_result"
    }
   ],
   "source": [
    "poly = PolynomialFeatures(degree=2).fit(x, y)\n",
    "poly.get_feature_names_out()"
   ]
  },
  {
   "cell_type": "code",
   "execution_count": 5,
   "id": "1dd30797",
   "metadata": {},
   "outputs": [],
   "source": [
    "x2 = PolynomialFeatures(degree=2).fit_transform(x)"
   ]
  },
  {
   "cell_type": "code",
   "execution_count": 6,
   "id": "be634dcc",
   "metadata": {},
   "outputs": [
    {
     "data": {
      "text/plain": [
       "array([ 5.91954101e-08, -1.12430253e+01, -8.48898549e-01,  6.44105903e+00,\n",
       "       -3.15913290e+01,  4.06090494e-04,  1.00386233e+00,  8.70568189e+00,\n",
       "        5.88063273e+00, -3.13081270e-02,  1.85994678e-03,  4.33020465e-02,\n",
       "       -1.86142274e-01,  5.72831499e-05, -2.59019490e-03, -1.52505714e-01,\n",
       "       -1.44242941e-01,  2.11725331e-04, -1.26219006e-03,  1.06115056e-02,\n",
       "        2.81885224e-06, -1.81716947e-03, -1.00690372e-02, -9.99950175e-03,\n",
       "        7.26947744e-03, -6.89064354e-02, -6.82365856e-05,  2.68878840e-02,\n",
       "        8.75089885e-02,  8.22890347e-02,  1.60180952e-01,  5.14264156e-04,\n",
       "       -8.71911436e-02, -4.37042998e-01, -4.04150582e-01,  2.73779577e-09,\n",
       "        1.91426762e-05,  2.29529789e-05,  1.46567733e-05,  8.71560978e-05,\n",
       "        2.13344592e-02,  1.62412938e-02,  6.18867358e-02,  1.08107173e-01,\n",
       "        3.99077351e-02])"
      ]
     },
     "execution_count": 6,
     "metadata": {},
     "output_type": "execute_result"
    }
   ],
   "source": [
    "poly2 = LinearRegression().fit(x2, y)\n",
    "coef = poly2.coef_\n",
    "coef"
   ]
  },
  {
   "cell_type": "code",
   "execution_count": 7,
   "id": "e1422b04",
   "metadata": {},
   "outputs": [
    {
     "data": {
      "text/plain": [
       "[('1', 5.919541008032493e-08),\n",
       " ('MedInc', -11.243025295897668),\n",
       " ('HouseAge', -0.8488985491022347),\n",
       " ('AveRooms', 6.441059034253072),\n",
       " ('AveBedrms', -31.591329019961048),\n",
       " ('Population', 0.00040609049444581416),\n",
       " ('AveOccup', 1.003862334405919),\n",
       " ('Latitude', 8.705681892053605),\n",
       " ('Longitude', 5.880632730629067),\n",
       " ('MedInc^2', -0.031308126985751104),\n",
       " ('MedInc HouseAge', 0.001859946782143701),\n",
       " ('MedInc AveRooms', 0.04330204646172751),\n",
       " ('MedInc AveBedrms', -0.18614227403726616),\n",
       " ('MedInc Population', 5.7283149937479086e-05),\n",
       " ('MedInc AveOccup', -0.002590194895669223),\n",
       " ('MedInc Latitude', -0.1525057139978149),\n",
       " ('MedInc Longitude', -0.14424294066170373),\n",
       " ('HouseAge^2', 0.00021172533097576053),\n",
       " ('HouseAge AveRooms', -0.001262190056487917),\n",
       " ('HouseAge AveBedrms', 0.0106115056347429),\n",
       " ('HouseAge Population', 2.8188522420008466e-06),\n",
       " ('HouseAge AveOccup', -0.0018171694720496448),\n",
       " ('HouseAge Latitude', -0.010069037201141669),\n",
       " ('HouseAge Longitude', -0.009999501749925142),\n",
       " ('AveRooms^2', 0.007269477442372651),\n",
       " ('AveRooms AveBedrms', -0.0689064354361697),\n",
       " ('AveRooms Population', -6.823658559363885e-05),\n",
       " ('AveRooms AveOccup', 0.026887884038268698),\n",
       " ('AveRooms Latitude', 0.08750898849544897),\n",
       " ('AveRooms Longitude', 0.08228903467424495),\n",
       " ('AveBedrms^2', 0.16018095163432555),\n",
       " ('AveBedrms Population', 0.0005142641561914534),\n",
       " ('AveBedrms AveOccup', -0.08719114357781921),\n",
       " ('AveBedrms Latitude', -0.4370429983082342),\n",
       " ('AveBedrms Longitude', -0.40415058191624126),\n",
       " ('Population^2', 2.737795767870921e-09),\n",
       " ('Population AveOccup', 1.9142676157811803e-05),\n",
       " ('Population Latitude', 2.295297891963255e-05),\n",
       " ('Population Longitude', 1.4656773311749749e-05),\n",
       " ('AveOccup^2', 8.71560978131383e-05),\n",
       " ('AveOccup Latitude', 0.021334459219540407),\n",
       " ('AveOccup Longitude', 0.01624129382913893),\n",
       " ('Latitude^2', 0.06188673577332719),\n",
       " ('Latitude Longitude', 0.1081071732442175),\n",
       " ('Longitude^2', 0.03990773507975335)]"
      ]
     },
     "execution_count": 7,
     "metadata": {},
     "output_type": "execute_result"
    }
   ],
   "source": [
    "[*zip(poly.get_feature_names_out(), coef)]"
   ]
  },
  {
   "cell_type": "code",
   "execution_count": 8,
   "id": "552b272d",
   "metadata": {},
   "outputs": [
    {
     "data": {
      "text/html": [
       "<div>\n",
       "<style scoped>\n",
       "    .dataframe tbody tr th:only-of-type {\n",
       "        vertical-align: middle;\n",
       "    }\n",
       "\n",
       "    .dataframe tbody tr th {\n",
       "        vertical-align: top;\n",
       "    }\n",
       "\n",
       "    .dataframe thead th {\n",
       "        text-align: right;\n",
       "    }\n",
       "</style>\n",
       "<table border=\"1\" class=\"dataframe\">\n",
       "  <thead>\n",
       "    <tr style=\"text-align: right;\">\n",
       "      <th></th>\n",
       "      <th>feature</th>\n",
       "      <th>coef</th>\n",
       "    </tr>\n",
       "  </thead>\n",
       "  <tbody>\n",
       "    <tr>\n",
       "      <th>0</th>\n",
       "      <td>1</td>\n",
       "      <td>0.0</td>\n",
       "    </tr>\n",
       "    <tr>\n",
       "      <th>1</th>\n",
       "      <td>MedInc</td>\n",
       "      <td>-11.243025</td>\n",
       "    </tr>\n",
       "    <tr>\n",
       "      <th>2</th>\n",
       "      <td>HouseAge</td>\n",
       "      <td>-0.848899</td>\n",
       "    </tr>\n",
       "    <tr>\n",
       "      <th>3</th>\n",
       "      <td>AveRooms</td>\n",
       "      <td>6.441059</td>\n",
       "    </tr>\n",
       "    <tr>\n",
       "      <th>4</th>\n",
       "      <td>AveBedrms</td>\n",
       "      <td>-31.591329</td>\n",
       "    </tr>\n",
       "    <tr>\n",
       "      <th>5</th>\n",
       "      <td>Population</td>\n",
       "      <td>0.000406</td>\n",
       "    </tr>\n",
       "    <tr>\n",
       "      <th>6</th>\n",
       "      <td>AveOccup</td>\n",
       "      <td>1.003862</td>\n",
       "    </tr>\n",
       "    <tr>\n",
       "      <th>7</th>\n",
       "      <td>Latitude</td>\n",
       "      <td>8.705682</td>\n",
       "    </tr>\n",
       "    <tr>\n",
       "      <th>8</th>\n",
       "      <td>Longitude</td>\n",
       "      <td>5.880633</td>\n",
       "    </tr>\n",
       "    <tr>\n",
       "      <th>9</th>\n",
       "      <td>MedInc^2</td>\n",
       "      <td>-0.031308</td>\n",
       "    </tr>\n",
       "    <tr>\n",
       "      <th>10</th>\n",
       "      <td>MedInc HouseAge</td>\n",
       "      <td>0.00186</td>\n",
       "    </tr>\n",
       "    <tr>\n",
       "      <th>11</th>\n",
       "      <td>MedInc AveRooms</td>\n",
       "      <td>0.043302</td>\n",
       "    </tr>\n",
       "    <tr>\n",
       "      <th>12</th>\n",
       "      <td>MedInc AveBedrms</td>\n",
       "      <td>-0.186142</td>\n",
       "    </tr>\n",
       "    <tr>\n",
       "      <th>13</th>\n",
       "      <td>MedInc Population</td>\n",
       "      <td>0.000057</td>\n",
       "    </tr>\n",
       "    <tr>\n",
       "      <th>14</th>\n",
       "      <td>MedInc AveOccup</td>\n",
       "      <td>-0.00259</td>\n",
       "    </tr>\n",
       "    <tr>\n",
       "      <th>15</th>\n",
       "      <td>MedInc Latitude</td>\n",
       "      <td>-0.152506</td>\n",
       "    </tr>\n",
       "    <tr>\n",
       "      <th>16</th>\n",
       "      <td>MedInc Longitude</td>\n",
       "      <td>-0.144243</td>\n",
       "    </tr>\n",
       "    <tr>\n",
       "      <th>17</th>\n",
       "      <td>HouseAge^2</td>\n",
       "      <td>0.000212</td>\n",
       "    </tr>\n",
       "    <tr>\n",
       "      <th>18</th>\n",
       "      <td>HouseAge AveRooms</td>\n",
       "      <td>-0.001262</td>\n",
       "    </tr>\n",
       "    <tr>\n",
       "      <th>19</th>\n",
       "      <td>HouseAge AveBedrms</td>\n",
       "      <td>0.010612</td>\n",
       "    </tr>\n",
       "    <tr>\n",
       "      <th>20</th>\n",
       "      <td>HouseAge Population</td>\n",
       "      <td>0.000003</td>\n",
       "    </tr>\n",
       "    <tr>\n",
       "      <th>21</th>\n",
       "      <td>HouseAge AveOccup</td>\n",
       "      <td>-0.001817</td>\n",
       "    </tr>\n",
       "    <tr>\n",
       "      <th>22</th>\n",
       "      <td>HouseAge Latitude</td>\n",
       "      <td>-0.010069</td>\n",
       "    </tr>\n",
       "    <tr>\n",
       "      <th>23</th>\n",
       "      <td>HouseAge Longitude</td>\n",
       "      <td>-0.01</td>\n",
       "    </tr>\n",
       "    <tr>\n",
       "      <th>24</th>\n",
       "      <td>AveRooms^2</td>\n",
       "      <td>0.007269</td>\n",
       "    </tr>\n",
       "    <tr>\n",
       "      <th>25</th>\n",
       "      <td>AveRooms AveBedrms</td>\n",
       "      <td>-0.068906</td>\n",
       "    </tr>\n",
       "    <tr>\n",
       "      <th>26</th>\n",
       "      <td>AveRooms Population</td>\n",
       "      <td>-0.000068</td>\n",
       "    </tr>\n",
       "    <tr>\n",
       "      <th>27</th>\n",
       "      <td>AveRooms AveOccup</td>\n",
       "      <td>0.026888</td>\n",
       "    </tr>\n",
       "    <tr>\n",
       "      <th>28</th>\n",
       "      <td>AveRooms Latitude</td>\n",
       "      <td>0.087509</td>\n",
       "    </tr>\n",
       "    <tr>\n",
       "      <th>29</th>\n",
       "      <td>AveRooms Longitude</td>\n",
       "      <td>0.082289</td>\n",
       "    </tr>\n",
       "    <tr>\n",
       "      <th>30</th>\n",
       "      <td>AveBedrms^2</td>\n",
       "      <td>0.160181</td>\n",
       "    </tr>\n",
       "    <tr>\n",
       "      <th>31</th>\n",
       "      <td>AveBedrms Population</td>\n",
       "      <td>0.000514</td>\n",
       "    </tr>\n",
       "    <tr>\n",
       "      <th>32</th>\n",
       "      <td>AveBedrms AveOccup</td>\n",
       "      <td>-0.087191</td>\n",
       "    </tr>\n",
       "    <tr>\n",
       "      <th>33</th>\n",
       "      <td>AveBedrms Latitude</td>\n",
       "      <td>-0.437043</td>\n",
       "    </tr>\n",
       "    <tr>\n",
       "      <th>34</th>\n",
       "      <td>AveBedrms Longitude</td>\n",
       "      <td>-0.404151</td>\n",
       "    </tr>\n",
       "    <tr>\n",
       "      <th>35</th>\n",
       "      <td>Population^2</td>\n",
       "      <td>0.0</td>\n",
       "    </tr>\n",
       "    <tr>\n",
       "      <th>36</th>\n",
       "      <td>Population AveOccup</td>\n",
       "      <td>0.000019</td>\n",
       "    </tr>\n",
       "    <tr>\n",
       "      <th>37</th>\n",
       "      <td>Population Latitude</td>\n",
       "      <td>0.000023</td>\n",
       "    </tr>\n",
       "    <tr>\n",
       "      <th>38</th>\n",
       "      <td>Population Longitude</td>\n",
       "      <td>0.000015</td>\n",
       "    </tr>\n",
       "    <tr>\n",
       "      <th>39</th>\n",
       "      <td>AveOccup^2</td>\n",
       "      <td>0.000087</td>\n",
       "    </tr>\n",
       "    <tr>\n",
       "      <th>40</th>\n",
       "      <td>AveOccup Latitude</td>\n",
       "      <td>0.021334</td>\n",
       "    </tr>\n",
       "    <tr>\n",
       "      <th>41</th>\n",
       "      <td>AveOccup Longitude</td>\n",
       "      <td>0.016241</td>\n",
       "    </tr>\n",
       "    <tr>\n",
       "      <th>42</th>\n",
       "      <td>Latitude^2</td>\n",
       "      <td>0.061887</td>\n",
       "    </tr>\n",
       "    <tr>\n",
       "      <th>43</th>\n",
       "      <td>Latitude Longitude</td>\n",
       "      <td>0.108107</td>\n",
       "    </tr>\n",
       "    <tr>\n",
       "      <th>44</th>\n",
       "      <td>Longitude^2</td>\n",
       "      <td>0.039908</td>\n",
       "    </tr>\n",
       "  </tbody>\n",
       "</table>\n",
       "</div>"
      ],
      "text/plain": [
       "                 feature       coef\n",
       "0                      1        0.0\n",
       "1                 MedInc -11.243025\n",
       "2               HouseAge  -0.848899\n",
       "3               AveRooms   6.441059\n",
       "4              AveBedrms -31.591329\n",
       "5             Population   0.000406\n",
       "6               AveOccup   1.003862\n",
       "7               Latitude   8.705682\n",
       "8              Longitude   5.880633\n",
       "9               MedInc^2  -0.031308\n",
       "10       MedInc HouseAge    0.00186\n",
       "11       MedInc AveRooms   0.043302\n",
       "12      MedInc AveBedrms  -0.186142\n",
       "13     MedInc Population   0.000057\n",
       "14       MedInc AveOccup   -0.00259\n",
       "15       MedInc Latitude  -0.152506\n",
       "16      MedInc Longitude  -0.144243\n",
       "17            HouseAge^2   0.000212\n",
       "18     HouseAge AveRooms  -0.001262\n",
       "19    HouseAge AveBedrms   0.010612\n",
       "20   HouseAge Population   0.000003\n",
       "21     HouseAge AveOccup  -0.001817\n",
       "22     HouseAge Latitude  -0.010069\n",
       "23    HouseAge Longitude      -0.01\n",
       "24            AveRooms^2   0.007269\n",
       "25    AveRooms AveBedrms  -0.068906\n",
       "26   AveRooms Population  -0.000068\n",
       "27     AveRooms AveOccup   0.026888\n",
       "28     AveRooms Latitude   0.087509\n",
       "29    AveRooms Longitude   0.082289\n",
       "30           AveBedrms^2   0.160181\n",
       "31  AveBedrms Population   0.000514\n",
       "32    AveBedrms AveOccup  -0.087191\n",
       "33    AveBedrms Latitude  -0.437043\n",
       "34   AveBedrms Longitude  -0.404151\n",
       "35          Population^2        0.0\n",
       "36   Population AveOccup   0.000019\n",
       "37   Population Latitude   0.000023\n",
       "38  Population Longitude   0.000015\n",
       "39            AveOccup^2   0.000087\n",
       "40     AveOccup Latitude   0.021334\n",
       "41    AveOccup Longitude   0.016241\n",
       "42            Latitude^2   0.061887\n",
       "43    Latitude Longitude   0.108107\n",
       "44           Longitude^2   0.039908"
      ]
     },
     "execution_count": 8,
     "metadata": {},
     "output_type": "execute_result"
    }
   ],
   "source": [
    "coeff = pd.DataFrame([poly.get_feature_names_out(), coef.tolist()]).T\n",
    "coeff.columns = ['feature', 'coef']\n",
    "coeff"
   ]
  },
  {
   "cell_type": "code",
   "execution_count": 9,
   "id": "993d53ee",
   "metadata": {},
   "outputs": [
    {
     "data": {
      "text/html": [
       "<div>\n",
       "<style scoped>\n",
       "    .dataframe tbody tr th:only-of-type {\n",
       "        vertical-align: middle;\n",
       "    }\n",
       "\n",
       "    .dataframe tbody tr th {\n",
       "        vertical-align: top;\n",
       "    }\n",
       "\n",
       "    .dataframe thead th {\n",
       "        text-align: right;\n",
       "    }\n",
       "</style>\n",
       "<table border=\"1\" class=\"dataframe\">\n",
       "  <thead>\n",
       "    <tr style=\"text-align: right;\">\n",
       "      <th></th>\n",
       "      <th>feature</th>\n",
       "      <th>coef</th>\n",
       "    </tr>\n",
       "  </thead>\n",
       "  <tbody>\n",
       "    <tr>\n",
       "      <th>4</th>\n",
       "      <td>AveBedrms</td>\n",
       "      <td>-31.591329</td>\n",
       "    </tr>\n",
       "    <tr>\n",
       "      <th>1</th>\n",
       "      <td>MedInc</td>\n",
       "      <td>-11.243025</td>\n",
       "    </tr>\n",
       "    <tr>\n",
       "      <th>2</th>\n",
       "      <td>HouseAge</td>\n",
       "      <td>-0.848899</td>\n",
       "    </tr>\n",
       "    <tr>\n",
       "      <th>33</th>\n",
       "      <td>AveBedrms Latitude</td>\n",
       "      <td>-0.437043</td>\n",
       "    </tr>\n",
       "    <tr>\n",
       "      <th>34</th>\n",
       "      <td>AveBedrms Longitude</td>\n",
       "      <td>-0.404151</td>\n",
       "    </tr>\n",
       "    <tr>\n",
       "      <th>12</th>\n",
       "      <td>MedInc AveBedrms</td>\n",
       "      <td>-0.186142</td>\n",
       "    </tr>\n",
       "    <tr>\n",
       "      <th>15</th>\n",
       "      <td>MedInc Latitude</td>\n",
       "      <td>-0.152506</td>\n",
       "    </tr>\n",
       "    <tr>\n",
       "      <th>16</th>\n",
       "      <td>MedInc Longitude</td>\n",
       "      <td>-0.144243</td>\n",
       "    </tr>\n",
       "    <tr>\n",
       "      <th>32</th>\n",
       "      <td>AveBedrms AveOccup</td>\n",
       "      <td>-0.087191</td>\n",
       "    </tr>\n",
       "    <tr>\n",
       "      <th>25</th>\n",
       "      <td>AveRooms AveBedrms</td>\n",
       "      <td>-0.068906</td>\n",
       "    </tr>\n",
       "    <tr>\n",
       "      <th>9</th>\n",
       "      <td>MedInc^2</td>\n",
       "      <td>-0.031308</td>\n",
       "    </tr>\n",
       "    <tr>\n",
       "      <th>22</th>\n",
       "      <td>HouseAge Latitude</td>\n",
       "      <td>-0.010069</td>\n",
       "    </tr>\n",
       "    <tr>\n",
       "      <th>23</th>\n",
       "      <td>HouseAge Longitude</td>\n",
       "      <td>-0.01</td>\n",
       "    </tr>\n",
       "    <tr>\n",
       "      <th>14</th>\n",
       "      <td>MedInc AveOccup</td>\n",
       "      <td>-0.00259</td>\n",
       "    </tr>\n",
       "    <tr>\n",
       "      <th>21</th>\n",
       "      <td>HouseAge AveOccup</td>\n",
       "      <td>-0.001817</td>\n",
       "    </tr>\n",
       "    <tr>\n",
       "      <th>18</th>\n",
       "      <td>HouseAge AveRooms</td>\n",
       "      <td>-0.001262</td>\n",
       "    </tr>\n",
       "    <tr>\n",
       "      <th>26</th>\n",
       "      <td>AveRooms Population</td>\n",
       "      <td>-0.000068</td>\n",
       "    </tr>\n",
       "    <tr>\n",
       "      <th>35</th>\n",
       "      <td>Population^2</td>\n",
       "      <td>0.0</td>\n",
       "    </tr>\n",
       "    <tr>\n",
       "      <th>0</th>\n",
       "      <td>1</td>\n",
       "      <td>0.0</td>\n",
       "    </tr>\n",
       "    <tr>\n",
       "      <th>20</th>\n",
       "      <td>HouseAge Population</td>\n",
       "      <td>0.000003</td>\n",
       "    </tr>\n",
       "    <tr>\n",
       "      <th>38</th>\n",
       "      <td>Population Longitude</td>\n",
       "      <td>0.000015</td>\n",
       "    </tr>\n",
       "    <tr>\n",
       "      <th>36</th>\n",
       "      <td>Population AveOccup</td>\n",
       "      <td>0.000019</td>\n",
       "    </tr>\n",
       "    <tr>\n",
       "      <th>37</th>\n",
       "      <td>Population Latitude</td>\n",
       "      <td>0.000023</td>\n",
       "    </tr>\n",
       "    <tr>\n",
       "      <th>13</th>\n",
       "      <td>MedInc Population</td>\n",
       "      <td>0.000057</td>\n",
       "    </tr>\n",
       "    <tr>\n",
       "      <th>39</th>\n",
       "      <td>AveOccup^2</td>\n",
       "      <td>0.000087</td>\n",
       "    </tr>\n",
       "    <tr>\n",
       "      <th>17</th>\n",
       "      <td>HouseAge^2</td>\n",
       "      <td>0.000212</td>\n",
       "    </tr>\n",
       "    <tr>\n",
       "      <th>5</th>\n",
       "      <td>Population</td>\n",
       "      <td>0.000406</td>\n",
       "    </tr>\n",
       "    <tr>\n",
       "      <th>31</th>\n",
       "      <td>AveBedrms Population</td>\n",
       "      <td>0.000514</td>\n",
       "    </tr>\n",
       "    <tr>\n",
       "      <th>10</th>\n",
       "      <td>MedInc HouseAge</td>\n",
       "      <td>0.00186</td>\n",
       "    </tr>\n",
       "    <tr>\n",
       "      <th>24</th>\n",
       "      <td>AveRooms^2</td>\n",
       "      <td>0.007269</td>\n",
       "    </tr>\n",
       "    <tr>\n",
       "      <th>19</th>\n",
       "      <td>HouseAge AveBedrms</td>\n",
       "      <td>0.010612</td>\n",
       "    </tr>\n",
       "    <tr>\n",
       "      <th>41</th>\n",
       "      <td>AveOccup Longitude</td>\n",
       "      <td>0.016241</td>\n",
       "    </tr>\n",
       "    <tr>\n",
       "      <th>40</th>\n",
       "      <td>AveOccup Latitude</td>\n",
       "      <td>0.021334</td>\n",
       "    </tr>\n",
       "    <tr>\n",
       "      <th>27</th>\n",
       "      <td>AveRooms AveOccup</td>\n",
       "      <td>0.026888</td>\n",
       "    </tr>\n",
       "    <tr>\n",
       "      <th>44</th>\n",
       "      <td>Longitude^2</td>\n",
       "      <td>0.039908</td>\n",
       "    </tr>\n",
       "    <tr>\n",
       "      <th>11</th>\n",
       "      <td>MedInc AveRooms</td>\n",
       "      <td>0.043302</td>\n",
       "    </tr>\n",
       "    <tr>\n",
       "      <th>42</th>\n",
       "      <td>Latitude^2</td>\n",
       "      <td>0.061887</td>\n",
       "    </tr>\n",
       "    <tr>\n",
       "      <th>29</th>\n",
       "      <td>AveRooms Longitude</td>\n",
       "      <td>0.082289</td>\n",
       "    </tr>\n",
       "    <tr>\n",
       "      <th>28</th>\n",
       "      <td>AveRooms Latitude</td>\n",
       "      <td>0.087509</td>\n",
       "    </tr>\n",
       "    <tr>\n",
       "      <th>43</th>\n",
       "      <td>Latitude Longitude</td>\n",
       "      <td>0.108107</td>\n",
       "    </tr>\n",
       "    <tr>\n",
       "      <th>30</th>\n",
       "      <td>AveBedrms^2</td>\n",
       "      <td>0.160181</td>\n",
       "    </tr>\n",
       "    <tr>\n",
       "      <th>6</th>\n",
       "      <td>AveOccup</td>\n",
       "      <td>1.003862</td>\n",
       "    </tr>\n",
       "    <tr>\n",
       "      <th>8</th>\n",
       "      <td>Longitude</td>\n",
       "      <td>5.880633</td>\n",
       "    </tr>\n",
       "    <tr>\n",
       "      <th>3</th>\n",
       "      <td>AveRooms</td>\n",
       "      <td>6.441059</td>\n",
       "    </tr>\n",
       "    <tr>\n",
       "      <th>7</th>\n",
       "      <td>Latitude</td>\n",
       "      <td>8.705682</td>\n",
       "    </tr>\n",
       "  </tbody>\n",
       "</table>\n",
       "</div>"
      ],
      "text/plain": [
       "                 feature       coef\n",
       "4              AveBedrms -31.591329\n",
       "1                 MedInc -11.243025\n",
       "2               HouseAge  -0.848899\n",
       "33    AveBedrms Latitude  -0.437043\n",
       "34   AveBedrms Longitude  -0.404151\n",
       "12      MedInc AveBedrms  -0.186142\n",
       "15       MedInc Latitude  -0.152506\n",
       "16      MedInc Longitude  -0.144243\n",
       "32    AveBedrms AveOccup  -0.087191\n",
       "25    AveRooms AveBedrms  -0.068906\n",
       "9               MedInc^2  -0.031308\n",
       "22     HouseAge Latitude  -0.010069\n",
       "23    HouseAge Longitude      -0.01\n",
       "14       MedInc AveOccup   -0.00259\n",
       "21     HouseAge AveOccup  -0.001817\n",
       "18     HouseAge AveRooms  -0.001262\n",
       "26   AveRooms Population  -0.000068\n",
       "35          Population^2        0.0\n",
       "0                      1        0.0\n",
       "20   HouseAge Population   0.000003\n",
       "38  Population Longitude   0.000015\n",
       "36   Population AveOccup   0.000019\n",
       "37   Population Latitude   0.000023\n",
       "13     MedInc Population   0.000057\n",
       "39            AveOccup^2   0.000087\n",
       "17            HouseAge^2   0.000212\n",
       "5             Population   0.000406\n",
       "31  AveBedrms Population   0.000514\n",
       "10       MedInc HouseAge    0.00186\n",
       "24            AveRooms^2   0.007269\n",
       "19    HouseAge AveBedrms   0.010612\n",
       "41    AveOccup Longitude   0.016241\n",
       "40     AveOccup Latitude   0.021334\n",
       "27     AveRooms AveOccup   0.026888\n",
       "44           Longitude^2   0.039908\n",
       "11       MedInc AveRooms   0.043302\n",
       "42            Latitude^2   0.061887\n",
       "29    AveRooms Longitude   0.082289\n",
       "28     AveRooms Latitude   0.087509\n",
       "43    Latitude Longitude   0.108107\n",
       "30           AveBedrms^2   0.160181\n",
       "6               AveOccup   1.003862\n",
       "8              Longitude   5.880633\n",
       "3               AveRooms   6.441059\n",
       "7               Latitude   8.705682"
      ]
     },
     "execution_count": 9,
     "metadata": {},
     "output_type": "execute_result"
    }
   ],
   "source": [
    "coeff.sort_values(by='coef')"
   ]
  },
  {
   "cell_type": "code",
   "execution_count": 10,
   "id": "596b3fbe",
   "metadata": {},
   "outputs": [
    {
     "name": "stdout",
     "output_type": "stream",
     "text": [
      "1\n",
      "2\n",
      "3\n",
      "4\n"
     ]
    },
    {
     "data": {
      "text/plain": [
       "[<matplotlib.lines.Line2D at 0x2099ffbde70>]"
      ]
     },
     "execution_count": 10,
     "metadata": {},
     "output_type": "execute_result"
    },
    {
     "data": {
      "image/png": "[encoded data removed]",
      "text/plain": [
       "<Figure size 640x480 with 1 Axes>"
      ]
     },
     "metadata": {},
     "output_type": "display_data"
    }
   ],
   "source": [
    "from sklearn.pipeline import Pipeline\n",
    "import matplotlib.pyplot as plt\n",
    "degree = np.arange(1, 5)\n",
    "score = []\n",
    "for d in degree:\n",
    "    pipe = Pipeline([\n",
    "        ('poly feature', PolynomialFeatures(degree=d))\n",
    "        , ('lr', LinearRegression())\n",
    "        ])\n",
    "    pipe.fit(x, y)\n",
    "    score.append(pipe.score(x, y))\n",
    "    print(d)\n",
    "\n",
    "plt.plot(degree, score)"
   ]
  },
  {
   "cell_type": "code",
   "execution_count": 11,
   "id": "bb893a39",
   "metadata": {},
   "outputs": [
    {
     "data": {
      "text/plain": [
       "array([[ 1.00000000e+00,  8.32520000e+00,  4.10000000e+01, ...,\n",
       "        -1.75387143e+05,  5.65933749e+05, -1.82613733e+06],\n",
       "       [ 1.00000000e+00,  8.30140000e+00,  2.10000000e+01, ...,\n",
       "        -1.75187655e+05,  5.65542397e+05, -1.82568917e+06],\n",
       "       [ 1.00000000e+00,  7.25740000e+00,  5.20000000e+01, ...,\n",
       "        -1.75123774e+05,  5.65578076e+05, -1.82658558e+06],\n",
       "       ...,\n",
       "       [ 1.00000000e+00,  1.70000000e+00,  1.70000000e+01, ...,\n",
       "        -1.88463752e+05,  5.79395792e+05, -1.78124164e+06],\n",
       "       [ 1.00000000e+00,  1.86720000e+00,  1.80000000e+01, ...,\n",
       "        -1.88619225e+05,  5.80352127e+05, -1.78565356e+06],\n",
       "       [ 1.00000000e+00,  2.38860000e+00,  1.60000000e+01, ...,\n",
       "        -1.87921624e+05,  5.78705047e+05, -1.78212344e+06]])"
      ]
     },
     "execution_count": 11,
     "metadata": {},
     "output_type": "execute_result"
    }
   ],
   "source": [
    "x3 = PolynomialFeatures(degree=3).fit_transform(x)\n",
    "x3"
   ]
  },
  {
   "cell_type": "code",
   "execution_count": 12,
   "id": "86d76d73",
   "metadata": {},
   "outputs": [
    {
     "data": {
      "text/plain": [
       "0.7286583857912275"
      ]
     },
     "execution_count": 12,
     "metadata": {},
     "output_type": "execute_result"
    }
   ],
   "source": [
    "linear3 = LinearRegression().fit(x3, y)\n",
    "linear3.score(x3, y)"
   ]
  },
  {
   "cell_type": "code",
   "execution_count": 13,
   "id": "1f0a289c",
   "metadata": {},
   "outputs": [],
   "source": [
    "poly3col_name = PolynomialFeatures(degree=3).fit(x).get_feature_names_out()"
   ]
  },
  {
   "cell_type": "code",
   "execution_count": 16,
   "id": "ce861aa4",
   "metadata": {},
   "outputs": [
    {
     "data": {
      "text/html": [
       "<div>\n",
       "<style scoped>\n",
       "    .dataframe tbody tr th:only-of-type {\n",
       "        vertical-align: middle;\n",
       "    }\n",
       "\n",
       "    .dataframe tbody tr th {\n",
       "        vertical-align: top;\n",
       "    }\n",
       "\n",
       "    .dataframe thead th {\n",
       "        text-align: right;\n",
       "    }\n",
       "</style>\n",
       "<table border=\"1\" class=\"dataframe\">\n",
       "  <thead>\n",
       "    <tr style=\"text-align: right;\">\n",
       "      <th></th>\n",
       "      <th>feature</th>\n",
       "      <th>coef</th>\n",
       "    </tr>\n",
       "  </thead>\n",
       "  <tbody>\n",
       "    <tr>\n",
       "      <th>96</th>\n",
       "      <td>HouseAge AveBedrms AveOccup</td>\n",
       "      <td>-0.011028</td>\n",
       "    </tr>\n",
       "    <tr>\n",
       "      <th>43</th>\n",
       "      <td>Latitude Longitude</td>\n",
       "      <td>-0.007837</td>\n",
       "    </tr>\n",
       "    <tr>\n",
       "      <th>13</th>\n",
       "      <td>MedInc Population</td>\n",
       "      <td>-0.004337</td>\n",
       "    </tr>\n",
       "    <tr>\n",
       "      <th>89</th>\n",
       "      <td>HouseAge AveRooms AveBedrms</td>\n",
       "      <td>-0.00334</td>\n",
       "    </tr>\n",
       "    <tr>\n",
       "      <th>139</th>\n",
       "      <td>AveBedrms AveOccup^2</td>\n",
       "      <td>-0.00322</td>\n",
       "    </tr>\n",
       "    <tr>\n",
       "      <th>...</th>\n",
       "      <td>...</td>\n",
       "      <td>...</td>\n",
       "    </tr>\n",
       "    <tr>\n",
       "      <th>118</th>\n",
       "      <td>AveRooms AveBedrms Latitude</td>\n",
       "      <td>0.004107</td>\n",
       "    </tr>\n",
       "    <tr>\n",
       "      <th>162</th>\n",
       "      <td>Latitude^2 Longitude</td>\n",
       "      <td>0.009886</td>\n",
       "    </tr>\n",
       "    <tr>\n",
       "      <th>161</th>\n",
       "      <td>Latitude^3</td>\n",
       "      <td>0.010829</td>\n",
       "    </tr>\n",
       "    <tr>\n",
       "      <th>44</th>\n",
       "      <td>Longitude^2</td>\n",
       "      <td>0.010956</td>\n",
       "    </tr>\n",
       "    <tr>\n",
       "      <th>50</th>\n",
       "      <td>MedInc^2 AveOccup</td>\n",
       "      <td>0.014259</td>\n",
       "    </tr>\n",
       "  </tbody>\n",
       "</table>\n",
       "<p>165 rows × 2 columns</p>\n",
       "</div>"
      ],
      "text/plain": [
       "                         feature      coef\n",
       "96   HouseAge AveBedrms AveOccup -0.011028\n",
       "43            Latitude Longitude -0.007837\n",
       "13             MedInc Population -0.004337\n",
       "89   HouseAge AveRooms AveBedrms  -0.00334\n",
       "139         AveBedrms AveOccup^2  -0.00322\n",
       "..                           ...       ...\n",
       "118  AveRooms AveBedrms Latitude  0.004107\n",
       "162         Latitude^2 Longitude  0.009886\n",
       "161                   Latitude^3  0.010829\n",
       "44                   Longitude^2  0.010956\n",
       "50             MedInc^2 AveOccup  0.014259\n",
       "\n",
       "[165 rows x 2 columns]"
      ]
     },
     "execution_count": 16,
     "metadata": {},
     "output_type": "execute_result"
    }
   ],
   "source": [
    "coef3 = pd.DataFrame([poly3col_name, linear3.coef_]).T\n",
    "coef3.columns = ['feature', 'coef']\n",
    "coef3.sort_values(by='coef')"
   ]
  },
  {
   "cell_type": "code",
   "execution_count": 17,
   "id": "cae65341",
   "metadata": {},
   "outputs": [],
   "source": [
    "# 使用集成算法\n",
    "from sklearn.ensemble import RandomForestRegressor"
   ]
  },
  {
   "cell_type": "code",
   "execution_count": null,
   "id": "af85a68d",
   "metadata": {},
   "outputs": [
    {
     "data": {
      "text/plain": [
       "0.9741559454556301"
      ]
     },
     "execution_count": 18,
     "metadata": {},
     "output_type": "execute_result"
    }
   ],
   "source": [
    "RandomForestRegressor().fit(x, y).score(x, y)\n",
    "# 跑很久，效果好"
   ]
  },
  {
   "cell_type": "code",
   "execution_count": null,
   "id": "f7019d78",
   "metadata": {},
   "outputs": [],
   "source": []
  }
 ],
 "metadata": {
  "kernelspec": {
   "display_name": "Python (mineenv)",
   "language": "python",
   "name": "mineenv"
  },
  "language_info": {
   "codemirror_mode": {
    "name": "ipython",
    "version": 3
   },
   "file_extension": ".py",
   "mimetype": "text/x-python",
   "name": "python",
   "nbconvert_exporter": "python",
   "pygments_lexer": "ipython3",
   "version": "3.10.18"
  }
 },
 "nbformat": 4,
 "nbformat_minor": 5
}
