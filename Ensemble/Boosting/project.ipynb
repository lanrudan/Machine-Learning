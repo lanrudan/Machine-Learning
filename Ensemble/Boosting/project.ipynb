{
 "cells": [
  {
   "cell_type": "markdown",
   "id": "ab90f6e3",
   "metadata": {},
   "source": [
    "### 过拟合：剪枝参数与回归模型调参\n",
    "\n",
    "| 参数含义 | xgb.train() | xgb.XGBRegressor |\n",
    "|---|---|---|\n",
    "| 树的最大深度* | max_depth, 默认6 | max_depth, 默认6 |\n",
    "| 每次生成树时随机抽样特征的比例* | colsample_bytree, 默认1 | colsample_bytree, 默认1 |\n",
    "| 每次生成树的一层时<br>随机抽样特征的比例* | colsample_bylevel, 默认1 | colsample_bylevel, 默认1 |\n",
    "| 每次生成一个叶子节点时<br>随机抽样特征的比例 | colsample_bynode, 默认1 | N.A. |\n",
    "| 一个叶子节点上所需要的最小h，<br>即子节点处的二阶导数之和<br>类似于样本权重 | min_child_weight, 默认1 | min_child_weight, 默认1 |"
   ]
  },
  {
   "cell_type": "markdown",
   "id": "4bb712a3",
   "metadata": {},
   "source": [
    "通常当我们获得了一个数据集后，我们先使用网格搜索找出比较合适的n_estimators和eta组合，然后使用gamma或者max depth观察模型处于什么样的状态(过拟合还是欠拟合)，最后再决定是否要进行剪枝。通常来说，对于XGB模型，大多数时候都是需要剪枝的。\n",
    "\n",
    "使用xgb.cv这个类来进行剪枝调参，以调整出一组泛化能力很强的参数。"
   ]
  },
  {
   "cell_type": "code",
   "execution_count": null,
   "id": "faf07533",
   "metadata": {},
   "outputs": [],
   "source": [
    "import matplotlib.pyplot as plt\n",
    "import pandas as pd\n",
    "import numpy as np\n",
    "import xgboost as XGB\n",
    "from sklearn.datasets import load_breast_cancer\n",
    "from sklearn.model_selection import cross_val_score, train_test_split"
   ]
  },
  {
   "cell_type": "code",
   "execution_count": null,
   "id": "31350a8e",
   "metadata": {},
   "outputs": [],
   "source": [
    "\n",
    "data_url = \"http://lib.stat.cmu.edu/datasets/boston\"\n",
    "raw_df = pd.read_csv(data_url, sep=\"\\s+\", skiprows=22, header=None)\n",
    "data = np.hstack([raw_df.values[::2, :], raw_df.values[1::2, :2]])\n",
    "target = raw_df.values[1::2, 2]"
   ]
  },
  {
   "cell_type": "code",
   "execution_count": null,
   "id": "d72c4234",
   "metadata": {},
   "outputs": [],
   "source": [
    "x = data\n",
    "y = target\n",
    "xtrain, xtest, ytrain, ytest = train_test_split(x, y, test_size=0.3, random_state=888)\n",
    "dtrain = XGB.DMatrix(xtrain, ytrain)\n",
    "dtest = XGB.DMatrix(xtest, ytest)"
   ]
  },
  {
   "cell_type": "markdown",
   "id": "73bae078",
   "metadata": {},
   "source": [
    "下面是在观察默认参数下现有数据集的表现。"
   ]
  },
  {
   "cell_type": "code",
   "execution_count": null,
   "id": "606f802f",
   "metadata": {},
   "outputs": [],
   "source": [
    "param1 = {'objective':'reg:squarederror'\n",
    "          , 'subsample':1\n",
    "          , 'max_depth':6\n",
    "          , 'eta':0.3\n",
    "          , 'gamma':0\n",
    "          , 'lambda':1\n",
    "          , 'alpha':0\n",
    "          , 'colsample_bytree':1\n",
    "          , 'colsample_bylevel':1\n",
    "          , 'colsample_bynode':1\n",
    "\n",
    "          }\n",
    "num_round = 200"
   ]
  },
  {
   "cell_type": "code",
   "execution_count": null,
   "id": "4a423714",
   "metadata": {},
   "outputs": [
    {
     "name": "stdout",
     "output_type": "stream",
     "text": [
      "00:00:524759\n"
     ]
    }
   ],
   "source": [
    "from time import time\n",
    "import datetime\n",
    "time0 = time()\n",
    "cvresult1 = XGB.cv(param1, dtrain, num_round)\n",
    "print(datetime.datetime.fromtimestamp(time() - time0).strftime('%M:%S:%f'))"
   ]
  },
  {
   "cell_type": "code",
   "execution_count": null,
   "id": "0efaee72",
   "metadata": {},
   "outputs": [
    {
     "data": {
      "text/html": [
       "<div>\n",
       "<style scoped>\n",
       "    .dataframe tbody tr th:only-of-type {\n",
       "        vertical-align: middle;\n",
       "    }\n",
       "\n",
       "    .dataframe tbody tr th {\n",
       "        vertical-align: top;\n",
       "    }\n",
       "\n",
       "    .dataframe thead th {\n",
       "        text-align: right;\n",
       "    }\n",
       "</style>\n",
       "<table border=\"1\" class=\"dataframe\">\n",
       "  <thead>\n",
       "    <tr style=\"text-align: right;\">\n",
       "      <th></th>\n",
       "      <th>train-rmse-mean</th>\n",
       "      <th>train-rmse-std</th>\n",
       "      <th>test-rmse-mean</th>\n",
       "      <th>test-rmse-std</th>\n",
       "    </tr>\n",
       "  </thead>\n",
       "  <tbody>\n",
       "    <tr>\n",
       "      <th>0</th>\n",
       "      <td>7.041780</td>\n",
       "      <td>0.190282</td>\n",
       "      <td>7.457310</td>\n",
       "      <td>0.585668</td>\n",
       "    </tr>\n",
       "    <tr>\n",
       "      <th>1</th>\n",
       "      <td>5.350889</td>\n",
       "      <td>0.119375</td>\n",
       "      <td>6.131143</td>\n",
       "      <td>0.670070</td>\n",
       "    </tr>\n",
       "    <tr>\n",
       "      <th>2</th>\n",
       "      <td>4.124506</td>\n",
       "      <td>0.076088</td>\n",
       "      <td>5.333468</td>\n",
       "      <td>0.837220</td>\n",
       "    </tr>\n",
       "    <tr>\n",
       "      <th>3</th>\n",
       "      <td>3.238460</td>\n",
       "      <td>0.032855</td>\n",
       "      <td>4.800625</td>\n",
       "      <td>0.841329</td>\n",
       "    </tr>\n",
       "    <tr>\n",
       "      <th>4</th>\n",
       "      <td>2.586832</td>\n",
       "      <td>0.016378</td>\n",
       "      <td>4.389032</td>\n",
       "      <td>0.732693</td>\n",
       "    </tr>\n",
       "    <tr>\n",
       "      <th>...</th>\n",
       "      <td>...</td>\n",
       "      <td>...</td>\n",
       "      <td>...</td>\n",
       "      <td>...</td>\n",
       "    </tr>\n",
       "    <tr>\n",
       "      <th>195</th>\n",
       "      <td>0.001066</td>\n",
       "      <td>0.000033</td>\n",
       "      <td>3.760445</td>\n",
       "      <td>0.591509</td>\n",
       "    </tr>\n",
       "    <tr>\n",
       "      <th>196</th>\n",
       "      <td>0.001066</td>\n",
       "      <td>0.000033</td>\n",
       "      <td>3.760445</td>\n",
       "      <td>0.591509</td>\n",
       "    </tr>\n",
       "    <tr>\n",
       "      <th>197</th>\n",
       "      <td>0.001066</td>\n",
       "      <td>0.000033</td>\n",
       "      <td>3.760445</td>\n",
       "      <td>0.591509</td>\n",
       "    </tr>\n",
       "    <tr>\n",
       "      <th>198</th>\n",
       "      <td>0.001066</td>\n",
       "      <td>0.000033</td>\n",
       "      <td>3.760445</td>\n",
       "      <td>0.591509</td>\n",
       "    </tr>\n",
       "    <tr>\n",
       "      <th>199</th>\n",
       "      <td>0.001066</td>\n",
       "      <td>0.000033</td>\n",
       "      <td>3.760445</td>\n",
       "      <td>0.591509</td>\n",
       "    </tr>\n",
       "  </tbody>\n",
       "</table>\n",
       "<p>200 rows × 4 columns</p>\n",
       "</div>"
      ],
      "text/plain": [
       "     train-rmse-mean  train-rmse-std  test-rmse-mean  test-rmse-std\n",
       "0           7.041780        0.190282        7.457310       0.585668\n",
       "1           5.350889        0.119375        6.131143       0.670070\n",
       "2           4.124506        0.076088        5.333468       0.837220\n",
       "3           3.238460        0.032855        4.800625       0.841329\n",
       "4           2.586832        0.016378        4.389032       0.732693\n",
       "..               ...             ...             ...            ...\n",
       "195         0.001066        0.000033        3.760445       0.591509\n",
       "196         0.001066        0.000033        3.760445       0.591509\n",
       "197         0.001066        0.000033        3.760445       0.591509\n",
       "198         0.001066        0.000033        3.760445       0.591509\n",
       "199         0.001066        0.000033        3.760445       0.591509\n",
       "\n",
       "[200 rows x 4 columns]"
      ]
     },
     "execution_count": 85,
     "metadata": {},
     "output_type": "execute_result"
    }
   ],
   "source": [
    "cvresult1"
   ]
  },
  {
   "cell_type": "code",
   "execution_count": null,
   "id": "18b5ba14",
   "metadata": {},
   "outputs": [
    {
     "data": {
      "image/png": "[encoded data removed]",
      "text/plain": [
       "<Figure size 640x480 with 1 Axes>"
      ]
     },
     "metadata": {},
     "output_type": "display_data"
    }
   ],
   "source": [
    "fig, ax = plt.subplots(1)\n",
    "ax.grid()\n",
    "ax.plot(range(1, 201), cvresult1.iloc[:, 0], label = 'train, original')\n",
    "ax.plot(range(1, 201), cvresult1.iloc[:, 2], label = 'test, original')\n",
    "ax.legend()\n",
    "ax.set_ylim(top=5)\n",
    "ax.set_ylabel('mse')\n",
    "plt.show()"
   ]
  },
  {
   "cell_type": "markdown",
   "id": "8e0e3db0",
   "metadata": {},
   "source": [
    "模型处于过拟合的状态，需要剪枝，以达到训练集和测试集上效果差不多的"
   ]
  },
  {
   "cell_type": "code",
   "execution_count": null,
   "id": "346ebb2a",
   "metadata": {},
   "outputs": [
    {
     "data": {
      "image/png": "[encoded data removed]",
      "text/plain": [
       "<Figure size 640x480 with 1 Axes>"
      ]
     },
     "metadata": {},
     "output_type": "display_data"
    }
   ],
   "source": [
    "# 调参 可视化\n",
    "param2 = {'objective':'reg:squarederror'\n",
    "          , 'subsample':1\n",
    "          , 'max_depth':3\n",
    "          , 'eta':0.03\n",
    "          , 'gamma':0\n",
    "          , 'lambda':0.5\n",
    "          , 'alpha':1\n",
    "          , 'colsample_bytree':1\n",
    "          , 'colsample_bylevel':1\n",
    "          , 'colsample_bynode':1\n",
    "\n",
    "          }\n",
    "param3 = {'objective':'reg:squarederror'\n",
    "          , 'subsample':1\n",
    "          , 'max_depth':3\n",
    "          , 'eta':0.03\n",
    "          , 'gamma':20\n",
    "          , 'lambda':0.5\n",
    "          , 'alpha':1\n",
    "          , 'colsample_bytree':1\n",
    "          , 'colsample_bylevel':1\n",
    "          , 'colsample_bynode':1\n",
    "\n",
    "          }\n",
    "cvresult2 = XGB.cv(param2, dtrain, num_round)\n",
    "cvresult3 = XGB.cv(param3, dtrain, num_round)\n",
    "fig, ax = plt.subplots(1)\n",
    "ax.grid()\n",
    "\n",
    "ax.plot(range(1, 201), cvresult1.iloc[:, 0], label='train, original', color='black') # 黑色\n",
    "ax.plot(range(1, 201), cvresult1.iloc[:, 2], label='test, original', color='gray') # 灰色\n",
    "ax.plot(range(1, 201), cvresult2.iloc[:, 0], label='train, second', color='red') # 红色\n",
    "ax.plot(range(1, 201), cvresult2.iloc[:, 2], label='test, second', color='pink') # 粉色\n",
    "ax.plot(range(1, 201), cvresult3.iloc[:, 0], label='train, contrast', color='darkblue') # 深蓝色\n",
    "ax.plot(range(1, 201), cvresult3.iloc[:, 2], label='test, contrast', color='lightblue') # 浅蓝色\n",
    "ax.legend()\n",
    "ax.set_ylim(top=5)\n",
    "ax.set_ylabel('mse')\n",
    "plt.show()"
   ]
  },
  {
   "cell_type": "markdown",
   "id": "dfb137c8",
   "metadata": {},
   "source": [
    "### 使用pickle保存和调用训练好的XGB模型"
   ]
  },
  {
   "cell_type": "code",
   "execution_count": null,
   "id": "0818fcb5",
   "metadata": {},
   "outputs": [],
   "source": [
    "import pickle\n",
    "\n",
    "bst = XGB.train(param2, dtrain, num_round)"
   ]
  },
  {
   "cell_type": "code",
   "execution_count": null,
   "id": "36fd6d26",
   "metadata": {},
   "outputs": [],
   "source": [
    "pickle.dump(bst, open('bst.dat', 'wb'))"
   ]
  },
  {
   "cell_type": "code",
   "execution_count": null,
   "id": "748f6f97",
   "metadata": {},
   "outputs": [],
   "source": [
    "import sys\n",
    "\n",
    "sys.path"
   ]
  },
  {
   "cell_type": "markdown",
   "id": "f1aa1720",
   "metadata": {},
   "source": [
    "关闭现有文件之后尝试导入"
   ]
  },
  {
   "cell_type": "code",
   "execution_count": 2,
   "id": "6a51a4ce",
   "metadata": {},
   "outputs": [],
   "source": [
    "from sklearn.model_selection import train_test_split\n",
    "from sklearn.metrics import mean_squared_error as MSE, r2_score\n",
    "import pickle\n",
    "import xgboost as XGB\n",
    "import pandas as pd\n",
    "import numpy as np\n",
    "\n",
    "data_url = \"http://lib.stat.cmu.edu/datasets/boston\"\n",
    "raw_df = pd.read_csv(data_url, sep=\"\\s+\", skiprows=22, header=None)\n",
    "x = np.hstack([raw_df.values[::2, :], raw_df.values[1::2, :2]])\n",
    "y = raw_df.values[1::2, 2]\n",
    "xtrain, xtest, ytrain, ytest = train_test_split(x, y, test_size=0.3, random_state=888)\n",
    "dtrain = XGB.DMatrix(xtrain, ytrain)\n",
    "dtest = XGB.DMatrix(xtest)"
   ]
  },
  {
   "cell_type": "code",
   "execution_count": null,
   "id": "47de2321",
   "metadata": {},
   "outputs": [],
   "source": [
    "# 导入模型\n",
    "load_model = pickle.load(open('bst.dat', 'rb'))"
   ]
  },
  {
   "cell_type": "code",
   "execution_count": null,
   "id": "55ad1cb3",
   "metadata": {},
   "outputs": [],
   "source": [
    "y_pred = load_model.predict(dtest)"
   ]
  },
  {
   "cell_type": "code",
   "execution_count": null,
   "id": "a80efaa3",
   "metadata": {},
   "outputs": [
    {
     "data": {
      "text/plain": [
       "9.016553348049989"
      ]
     },
     "execution_count": 14,
     "metadata": {},
     "output_type": "execute_result"
    }
   ],
   "source": [
    "MSE(ytest, y_pred)"
   ]
  },
  {
   "cell_type": "code",
   "execution_count": null,
   "id": "4e1beb7b",
   "metadata": {},
   "outputs": [
    {
     "data": {
      "text/plain": [
       "0.8766999985260078"
      ]
     },
     "execution_count": 15,
     "metadata": {},
     "output_type": "execute_result"
    }
   ],
   "source": [
    "r2_score(ytest, y_pred)"
   ]
  },
  {
   "cell_type": "markdown",
   "id": "c9efcc35",
   "metadata": {},
   "source": [
    "### 使用joblib保存和调用训练好的xgb模型"
   ]
  },
  {
   "cell_type": "code",
   "execution_count": 4,
   "id": "994b21d5",
   "metadata": {},
   "outputs": [],
   "source": [
    "import joblib\n"
   ]
  },
  {
   "cell_type": "code",
   "execution_count": null,
   "id": "1aeac46a",
   "metadata": {},
   "outputs": [],
   "source": [
    "\n",
    "joblib.dump(bst, 'xgb.dat')\n"
   ]
  },
  {
   "cell_type": "code",
   "execution_count": 5,
   "id": "995135da",
   "metadata": {},
   "outputs": [],
   "source": [
    "\n",
    "loaded_model = joblib.load('bst.dat')\n",
    "y_pred = loaded_model.predict(dtest)"
   ]
  },
  {
   "cell_type": "code",
   "execution_count": 6,
   "id": "bcbd42b3",
   "metadata": {},
   "outputs": [
    {
     "data": {
      "text/plain": [
       "9.016553348049989"
      ]
     },
     "execution_count": 6,
     "metadata": {},
     "output_type": "execute_result"
    }
   ],
   "source": [
    "MSE(ytest, y_pred)"
   ]
  },
  {
   "cell_type": "code",
   "execution_count": 7,
   "id": "3143fbf6",
   "metadata": {},
   "outputs": [
    {
     "data": {
      "text/plain": [
       "0.8766999985260078"
      ]
     },
     "execution_count": 7,
     "metadata": {},
     "output_type": "execute_result"
    }
   ],
   "source": [
    "r2_score(ytest, y_pred)"
   ]
  },
  {
   "cell_type": "markdown",
   "id": "31e1f9ba",
   "metadata": {},
   "source": [
    "## 分类时样本不平衡问题"
   ]
  },
  {
   "cell_type": "code",
   "execution_count": null,
   "id": "f143091a",
   "metadata": {},
   "outputs": [],
   "source": [
    "import numpy as np\n",
    "import pandas as pd\n",
    "import matplotlib.pyplot as plt\n",
    "import xgboost as XGB\n",
    "from xgboost import XGBClassifier as XGBC \n",
    "from sklearn.datasets import make_blobs\n",
    "from sklearn.model_selection import train_test_split\n",
    "from sklearn.metrics import confusion_matrix as CM, recall_score as Recall, roc_auc_score as AUC"
   ]
  },
  {
   "cell_type": "code",
   "execution_count": 10,
   "id": "96b12425",
   "metadata": {},
   "outputs": [],
   "source": [
    "class1 = 500\n",
    "class2 = 50\n",
    "centers = [[0.0, 0.0], [2.0, 2.0]]\n",
    "cluster_std = [1.5, 0.5]\n",
    "x, y = make_blobs(n_samples=[class1, class2]\n",
    "                  , n_features=2\n",
    "                  , centers=centers\n",
    "                  , cluster_std=cluster_std\n",
    "                  , random_state=888\n",
    "                  , shuffle=False)\n",
    "xtrain, xtest, ytrain, ytest = train_test_split(x, y, test_size=0.3, random_state=888)"
   ]
  },
  {
   "cell_type": "code",
   "execution_count": 13,
   "id": "7ac45b7d",
   "metadata": {},
   "outputs": [
    {
     "data": {
      "text/plain": [
       "(0.09090909090909091, 0.9090909090909091)"
      ]
     },
     "execution_count": 13,
     "metadata": {},
     "output_type": "execute_result"
    }
   ],
   "source": [
    "(y == 1).sum()/y.shape[0], (y == 0).sum()/y.shape[0]"
   ]
  },
  {
   "cell_type": "markdown",
   "id": "3b5e2197",
   "metadata": {},
   "source": [
    "### 使用sklearn"
   ]
  },
  {
   "cell_type": "markdown",
   "id": "a851a7d0",
   "metadata": {},
   "source": [
    "#### 无视样本不均衡问题"
   ]
  },
  {
   "cell_type": "code",
   "execution_count": null,
   "id": "52e07d05",
   "metadata": {},
   "outputs": [
    {
     "data": {
      "text/plain": [
       "0.9393939393939394"
      ]
     },
     "execution_count": 15,
     "metadata": {},
     "output_type": "execute_result"
    }
   ],
   "source": [
    "clf = XGBC().fit(xtrain, ytrain)\n",
    "y_pred = clf.predict(xtest)\n",
    "clf.score(xtest, ytest) # 分类模型的Score返回的是Accuracy"
   ]
  },
  {
   "cell_type": "code",
   "execution_count": 20,
   "id": "90edac03",
   "metadata": {},
   "outputs": [
    {
     "data": {
      "text/plain": [
       "array([[  6,   7],\n",
       "       [  3, 149]], dtype=int64)"
      ]
     },
     "execution_count": 20,
     "metadata": {},
     "output_type": "execute_result"
    }
   ],
   "source": [
    "CM(ytest, y_pred, labels = [1, 0])# 少数类写在前面"
   ]
  },
  {
   "cell_type": "code",
   "execution_count": 21,
   "id": "04d0e608",
   "metadata": {},
   "outputs": [
    {
     "data": {
      "text/plain": [
       "0.46153846153846156"
      ]
     },
     "execution_count": 21,
     "metadata": {},
     "output_type": "execute_result"
    }
   ],
   "source": [
    "Recall(ytest, y_pred)"
   ]
  },
  {
   "cell_type": "code",
   "execution_count": 22,
   "id": "71c2c12c",
   "metadata": {},
   "outputs": [
    {
     "data": {
      "text/plain": [
       "0.9807692307692307"
      ]
     },
     "execution_count": 22,
     "metadata": {},
     "output_type": "execute_result"
    }
   ],
   "source": [
    "AUC(ytest, clf.predict_proba(xtest)[:, 1])"
   ]
  },
  {
   "cell_type": "markdown",
   "id": "1256c033",
   "metadata": {},
   "source": [
    "#### scale_pos_weight\n",
    "\n",
    "负/正样本比例"
   ]
  },
  {
   "cell_type": "code",
   "execution_count": 36,
   "id": "a26d222f",
   "metadata": {},
   "outputs": [
    {
     "data": {
      "text/plain": [
       "0.9515151515151515"
      ]
     },
     "execution_count": 36,
     "metadata": {},
     "output_type": "execute_result"
    }
   ],
   "source": [
    "clf2 = XGBC(scale_pos_weight = 10).fit(xtrain, ytrain)\n",
    "ypred2 = clf2.predict(xtest)\n",
    "ypredprob2 = clf2.predict_proba(xtest)\n",
    "clf2.score(xtest, ytest)"
   ]
  },
  {
   "cell_type": "code",
   "execution_count": 37,
   "id": "8ec8b036",
   "metadata": {},
   "outputs": [
    {
     "data": {
      "text/plain": [
       "array([[  9,   4],\n",
       "       [  4, 148]], dtype=int64)"
      ]
     },
     "execution_count": 37,
     "metadata": {},
     "output_type": "execute_result"
    }
   ],
   "source": [
    "CM(ytest, ypred2, labels=[1, 0])"
   ]
  },
  {
   "cell_type": "code",
   "execution_count": 38,
   "id": "787779b1",
   "metadata": {},
   "outputs": [
    {
     "data": {
      "text/plain": [
       "0.6923076923076923"
      ]
     },
     "execution_count": 38,
     "metadata": {},
     "output_type": "execute_result"
    }
   ],
   "source": [
    "Recall(ytest, ypred2)"
   ]
  },
  {
   "cell_type": "code",
   "execution_count": 39,
   "id": "2eb9ad44",
   "metadata": {},
   "outputs": [
    {
     "data": {
      "text/plain": [
       "0.9762145748987854"
      ]
     },
     "execution_count": 39,
     "metadata": {},
     "output_type": "execute_result"
    }
   ],
   "source": [
    "AUC(ytest, ypredprob2[:, 1])"
   ]
  },
  {
   "cell_type": "code",
   "execution_count": 41,
   "id": "2b478526",
   "metadata": {},
   "outputs": [
    {
     "name": "stdout",
     "output_type": "stream",
     "text": [
      "1\n",
      "\tAccuracy:0.9393939393939394\n",
      "\tRecall:0.46153846153846156\n",
      "\tAUC:0.9807692307692307\n",
      "5\n",
      "\tAccuracy:0.9393939393939394\n",
      "\tRecall:0.6153846153846154\n",
      "\tAUC:0.978744939271255\n",
      "10\n",
      "\tAccuracy:0.9515151515151515\n",
      "\tRecall:0.6923076923076923\n",
      "\tAUC:0.9762145748987854\n",
      "15\n",
      "\tAccuracy:0.9393939393939394\n",
      "\tRecall:0.5384615384615384\n",
      "\tAUC:0.9767206477732794\n",
      "20\n",
      "\tAccuracy:0.9393939393939394\n",
      "\tRecall:0.6153846153846154\n",
      "\tAUC:0.972672064777328\n",
      "30\n",
      "\tAccuracy:0.9393939393939394\n",
      "\tRecall:0.6153846153846154\n",
      "\tAUC:0.9752024291497974\n",
      "40\n",
      "\tAccuracy:0.9454545454545454\n",
      "\tRecall:0.6153846153846154\n",
      "\tAUC:0.9762145748987854\n",
      "50\n",
      "\tAccuracy:0.9515151515151515\n",
      "\tRecall:0.6923076923076923\n",
      "\tAUC:0.9777327935222673\n"
     ]
    }
   ],
   "source": [
    "for i in [1, 5, 10, 15, 20, 30, 40, 50]:\n",
    "    clf = XGBC(scale_pos_weight = i).fit(xtrain, ytrain)\n",
    "    ypred = clf.predict(xtest)\n",
    "    yprob = clf.predict_proba(xtest)\n",
    "    print(i)\n",
    "    print('\\tAccuracy:{}'.format(clf.score(xtest, ytest)))\n",
    "    print('\\tRecall:{}'.format(Recall(ytest,ypred)))\n",
    "    print('\\tAUC:{}'.format(AUC(ytest, yprob[:, 1])))"
   ]
  },
  {
   "cell_type": "markdown",
   "id": "215bda5d",
   "metadata": {},
   "source": [
    "### 使用XGBoost"
   ]
  },
  {
   "cell_type": "code",
   "execution_count": 42,
   "id": "b56a8f60",
   "metadata": {},
   "outputs": [],
   "source": [
    "dtrain = XGB.DMatrix(xtrain, ytrain)\n",
    "dtest = XGB.DMatrix(xtest, ytest)\n",
    "param = {'objective':'binary:logistic'\n",
    "         , 'eta':0.1\n",
    "         , 'scale_pos_weight':10}\n",
    "num_round = 100\n",
    "\n",
    "bst = XGB.train(param, dtrain, num_round)"
   ]
  },
  {
   "cell_type": "code",
   "execution_count": 43,
   "id": "6d241260",
   "metadata": {},
   "outputs": [],
   "source": [
    "ypred = bst.predict(dtest)"
   ]
  },
  {
   "cell_type": "code",
   "execution_count": null,
   "id": "62bf02e0",
   "metadata": {},
   "outputs": [
    {
     "data": {
      "text/plain": [
       "((165,),\n",
       " array([4.6260923e-01, 1.5882446e-01, 1.6393735e-03, 1.7697511e-03,\n",
       "        2.9718250e-03, 1.0977419e-03, 6.5881020e-01, 1.6393735e-03,\n",
       "        1.0977419e-03, 1.6393735e-03, 1.0977419e-03, 1.0977419e-03,\n",
       "        1.6393735e-03, 4.6760261e-02, 1.0977419e-03, 1.0977419e-03,\n",
       "        1.6393735e-03, 1.0977419e-03, 1.0977419e-03, 1.0977419e-03,\n",
       "        1.0977419e-03, 1.0977419e-03, 7.0115561e-03, 1.0977419e-03,\n",
       "        1.0977419e-03, 1.6393735e-03, 5.9641353e-03, 1.6393735e-03,\n",
       "        1.6393735e-03, 1.0977419e-03, 1.0977419e-03, 1.0977419e-03,\n",
       "        1.0977419e-03, 5.9641353e-03, 9.6990818e-01, 2.5940866e-03,\n",
       "        7.2846748e-04, 1.0977419e-03, 5.9641353e-03, 1.6393735e-03,\n",
       "        1.0977419e-03, 1.6393735e-03, 1.8582023e-03, 9.3463594e-01,\n",
       "        1.6393735e-03, 1.0977419e-03, 1.0977419e-03, 1.8582023e-03,\n",
       "        2.2843866e-02, 1.0977419e-03, 2.2843866e-02, 2.2843866e-02,\n",
       "        3.3997807e-03, 1.0977419e-03, 3.0211234e-03, 2.5940866e-03,\n",
       "        3.0211234e-03, 8.3037931e-04, 5.3148312e-03, 1.6393735e-03,\n",
       "        7.8059366e-04, 7.8059366e-04, 5.9641353e-03, 1.0977419e-03,\n",
       "        1.0977419e-03, 9.6781880e-01, 5.2324245e-03, 9.5023221e-01,\n",
       "        1.0977419e-03, 1.6393735e-03, 4.6625859e-03, 1.0977419e-03,\n",
       "        6.4896840e-01, 9.5040566e-01, 1.4779758e-01, 1.6393735e-03,\n",
       "        7.2846748e-04, 1.0977419e-03, 6.2159783e-01, 1.0977419e-03,\n",
       "        1.0977419e-03, 1.0977419e-03, 1.0977419e-03, 1.0977419e-03,\n",
       "        1.0977419e-03, 9.1283655e-01, 5.0126500e-03, 1.0977419e-03,\n",
       "        8.3037931e-04, 1.0977419e-03, 1.0977419e-03, 1.0977419e-03,\n",
       "        1.0977419e-03, 1.7697511e-03, 2.9718250e-03, 5.2773081e-02,\n",
       "        2.2843866e-02, 1.0977419e-03, 1.0977419e-03, 1.0977419e-03,\n",
       "        1.4114626e-01, 2.5940866e-03, 1.0977419e-03, 5.9641353e-03,\n",
       "        1.6393735e-03, 5.2324245e-03, 3.1289592e-01, 1.0977419e-03,\n",
       "        7.2846748e-04, 1.6393735e-03, 5.9641353e-03, 1.0977419e-03,\n",
       "        1.0977419e-03, 1.0977419e-03, 1.7697511e-03, 1.7697511e-03,\n",
       "        1.0977419e-03, 6.5599173e-01, 1.0977419e-03, 1.0977419e-03,\n",
       "        1.0977419e-03, 3.0211234e-03, 7.8059366e-04, 1.6393735e-03,\n",
       "        2.1654045e-02, 7.4567497e-03, 1.0977419e-03, 1.0977419e-03,\n",
       "        1.0977419e-03, 1.0977419e-03, 9.8654556e-01, 5.0126500e-03,\n",
       "        1.0977419e-03, 5.3497627e-03, 2.5940866e-03, 9.2754322e-01,\n",
       "        1.6393735e-03, 1.6393735e-03, 1.0977419e-03, 1.1822262e-01,\n",
       "        1.0977419e-03, 2.1654045e-02, 1.0977419e-03, 7.0115561e-03,\n",
       "        1.0977419e-03, 1.0977419e-03, 6.0201508e-01, 7.8059366e-04,\n",
       "        3.0211234e-03, 1.6393735e-03, 1.0977419e-03, 1.6393735e-03,\n",
       "        1.0977419e-03, 1.0977419e-03, 4.5145904e-03, 3.4889546e-01,\n",
       "        1.0977419e-03, 1.0977419e-03, 1.0977419e-03, 5.0126500e-03,\n",
       "        1.0977419e-03, 1.0977419e-03, 1.0977419e-03, 1.0977419e-03,\n",
       "        1.0977419e-03], dtype=float32))"
      ]
     },
     "execution_count": 45,
     "metadata": {},
     "output_type": "execute_result"
    }
   ],
   "source": [
    "ypred.shape, ypred\n",
    "# 返回的是每一个样本属于正类class1的概率"
   ]
  },
  {
   "cell_type": "code",
   "execution_count": 49,
   "id": "17e709dc",
   "metadata": {},
   "outputs": [],
   "source": [
    "# 自己设定阈值\n",
    "\n",
    "pred = (ypred > 0.5).astype(int)"
   ]
  },
  {
   "cell_type": "code",
   "execution_count": 47,
   "id": "5d51748a",
   "metadata": {},
   "outputs": [
    {
     "data": {
      "text/plain": [
       "0.07878787878787878"
      ]
     },
     "execution_count": 47,
     "metadata": {},
     "output_type": "execute_result"
    }
   ],
   "source": [
    "pred[pred == 1].sum()/pred.shape[0]"
   ]
  },
  {
   "cell_type": "code",
   "execution_count": 51,
   "id": "5909896c",
   "metadata": {},
   "outputs": [
    {
     "name": "stdout",
     "output_type": "stream",
     "text": [
      "Majority vs Minority:1\n",
      "\tAccutacy:0.9333333333333333\n",
      "\tRecall:0.46153846153846156\n",
      "\tAUC:0.9807692307692308\n",
      "Majority vs Minority:5\n",
      "\tAccutacy:0.9515151515151515\n",
      "\tRecall:0.6923076923076923\n",
      "\tAUC:0.979251012145749\n",
      "Majority vs Minority:10\n",
      "\tAccutacy:0.9515151515151515\n",
      "\tRecall:0.6923076923076923\n",
      "\tAUC:0.9777327935222672\n",
      "Majority vs Minority:20\n",
      "\tAccutacy:0.9454545454545454\n",
      "\tRecall:0.6923076923076923\n",
      "\tAUC:0.9752024291497976\n",
      "Majority vs Minority:50\n",
      "\tAccutacy:0.9454545454545454\n",
      "\tRecall:0.6923076923076923\n",
      "\tAUC:0.978744939271255\n"
     ]
    }
   ],
   "source": [
    "scale_pos_weight = [1, 5, 10, 20, 50]\n",
    "names = ['Majority vs Minority:1'\n",
    "         , 'Majority vs Minority:5'\n",
    "         , 'Majority vs Minority:10'\n",
    "         , 'Majority vs Minority:20'\n",
    "         , 'Majority vs Minority:50'\n",
    "         ]\n",
    "from sklearn.metrics import accuracy_score\n",
    "for name, i in zip(names, scale_pos_weight):\n",
    "    param = {'scale_pos_weight':i\n",
    "             , 'objective':'binary:logistic'\n",
    "             , 'eta':0.1\n",
    "             }\n",
    "    bst = XGB.train(param, dtrain, num_round)\n",
    "    preds = bst.predict(dtest)\n",
    "    ypred = (preds > 0.5).astype(int)\n",
    "    print(name)\n",
    "    print('\\tAccutacy:{}'.format(accuracy_score(ytest, ypred)))\n",
    "    print('\\tRecall:{}'.format(Recall(ytest, ypred)))\n",
    "    print('\\tAUC:{}'.format(AUC(ytest, preds)))"
   ]
  },
  {
   "cell_type": "code",
   "execution_count": 52,
   "id": "5b2ac9ca",
   "metadata": {},
   "outputs": [
    {
     "name": "stdout",
     "output_type": "stream",
     "text": [
      "Majority vs Minority:1, threshold:0.1\n",
      "\tAccutacy:0.9636363636363636\n",
      "\tRecall:1.0\n",
      "\tAUC:0.9807692307692308\n",
      "Majority vs Minority:1, threshold:0.3\n",
      "\tAccutacy:0.9515151515151515\n",
      "\tRecall:0.6923076923076923\n",
      "\tAUC:0.9807692307692308\n",
      "Majority vs Minority:1, threshold:0.5\n",
      "\tAccutacy:0.9333333333333333\n",
      "\tRecall:0.46153846153846156\n",
      "\tAUC:0.9807692307692308\n",
      "Majority vs Minority:1, threshold:0.7\n",
      "\tAccutacy:0.9333333333333333\n",
      "\tRecall:0.3076923076923077\n",
      "\tAUC:0.9807692307692308\n",
      "Majority vs Minority:1, threshold:0.9\n",
      "\tAccutacy:0.9212121212121213\n",
      "\tRecall:0.0\n",
      "\tAUC:0.9807692307692308\n",
      "Majority vs Minority:5, threshold:0.1\n",
      "\tAccutacy:0.9575757575757575\n",
      "\tRecall:1.0\n",
      "\tAUC:0.979251012145749\n",
      "Majority vs Minority:5, threshold:0.3\n",
      "\tAccutacy:0.9454545454545454\n",
      "\tRecall:0.6923076923076923\n",
      "\tAUC:0.979251012145749\n",
      "Majority vs Minority:5, threshold:0.5\n",
      "\tAccutacy:0.9515151515151515\n",
      "\tRecall:0.6923076923076923\n",
      "\tAUC:0.979251012145749\n",
      "Majority vs Minority:5, threshold:0.7\n",
      "\tAccutacy:0.9515151515151515\n",
      "\tRecall:0.6153846153846154\n",
      "\tAUC:0.979251012145749\n",
      "Majority vs Minority:5, threshold:0.9\n",
      "\tAccutacy:0.9333333333333333\n",
      "\tRecall:0.3076923076923077\n",
      "\tAUC:0.979251012145749\n",
      "Majority vs Minority:10, threshold:0.1\n",
      "\tAccutacy:0.9575757575757575\n",
      "\tRecall:1.0\n",
      "\tAUC:0.9777327935222672\n",
      "Majority vs Minority:10, threshold:0.3\n",
      "\tAccutacy:0.9454545454545454\n",
      "\tRecall:0.7692307692307693\n",
      "\tAUC:0.9777327935222672\n",
      "Majority vs Minority:10, threshold:0.5\n",
      "\tAccutacy:0.9515151515151515\n",
      "\tRecall:0.6923076923076923\n",
      "\tAUC:0.9777327935222672\n",
      "Majority vs Minority:10, threshold:0.7\n",
      "\tAccutacy:0.9333333333333333\n",
      "\tRecall:0.38461538461538464\n",
      "\tAUC:0.9777327935222672\n",
      "Majority vs Minority:10, threshold:0.9\n",
      "\tAccutacy:0.9333333333333333\n",
      "\tRecall:0.38461538461538464\n",
      "\tAUC:0.9777327935222672\n",
      "Majority vs Minority:20, threshold:0.1\n",
      "\tAccutacy:0.9575757575757575\n",
      "\tRecall:1.0\n",
      "\tAUC:0.9752024291497976\n",
      "Majority vs Minority:20, threshold:0.3\n",
      "\tAccutacy:0.9515151515151515\n",
      "\tRecall:0.8461538461538461\n",
      "\tAUC:0.9752024291497976\n",
      "Majority vs Minority:20, threshold:0.5\n",
      "\tAccutacy:0.9454545454545454\n",
      "\tRecall:0.6923076923076923\n",
      "\tAUC:0.9752024291497976\n",
      "Majority vs Minority:20, threshold:0.7\n",
      "\tAccutacy:0.9454545454545454\n",
      "\tRecall:0.6153846153846154\n",
      "\tAUC:0.9752024291497976\n",
      "Majority vs Minority:20, threshold:0.9\n",
      "\tAccutacy:0.9272727272727272\n",
      "\tRecall:0.3076923076923077\n",
      "\tAUC:0.9752024291497976\n",
      "Majority vs Minority:50, threshold:0.1\n",
      "\tAccutacy:0.9636363636363636\n",
      "\tRecall:1.0\n",
      "\tAUC:0.978744939271255\n",
      "Majority vs Minority:50, threshold:0.3\n",
      "\tAccutacy:0.9636363636363636\n",
      "\tRecall:0.9230769230769231\n",
      "\tAUC:0.978744939271255\n",
      "Majority vs Minority:50, threshold:0.5\n",
      "\tAccutacy:0.9454545454545454\n",
      "\tRecall:0.6923076923076923\n",
      "\tAUC:0.978744939271255\n",
      "Majority vs Minority:50, threshold:0.7\n",
      "\tAccutacy:0.9515151515151515\n",
      "\tRecall:0.6923076923076923\n",
      "\tAUC:0.978744939271255\n",
      "Majority vs Minority:50, threshold:0.9\n",
      "\tAccutacy:0.9333333333333333\n",
      "\tRecall:0.38461538461538464\n",
      "\tAUC:0.978744939271255\n"
     ]
    }
   ],
   "source": [
    "for name, i in zip(names, scale_pos_weight):\n",
    "    param = {'scale_pos_weight':i\n",
    "             , 'objective':'binary:logistic'\n",
    "             , 'eta':0.1\n",
    "             }\n",
    "    for threshold in [0.1, 0.3, 0.5, 0.7, 0.9]:\n",
    "        bst = XGB.train(param, dtrain, num_round)\n",
    "        preds = bst.predict(dtest)\n",
    "        ypred = (preds > threshold).astype(int)\n",
    "        print('{}, threshold:{}'.format(name, threshold))\n",
    "        print('\\tAccutacy:{}'.format(accuracy_score(ytest, ypred)))\n",
    "        print('\\tRecall:{}'.format(Recall(ytest, ypred)))\n",
    "        print('\\tAUC:{}'.format(AUC(ytest, preds)))"
   ]
  },
  {
   "cell_type": "code",
   "execution_count": null,
   "id": "9f571247",
   "metadata": {},
   "outputs": [],
   "source": []
  }
 ],
 "metadata": {
  "kernelspec": {
   "display_name": "Python (mineenv)",
   "language": "python",
   "name": "mineenv"
  },
  "language_info": {
   "codemirror_mode": {
    "name": "ipython",
    "version": 3
   },
   "file_extension": ".py",
   "mimetype": "text/x-python",
   "name": "python",
   "nbconvert_exporter": "python",
   "pygments_lexer": "ipython3",
   "version": "3.10.18"
  }
 },
 "nbformat": 4,
 "nbformat_minor": 5
}
