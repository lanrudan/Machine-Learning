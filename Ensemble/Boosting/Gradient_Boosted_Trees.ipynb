{
 "cells": [
  {
   "cell_type": "code",
   "execution_count": 1,
   "id": "5f328b9f",
   "metadata": {},
   "outputs": [],
   "source": [
    "from xgboost import XGBRegressor as XGBR \n",
    "from sklearn.ensemble import RandomForestRegressor as RFR\n",
    "from sklearn.linear_model import LinearRegression as LR\n",
    "import pandas as pd\n",
    "import numpy as np\n",
    "import matplotlib.pyplot as plt\n",
    "from sklearn.model_selection import train_test_split\n",
    "from sklearn.metrics import mean_squared_error as MSE\n",
    "from sklearn.model_selection import cross_val_score\n",
    "from time import time\n",
    "import datetime"
   ]
  },
  {
   "cell_type": "code",
   "execution_count": 2,
   "id": "c6d81ddd",
   "metadata": {},
   "outputs": [],
   "source": [
    "data_url = \"http://lib.stat.cmu.edu/datasets/boston\"\n",
    "raw_df = pd.read_csv(data_url, sep=\"\\s+\", skiprows=22, header=None)\n",
    "data = np.hstack([raw_df.values[::2, :], raw_df.values[1::2, :2]])\n",
    "target = raw_df.values[1::2, 2]"
   ]
  },
  {
   "cell_type": "code",
   "execution_count": 3,
   "id": "435c4498",
   "metadata": {},
   "outputs": [
    {
     "data": {
      "text/plain": [
       "((506, 13), (506,))"
      ]
     },
     "execution_count": 3,
     "metadata": {},
     "output_type": "execute_result"
    }
   ],
   "source": [
    "x = data\n",
    "y = target\n",
    "x.shape, y.shape"
   ]
  },
  {
   "cell_type": "code",
   "execution_count": 4,
   "id": "e9a4d64c",
   "metadata": {},
   "outputs": [],
   "source": [
    "xtrain, xtest, ytrain, ytest = train_test_split(x, y, test_size=0.3, random_state=888)"
   ]
  },
  {
   "cell_type": "markdown",
   "id": "c6f46015",
   "metadata": {},
   "source": [
    "# 梯度提升树"
   ]
  },
  {
   "cell_type": "code",
   "execution_count": 5,
   "id": "768bbb8b",
   "metadata": {},
   "outputs": [],
   "source": [
    "xgb = XGBR(n_estimators = 100).fit(xtrain, ytrain)\n",
    "y_pred = xgb.predict(xtest)"
   ]
  },
  {
   "cell_type": "code",
   "execution_count": 6,
   "id": "25fa921a",
   "metadata": {},
   "outputs": [
    {
     "data": {
      "text/plain": [
       "0.8198447083487521"
      ]
     },
     "execution_count": 6,
     "metadata": {},
     "output_type": "execute_result"
    }
   ],
   "source": [
    "xgb.score(xtest, ytest)\n",
    "# R^2"
   ]
  },
  {
   "cell_type": "code",
   "execution_count": 7,
   "id": "4fe214c7",
   "metadata": {},
   "outputs": [
    {
     "data": {
      "text/plain": [
       "(13.17420745083781, 22.532806324110677)"
      ]
     },
     "execution_count": 7,
     "metadata": {},
     "output_type": "execute_result"
    }
   ],
   "source": [
    "MSE(ytest, y_pred), y.mean()"
   ]
  },
  {
   "cell_type": "code",
   "execution_count": 8,
   "id": "e2d4048b",
   "metadata": {},
   "outputs": [
    {
     "data": {
      "text/plain": [
       "array([0.02634421, 0.00309393, 0.01594052, 0.00801771, 0.01708667,\n",
       "       0.44775116, 0.01217775, 0.1023967 , 0.02675674, 0.05623093,\n",
       "       0.02783497, 0.0057254 , 0.2506433 ], dtype=float32)"
      ]
     },
     "execution_count": 8,
     "metadata": {},
     "output_type": "execute_result"
    }
   ],
   "source": [
    "xgb.feature_importances_\n",
    "# 这是树模型的一个优势，我们可以查看模型的重要性分数。可以用嵌入法进行特征选择"
   ]
  },
  {
   "cell_type": "code",
   "execution_count": 9,
   "id": "60541dfa",
   "metadata": {},
   "outputs": [
    {
     "data": {
      "text/plain": [
       "['accuracy',\n",
       " 'adjusted_mutual_info_score',\n",
       " 'adjusted_rand_score',\n",
       " 'average_precision',\n",
       " 'balanced_accuracy',\n",
       " 'completeness_score',\n",
       " 'd2_absolute_error_score',\n",
       " 'explained_variance',\n",
       " 'f1',\n",
       " 'f1_macro',\n",
       " 'f1_micro',\n",
       " 'f1_samples',\n",
       " 'f1_weighted',\n",
       " 'fowlkes_mallows_score',\n",
       " 'homogeneity_score',\n",
       " 'jaccard',\n",
       " 'jaccard_macro',\n",
       " 'jaccard_micro',\n",
       " 'jaccard_samples',\n",
       " 'jaccard_weighted',\n",
       " 'matthews_corrcoef',\n",
       " 'mutual_info_score',\n",
       " 'neg_brier_score',\n",
       " 'neg_log_loss',\n",
       " 'neg_max_error',\n",
       " 'neg_mean_absolute_error',\n",
       " 'neg_mean_absolute_percentage_error',\n",
       " 'neg_mean_gamma_deviance',\n",
       " 'neg_mean_poisson_deviance',\n",
       " 'neg_mean_squared_error',\n",
       " 'neg_mean_squared_log_error',\n",
       " 'neg_median_absolute_error',\n",
       " 'neg_negative_likelihood_ratio',\n",
       " 'neg_root_mean_squared_error',\n",
       " 'neg_root_mean_squared_log_error',\n",
       " 'normalized_mutual_info_score',\n",
       " 'positive_likelihood_ratio',\n",
       " 'precision',\n",
       " 'precision_macro',\n",
       " 'precision_micro',\n",
       " 'precision_samples',\n",
       " 'precision_weighted',\n",
       " 'r2',\n",
       " 'rand_score',\n",
       " 'recall',\n",
       " 'recall_macro',\n",
       " 'recall_micro',\n",
       " 'recall_samples',\n",
       " 'recall_weighted',\n",
       " 'roc_auc',\n",
       " 'roc_auc_ovo',\n",
       " 'roc_auc_ovo_weighted',\n",
       " 'roc_auc_ovr',\n",
       " 'roc_auc_ovr_weighted',\n",
       " 'top_k_accuracy',\n",
       " 'v_measure_score']"
      ]
     },
     "execution_count": 9,
     "metadata": {},
     "output_type": "execute_result"
    }
   ],
   "source": [
    "import sklearn\n",
    "sorted(sklearn.metrics.get_scorer_names())"
   ]
  },
  {
   "cell_type": "markdown",
   "id": "ae48de2e",
   "metadata": {},
   "source": [
    "### 参数n_estimators"
   ]
  },
  {
   "cell_type": "code",
   "execution_count": 10,
   "id": "6b7d4996",
   "metadata": {},
   "outputs": [
    {
     "data": {
      "text/plain": [
       "0.8407881556828635"
      ]
     },
     "execution_count": 10,
     "metadata": {},
     "output_type": "execute_result"
    }
   ],
   "source": [
    "# 交叉验证\n",
    "xgb = XGBR(n_estimators = 100)\n",
    "cross_val_score(xgb, xtrain, ytrain, cv = 10).mean()\n",
    "# 回归模型交叉验证返回的是R^2\n",
    "# 分类模型交叉验证返回的是Accuracy"
   ]
  },
  {
   "cell_type": "code",
   "execution_count": 11,
   "id": "78057b3a",
   "metadata": {},
   "outputs": [
    {
     "data": {
      "text/plain": [
       "-14.418184622751047"
      ]
     },
     "execution_count": 11,
     "metadata": {},
     "output_type": "execute_result"
    }
   ],
   "source": [
    "cross_val_score(xgb, xtrain, ytrain, scoring='neg_mean_squared_error', cv = 10).mean()"
   ]
  },
  {
   "cell_type": "code",
   "execution_count": 12,
   "id": "d8b2eca9",
   "metadata": {},
   "outputs": [
    {
     "data": {
      "text/plain": [
       "0.8462903549280056"
      ]
     },
     "execution_count": 12,
     "metadata": {},
     "output_type": "execute_result"
    }
   ],
   "source": [
    "# 使用RFR和LR进行对比\n",
    "rfr = RFR(n_estimators=100)\n",
    "cross_val_score(rfr, xtrain, ytrain, cv = 10).mean()"
   ]
  },
  {
   "cell_type": "code",
   "execution_count": 13,
   "id": "41fbaf4a",
   "metadata": {},
   "outputs": [
    {
     "data": {
      "text/plain": [
       "-14.62110937674603"
      ]
     },
     "execution_count": 13,
     "metadata": {},
     "output_type": "execute_result"
    }
   ],
   "source": [
    "cross_val_score(rfr, xtrain, ytrain, cv = 10, scoring='neg_mean_squared_error').mean()"
   ]
  },
  {
   "cell_type": "code",
   "execution_count": 14,
   "id": "0f896901",
   "metadata": {},
   "outputs": [
    {
     "data": {
      "text/plain": [
       "0.7117751325539305"
      ]
     },
     "execution_count": 14,
     "metadata": {},
     "output_type": "execute_result"
    }
   ],
   "source": [
    "lr = LR()\n",
    "cross_val_score(lr, xtrain, ytrain, cv = 10).mean()"
   ]
  },
  {
   "cell_type": "code",
   "execution_count": 15,
   "id": "80d99a02",
   "metadata": {},
   "outputs": [
    {
     "data": {
      "text/plain": [
       "-25.612033004532528"
      ]
     },
     "execution_count": 15,
     "metadata": {},
     "output_type": "execute_result"
    }
   ],
   "source": [
    "cross_val_score(lr, xtrain, ytrain, cv = 10, scoring='neg_mean_squared_error').mean()"
   ]
  },
  {
   "cell_type": "markdown",
   "id": "5cfda95c",
   "metadata": {},
   "source": [
    "两个集成算法差不多\n",
    "线性回归差一点"
   ]
  },
  {
   "cell_type": "markdown",
   "id": "bad9e1fa",
   "metadata": {},
   "source": [
    "#### xgb不同样本数量下的学习曲线"
   ]
  },
  {
   "cell_type": "code",
   "execution_count": 16,
   "id": "134f0efc",
   "metadata": {},
   "outputs": [],
   "source": [
    "def plot_leanring_curve(estimator, title, x, y\n",
    "                        , ax = None # 选择子图\n",
    "                        , ylim = None # 设置纵坐标取值范围\n",
    "                        , cv = None\n",
    "                        , n_jobs = None # 线程\n",
    "                        ):\n",
    "    from sklearn.model_selection import learning_curve\n",
    "    import  matplotlib.pyplot as plt\n",
    "    import numpy as np\n",
    "\n",
    "    train_sizes, train_scores, test_scores = learning_curve(estimator, x, y\n",
    "                                                            , shuffle= True\n",
    "                                                            , cv = cv\n",
    "                                                            , random_state=420\n",
    "                                                            , n_jobs=n_jobs\n",
    "                                                            )\n",
    "    \n",
    "    if ax == None:\n",
    "        ax = plt.gca()\n",
    "    else:\n",
    "        ax = plt.figure()\n",
    "\n",
    "    ax.set_title(title)\n",
    "    if ylim is not None:\n",
    "        ax.set_ylim(*ylim)\n",
    "    ax.set_xlabel('Training Samples')\n",
    "    ax.set_ylabel('Score')\n",
    "    ax.grid()\n",
    "    ax.plot(train_sizes, np.mean(train_scores, axis=1), 'o-', label = 'Training score')\n",
    "    ax.plot(train_sizes, np.mean(test_scores, axis = 1), 'o-', label = 'Test acore')\n",
    "    ax.legend()\n",
    "    return ax"
   ]
  },
  {
   "cell_type": "code",
   "execution_count": 17,
   "id": "cd677360",
   "metadata": {},
   "outputs": [
    {
     "data": {
      "text/plain": [
       "<Axes: title={'center': 'XGBoost'}, xlabel='Training Samples', ylabel='Score'>"
      ]
     },
     "execution_count": 17,
     "metadata": {},
     "output_type": "execute_result"
    },
    {
     "data": {
      "image/png": "[encoded data removed]",
      "text/plain": [
       "<Figure size 640x480 with 1 Axes>"
      ]
     },
     "metadata": {},
     "output_type": "display_data"
    }
   ],
   "source": [
    "from sklearn.model_selection import KFold\n",
    "cv = KFold(n_splits=5, shuffle= True, random_state=888)\n",
    "plot_leanring_curve(XGBR(n_estimators = 100, random_state = 888)\n",
    "                    , 'XGBoost'\n",
    "                    , xtrain, ytrain\n",
    "                    , ax = None\n",
    "                    , cv = cv)\n",
    "\n",
    "# 下图看出来：过拟合"
   ]
  },
  {
   "cell_type": "markdown",
   "id": "a690a489",
   "metadata": {},
   "source": [
    "#### 调整n_estimators"
   ]
  },
  {
   "cell_type": "code",
   "execution_count": 18,
   "id": "4e022df3",
   "metadata": {},
   "outputs": [
    {
     "name": "stdout",
     "output_type": "stream",
     "text": [
      "60 0.8409129267723502\n"
     ]
    },
    {
     "data": {
      "image/png": "[encoded data removed]",
      "text/plain": [
       "<Figure size 640x480 with 1 Axes>"
      ]
     },
     "metadata": {},
     "output_type": "display_data"
    }
   ],
   "source": [
    "axisx = range(10, 1010, 50)\n",
    "score = []\n",
    "for i in axisx:\n",
    "    xgb = XGBR(n_estimators = i, random_state = 888)\n",
    "    score.append(cross_val_score(xgb, xtrain, ytrain, cv = 10).mean())\n",
    "\n",
    "print(axisx[score.index(max(score))], max(score))\n",
    "plt.figure()\n",
    "plt.plot(axisx, score, label = 'XGBoost')\n",
    "plt.legend()\n",
    "plt.show()\n"
   ]
  },
  {
   "cell_type": "markdown",
   "id": "22fde70d",
   "metadata": {},
   "source": [
    "#### Bias-Vars Tradeoff\n",
    "\n",
    "数据集过少，模型不太稳定"
   ]
  },
  {
   "cell_type": "code",
   "execution_count": 19,
   "id": "33fc3ed0",
   "metadata": {},
   "outputs": [],
   "source": [
    "axisx = range(10, 1010, 50)\n",
    "score, var, ge = [], [], []\n",
    "for i in axisx:\n",
    "    xgb = XGBR(n_estimators = i, random_state = 888)\n",
    "    cvresult = cross_val_score(xgb, xtrain, ytrain, cv = 10)\n",
    "    # mean = 1 - bias\n",
    "    score.append(cvresult.mean())\n",
    "    var.append(cvresult.var())\n",
    "    # 泛化误差的可控部分\n",
    "    ge.append((1 - cvresult.mean())**2 + cvresult.var())\n"
   ]
  },
  {
   "cell_type": "code",
   "execution_count": 20,
   "id": "ae0f737f",
   "metadata": {},
   "outputs": [
    {
     "name": "stdout",
     "output_type": "stream",
     "text": [
      "max(score): 60 0.8409129267723502 0.008890644247462302\n",
      "min(Var): 60 0.008890644247462302 0.8409129267723502\n",
      "min(bias^2 + var): 60 0.03419934111560192 0.008890644247462302 0.8409129267723502\n"
     ]
    },
    {
     "data": {
      "image/png": "[encoded data removed]",
      "text/plain": [
       "<Figure size 640x480 with 1 Axes>"
      ]
     },
     "metadata": {},
     "output_type": "display_data"
    }
   ],
   "source": [
    "\n",
    "print('max(score):', axisx[score.index(max(score))], max(score), var[score.index(max(score))])\n",
    "print('min(Var):', axisx[var.index(min(var))], min(var), score[var.index(min(var))])\n",
    "print('min(bias^2 + var):', axisx[ge.index(min(ge))], min(ge), var[ge.index(min(ge))], score[ge.index(min(ge))])\n",
    "\n",
    "plt.figure()\n",
    "plt.plot(axisx, score, label = 'XGBoost')\n",
    "plt.legend()\n",
    "plt.show()\n"
   ]
  },
  {
   "cell_type": "code",
   "execution_count": 21,
   "id": "9dcd96c4",
   "metadata": {},
   "outputs": [],
   "source": [
    "axisx = range(10, 210, 10)\n",
    "score, var, ge = [], [], []\n",
    "for i in axisx:\n",
    "    xgb = XGBR(n_estimators = i, random_state = 888)\n",
    "    cvresult = cross_val_score(xgb, xtrain, ytrain, cv = 10)\n",
    "    # mean = 1 - bias\n",
    "    score.append(cvresult.mean())\n",
    "    var.append(cvresult.var())\n",
    "    # 泛化误差的可控部分\n",
    "    ge.append((1 - cvresult.mean())**2 + cvresult.var())"
   ]
  },
  {
   "cell_type": "code",
   "execution_count": 22,
   "id": "6cc42dab",
   "metadata": {},
   "outputs": [
    {
     "name": "stdout",
     "output_type": "stream",
     "text": [
      "max(score): 60 0.8409129267723502 0.008890644247462302\n",
      "min(Var): 50 0.008881107679696593 0.8408306737101775\n",
      "min(bias^2 + var): 60 0.03419934111560192 0.008890644247462302 0.8409129267723502\n"
     ]
    },
    {
     "data": {
      "image/png": "[encoded data removed]",
      "text/plain": [
       "<Figure size 640x480 with 1 Axes>"
      ]
     },
     "metadata": {},
     "output_type": "display_data"
    }
   ],
   "source": [
    "print('max(score):', axisx[score.index(max(score))], max(score), var[score.index(max(score))])\n",
    "print('min(Var):', axisx[var.index(min(var))], min(var), score[var.index(min(var))])\n",
    "print('min(bias^2 + var):', axisx[ge.index(min(ge))], min(ge), var[ge.index(min(ge))], score[ge.index(min(ge))])\n",
    "\n",
    "plt.figure()\n",
    "plt.plot(axisx, score, label = 'XGBoost')\n",
    "plt.plot(axisx, score+np.sqrt(var), '--')\n",
    "plt.plot(axisx, score-np.sqrt(var), '--')\n",
    "plt.legend()\n",
    "plt.show()"
   ]
  },
  {
   "cell_type": "code",
   "execution_count": 23,
   "id": "59ea089c",
   "metadata": {},
   "outputs": [
    {
     "name": "stdout",
     "output_type": "stream",
     "text": [
      "0.8198447083487521\n",
      "0.23227262496948242\n"
     ]
    }
   ],
   "source": [
    "time0 = time()\n",
    "print(XGBR(n_estimators = 100, random_state = 888).fit(xtrain, ytrain).score(xtest, ytest))\n",
    "print(time() - time0)"
   ]
  },
  {
   "cell_type": "code",
   "execution_count": 24,
   "id": "65e32bba",
   "metadata": {},
   "outputs": [
    {
     "name": "stdout",
     "output_type": "stream",
     "text": [
      "0.8192491340479021\n",
      "0.16395306587219238\n"
     ]
    }
   ],
   "source": [
    "time0 = time()\n",
    "print(XGBR(n_estimators = 50, random_state = 888).fit(xtrain, ytrain).score(xtest, ytest))\n",
    "print(time() - time0)"
   ]
  },
  {
   "cell_type": "code",
   "execution_count": 25,
   "id": "86230aea",
   "metadata": {},
   "outputs": [
    {
     "name": "stdout",
     "output_type": "stream",
     "text": [
      "0.8197959081256804\n",
      "0.1518394947052002\n"
     ]
    }
   ],
   "source": [
    "time0 = time()\n",
    "print(XGBR(n_estimators = 60, random_state = 888).fit(xtrain, ytrain).score(xtest, ytest))\n",
    "print(time() - time0)"
   ]
  },
  {
   "cell_type": "markdown",
   "id": "029ee952",
   "metadata": {},
   "source": [
    "在训练集上的表现，还是我们一开始选择的100的效果最好"
   ]
  },
  {
   "cell_type": "markdown",
   "id": "bda62bc2",
   "metadata": {},
   "source": [
    "#### 评价\n",
    "\n",
    "首先，XGB中的树的数量决定了模型的学习能力，树的数量越多，模型的学习能力越强。只要XGB中树足够多，即便只有很少的数据，模型也能够学到训练数据100%的信息，所以XGB也是天生过拟合的模型。但是这种情况下， 模型会变得非常不稳定。\n",
    "\n",
    "第二，XGB中树的数量很少的时候，对模型的影响较大，当树的数量已经很多的时候，对模型的影响比较小，只能有微弱的变化。当数据本身就处于过拟合的时候，再使用过多的树能达到的效果甚微，反而浪费计算资源。当唯一指标R“或者准确率给出的n_estimators看起来不太可靠的时候，我们可以改造学习曲线来帮助我们。\n",
    "\n",
    "第三，树的数量提升对模型的影响有极限，最开始，模型的表现会随着XGB的树的数量一起提升，但到达某个点之后，树的数量越多，模型的效果会逐步下降，这也说明了暴力增加n_estimators不一定有效果。\n",
    "\n",
    "这些都和随机森林中的参数n_estimators表现出一致的状态。在随机森林中我们总是先调整n_estimators，当n_estimators的极限已达到，我们才考虑其他参数，但XGB中的状况明显更加复杂，当数据集不太寻常的时候会更加复杂。这是我们要给出的第一个超参数，因此还是建议优先调整n_estimators，一般都不会建议一个太大的数目，300以下为佳。"
   ]
  },
  {
   "cell_type": "markdown",
   "id": "bbf254e2",
   "metadata": {},
   "source": [
    "### 参数silent\n",
    "\n",
    "监控模型的训练速度"
   ]
  },
  {
   "cell_type": "code",
   "execution_count": 49,
   "id": "e72b063e",
   "metadata": {},
   "outputs": [],
   "source": [
    "xgb = XGBR(n_estimators = 10, silent = False)"
   ]
  },
  {
   "cell_type": "code",
   "execution_count": 50,
   "id": "d1b32a5f",
   "metadata": {},
   "outputs": [
    {
     "name": "stderr",
     "output_type": "stream",
     "text": [
      "d:\\anaconda\\envs\\mineenv\\lib\\site-packages\\xgboost\\training.py:183: UserWarning: [22:46:58] WARNING: C:\\b\\abs_d97hy_84m6\\croot\\xgboost-split_1749630932152\\work\\src\\learner.cc:738: \n",
      "Parameters: { \"silent\" } are not used.\n",
      "\n",
      "  bst.update(dtrain, iteration=i, fobj=obj)\n",
      "d:\\anaconda\\envs\\mineenv\\lib\\site-packages\\xgboost\\training.py:183: UserWarning: [22:46:58] WARNING: C:\\b\\abs_d97hy_84m6\\croot\\xgboost-split_1749630932152\\work\\src\\learner.cc:738: \n",
      "Parameters: { \"silent\" } are not used.\n",
      "\n",
      "  bst.update(dtrain, iteration=i, fobj=obj)\n",
      "d:\\anaconda\\envs\\mineenv\\lib\\site-packages\\xgboost\\training.py:183: UserWarning: [22:46:58] WARNING: C:\\b\\abs_d97hy_84m6\\croot\\xgboost-split_1749630932152\\work\\src\\learner.cc:738: \n",
      "Parameters: { \"silent\" } are not used.\n",
      "\n",
      "  bst.update(dtrain, iteration=i, fobj=obj)\n",
      "d:\\anaconda\\envs\\mineenv\\lib\\site-packages\\xgboost\\training.py:183: UserWarning: [22:46:58] WARNING: C:\\b\\abs_d97hy_84m6\\croot\\xgboost-split_1749630932152\\work\\src\\learner.cc:738: \n",
      "Parameters: { \"silent\" } are not used.\n",
      "\n",
      "  bst.update(dtrain, iteration=i, fobj=obj)\n",
      "d:\\anaconda\\envs\\mineenv\\lib\\site-packages\\xgboost\\training.py:183: UserWarning: [22:46:58] WARNING: C:\\b\\abs_d97hy_84m6\\croot\\xgboost-split_1749630932152\\work\\src\\learner.cc:738: \n",
      "Parameters: { \"silent\" } are not used.\n",
      "\n",
      "  bst.update(dtrain, iteration=i, fobj=obj)\n",
      "d:\\anaconda\\envs\\mineenv\\lib\\site-packages\\xgboost\\training.py:183: UserWarning: [22:46:58] WARNING: C:\\b\\abs_d97hy_84m6\\croot\\xgboost-split_1749630932152\\work\\src\\learner.cc:738: \n",
      "Parameters: { \"silent\" } are not used.\n",
      "\n",
      "  bst.update(dtrain, iteration=i, fobj=obj)\n",
      "d:\\anaconda\\envs\\mineenv\\lib\\site-packages\\xgboost\\training.py:183: UserWarning: [22:46:58] WARNING: C:\\b\\abs_d97hy_84m6\\croot\\xgboost-split_1749630932152\\work\\src\\learner.cc:738: \n",
      "Parameters: { \"silent\" } are not used.\n",
      "\n",
      "  bst.update(dtrain, iteration=i, fobj=obj)\n",
      "d:\\anaconda\\envs\\mineenv\\lib\\site-packages\\xgboost\\training.py:183: UserWarning: [22:46:58] WARNING: C:\\b\\abs_d97hy_84m6\\croot\\xgboost-split_1749630932152\\work\\src\\learner.cc:738: \n",
      "Parameters: { \"silent\" } are not used.\n",
      "\n",
      "  bst.update(dtrain, iteration=i, fobj=obj)\n",
      "d:\\anaconda\\envs\\mineenv\\lib\\site-packages\\xgboost\\training.py:183: UserWarning: [22:46:58] WARNING: C:\\b\\abs_d97hy_84m6\\croot\\xgboost-split_1749630932152\\work\\src\\learner.cc:738: \n",
      "Parameters: { \"silent\" } are not used.\n",
      "\n",
      "  bst.update(dtrain, iteration=i, fobj=obj)\n",
      "d:\\anaconda\\envs\\mineenv\\lib\\site-packages\\xgboost\\training.py:183: UserWarning: [22:46:58] WARNING: C:\\b\\abs_d97hy_84m6\\croot\\xgboost-split_1749630932152\\work\\src\\learner.cc:738: \n",
      "Parameters: { \"silent\" } are not used.\n",
      "\n",
      "  bst.update(dtrain, iteration=i, fobj=obj)\n"
     ]
    },
    {
     "data": {
      "text/plain": [
       "0.8289151386384276"
      ]
     },
     "execution_count": 50,
     "metadata": {},
     "output_type": "execute_result"
    }
   ],
   "source": [
    "cross_val_score(xgb, xtrain, ytrain, cv = 10).mean()"
   ]
  },
  {
   "cell_type": "markdown",
   "id": "b7e9e76c",
   "metadata": {},
   "source": [
    "### 参数subsample\n",
    "\n",
    "范围[0, 1]，抽样的比例\n",
    "\n",
    "有放回随机抽样\n",
    "\n",
    "让模型更加集中于容易被判错的样本\n",
    "\n",
    "通常是在样本量本身很大的时候来使用。因为有放回抽样某种程度上来说相当于减少了样本数量，样本数量越少，模型越容易过拟合。"
   ]
  },
  {
   "cell_type": "code",
   "execution_count": 28,
   "id": "daabebd7",
   "metadata": {},
   "outputs": [
    {
     "name": "stdout",
     "output_type": "stream",
     "text": [
      "max(score): 0.5789473684210527 0.8565415296790266\n",
      "min(var): 0.6842105263157894 0.8535902251988048\n",
      "min(bias^2+var): 0.5789473684210527 0.8565415296790266\n"
     ]
    },
    {
     "data": {
      "image/png": "[encoded data removed]",
      "text/plain": [
       "<Figure size 640x480 with 1 Axes>"
      ]
     },
     "metadata": {},
     "output_type": "display_data"
    }
   ],
   "source": [
    "axisx = np.linspace(0, 1, 20)\n",
    "score, var, ge = [], [], []\n",
    "for i in axisx:\n",
    "    xgb = XGBR(n_estimators = 100, subsample = i, random_state = 888)\n",
    "    cvresult = cross_val_score(xgb, xtrain, ytrain, cv = 10)\n",
    "    var.append(cvresult.var())\n",
    "    ge.append((1 - cvresult.mean())**2 + cvresult.var())\n",
    "    score.append(cross_val_score(xgb, xtrain, ytrain, cv = 10).mean())\n",
    "\n",
    "\n",
    "print('max(score):', axisx[score.index(max(score))], max(score))\n",
    "print('min(var):', axisx[var.index(min(var))], score[var.index(min(var))])\n",
    "print('min(bias^2+var):', axisx[ge.index(min(ge))], score[ge.index(min(ge))])\n",
    "plt.plot(axisx, score+np.sqrt(var), '--')\n",
    "plt.plot(axisx, score-np.sqrt(var), '--')\n",
    "plt.plot(axisx, score)\n",
    "plt.show()"
   ]
  },
  {
   "cell_type": "code",
   "execution_count": 29,
   "id": "12a0477b",
   "metadata": {},
   "outputs": [
    {
     "name": "stdout",
     "output_type": "stream",
     "text": [
      "max(score): 0.6 0.8664561719143233\n",
      "min(var): 0.6 0.8664561719143233\n",
      "min(bias^2+var): 0.6 0.8664561719143233\n"
     ]
    },
    {
     "data": {
      "image/png": "[encoded data removed]",
      "text/plain": [
       "<Figure size 640x480 with 1 Axes>"
      ]
     },
     "metadata": {},
     "output_type": "display_data"
    }
   ],
   "source": [
    "axisx = np.linspace(0.05, 1, 20)\n",
    "score, var, ge = [], [], []\n",
    "for i in axisx:\n",
    "    xgb = XGBR(n_estimators = 100, subsample = i, random_state = 888)\n",
    "    cvresult = cross_val_score(xgb, xtrain, ytrain, cv = 10)\n",
    "    var.append(cvresult.var())\n",
    "    ge.append((1 - cvresult.mean())**2 + cvresult.var())\n",
    "    score.append(cross_val_score(xgb, xtrain, ytrain, cv = 10).mean())\n",
    "\n",
    "\n",
    "print('max(score):', axisx[score.index(max(score))], max(score))\n",
    "print('min(var):', axisx[var.index(min(var))], score[var.index(min(var))])\n",
    "print('min(bias^2+var):', axisx[ge.index(min(ge))], score[ge.index(min(ge))])\n",
    "plt.plot(axisx, score+np.sqrt(var), '--')\n",
    "plt.plot(axisx, score-np.sqrt(var), '--')\n",
    "plt.plot(axisx, score)\n",
    "plt.show()"
   ]
  },
  {
   "cell_type": "code",
   "execution_count": 30,
   "id": "be079a97",
   "metadata": {},
   "outputs": [
    {
     "data": {
      "text/plain": [
       "0.8509379800998722"
      ]
     },
     "execution_count": 30,
     "metadata": {},
     "output_type": "execute_result"
    }
   ],
   "source": [
    "xgb = XGBR(n_estimators = 100, random_state = 888, subsample = 0.6).fit(xtrain, ytrain)\n",
    "xgb.score(xtest, ytest)"
   ]
  },
  {
   "cell_type": "code",
   "execution_count": 31,
   "id": "8c267da5",
   "metadata": {},
   "outputs": [
    {
     "data": {
      "text/plain": [
       "10.9004512451777"
      ]
     },
     "execution_count": 31,
     "metadata": {},
     "output_type": "execute_result"
    }
   ],
   "source": [
    "MSE(ytest, xgb.predict(xtest))"
   ]
  },
  {
   "cell_type": "markdown",
   "id": "8d022c56",
   "metadata": {},
   "source": [
    "### 参数eta\n",
    "\n",
    "学习率$\\eta$，新添加的树的权重\n",
    "\n",
    "越大，迭代速度越快，有可能无法收敛到真正的最佳\n",
    "\n",
    "越小，越有可能找到精确的最佳值，但迭代速度会比较缓慢。"
   ]
  },
  {
   "cell_type": "code",
   "execution_count": 32,
   "id": "a24407ad",
   "metadata": {},
   "outputs": [],
   "source": [
    "def regassess(xgb, xtrain, ytrain, cv, scoring = ['r2'], show = True):\n",
    "    score = []\n",
    "    for i in range(len(scoring)):\n",
    "        if show:\n",
    "            print('{}:{:.5f}'.format(scoring[i]\n",
    "                                    , cross_val_score(xgb, xtrain, ytrain, cv = cv, scoring=scoring[i]).mean()))\n",
    "        score.append(cross_val_score(xgb, xtrain, ytrain, cv = cv, scoring=scoring[i]).mean())\n",
    "           \n",
    "    return score"
   ]
  },
  {
   "cell_type": "code",
   "execution_count": 33,
   "id": "67b13230",
   "metadata": {},
   "outputs": [
    {
     "name": "stdout",
     "output_type": "stream",
     "text": [
      "r2:0.86646\n",
      "neg_mean_squared_error:-11.49479\n"
     ]
    },
    {
     "data": {
      "text/plain": [
       "[0.8664561719143233, -11.494785740308]"
      ]
     },
     "execution_count": 33,
     "metadata": {},
     "output_type": "execute_result"
    }
   ],
   "source": [
    "xgb = XGBR(n_estimators = 100, random_state = 888, subsample = 0.6)\n",
    "\n",
    "regassess(xgb, xtrain, ytrain, cv = 10, scoring=['r2', 'neg_mean_squared_error'])"
   ]
  },
  {
   "cell_type": "code",
   "execution_count": 34,
   "id": "4b4dec35",
   "metadata": {},
   "outputs": [
    {
     "name": "stdout",
     "output_type": "stream",
     "text": [
      "leaning_reta = 0\n",
      "r2:-0.04857\n",
      "neg_mean_squared_error:-89.54694\n",
      "00:06:936915\n",
      "\t\n",
      "leaning_reta = 0.2\n",
      "r2:0.86202\n",
      "neg_mean_squared_error:-12.50624\n",
      "00:06:906297\n",
      "\t\n",
      "leaning_reta = 0.3\n",
      "r2:0.86646\n",
      "neg_mean_squared_error:-11.49479\n",
      "00:06:504032\n",
      "\t\n",
      "leaning_reta = 0.5\n",
      "r2:0.83258\n",
      "neg_mean_squared_error:-14.16540\n",
      "00:06:126024\n",
      "\t\n",
      "leaning_reta = 1\n",
      "r2:0.65625\n",
      "neg_mean_squared_error:-29.28588\n",
      "00:05:694960\n",
      "\t\n"
     ]
    }
   ],
   "source": [
    "for i in [0, 0.2, 0.3, 0.5, 1]:\n",
    "    time0 = time()\n",
    "    xgb = XGBR(n_estimators = 100, random_state = 888, learning_rate = i, subsample = 0.6)\n",
    "    print('leaning_reta = {}'.format(i))\n",
    "    regassess(xgb, xtrain, ytrain, cv = 10, scoring=['r2', 'neg_mean_squared_error'])\n",
    "    print(datetime.datetime.fromtimestamp(time() - time0).strftime('%M:%S:%f'))\n",
    "    print('\\t')"
   ]
  },
  {
   "cell_type": "code",
   "execution_count": 35,
   "id": "48bbdb3c",
   "metadata": {},
   "outputs": [],
   "source": [
    "axisx = np.arange(0.05, 1, 0.05)\n",
    "score, test = [], []\n",
    "for i in axisx:\n",
    "    xgb = XGBR(n_estimators = 100, random_state = 888, subsample = 0.6, learning_rate = i)\n",
    "    scorel = (regassess(xgb, xtrain, ytrain, cv = 10, scoring = ['r2', 'neg_mean_squared_error'], show=False))\n",
    "    score.append(scorel[0])\n",
    "    test.append(xgb.fit(xtrain, ytrain).score(xtest, ytest))\n"
   ]
  },
  {
   "cell_type": "code",
   "execution_count": 36,
   "id": "7f4becef",
   "metadata": {},
   "outputs": [
    {
     "name": "stdout",
     "output_type": "stream",
     "text": [
      "0.25 0.866506855875261 test score: 0.8592890628349033\n",
      "0.1 0.8869682355991315\n"
     ]
    },
    {
     "data": {
      "image/png": "[encoded data removed]",
      "text/plain": [
       "<Figure size 640x480 with 1 Axes>"
      ]
     },
     "metadata": {},
     "output_type": "display_data"
    }
   ],
   "source": [
    "\n",
    "print(axisx[score.index(max(score))], max(score), 'test score:', test[score.index(max(score))])\n",
    "print(axisx[test.index(max(test))], max(test))\n",
    "plt.figure()\n",
    "plt.plot(axisx, score, label = 'score')\n",
    "plt.plot(axisx, test, label = 'test')\n",
    "plt.legend()\n",
    "plt.show()"
   ]
  },
  {
   "cell_type": "markdown",
   "id": "ca4fe2f1",
   "metadata": {},
   "source": [
    "通常来说，我们不调整$\\eta$\n",
    "\n",
    "如果我们希望模型的效果更好，更多的是从树本身来说，对树进行剪枝"
   ]
  },
  {
   "cell_type": "markdown",
   "id": "4e7e05e3",
   "metadata": {},
   "source": [
    "# XGBoost"
   ]
  },
  {
   "cell_type": "markdown",
   "id": "89174c86",
   "metadata": {},
   "source": [
    "### 参数booster\n",
    "\n",
    "| xgb.train() & params | xgb.XGBRegressor() |\n",
    "|---|---|\n",
    "| xgb_model | booster |\n",
    "| 使用哪种弱评估器。可以输入gbtree, gblinear或dart。输入的评估器不同，使用的params参数也不同，每种评估器都有自己的params列表。评估器必须于param参数相匹配，否则报错。 | 使用哪种弱评估器。可以输入gbtree, gblinear或dart。gbtree代表梯度提升树，dart是Dropouts meet Multiple Additive Regression Trees, 可译为抛弃提升树，在建模的过程中会抛弃一部分树，比梯度提升树有更好的防过拟合功能。输入gblinear使用线性模型。 |"
   ]
  },
  {
   "cell_type": "code",
   "execution_count": 5,
   "id": "2391e696",
   "metadata": {},
   "outputs": [
    {
     "name": "stdout",
     "output_type": "stream",
     "text": [
      "gbtree\n",
      "0.8869682355991315\n",
      "gblinear\n",
      "0.6150362407763524\n"
     ]
    },
    {
     "name": "stderr",
     "output_type": "stream",
     "text": [
      "d:\\anaconda\\envs\\mineenv\\lib\\site-packages\\xgboost\\training.py:183: UserWarning: [16:55:39] WARNING: C:\\b\\abs_d97hy_84m6\\croot\\xgboost-split_1749630932152\\work\\src\\learner.cc:738: \n",
      "Parameters: { \"subsample\" } are not used.\n",
      "\n",
      "  bst.update(dtrain, iteration=i, fobj=obj)\n"
     ]
    },
    {
     "name": "stdout",
     "output_type": "stream",
     "text": [
      "dart\n",
      "0.8599549140023726\n"
     ]
    }
   ],
   "source": [
    "for booster in ['gbtree', 'gblinear', 'dart']:\n",
    "    xgb = XGBR(n_estimators = 100\n",
    "               , learning_rate = 0.1\n",
    "               , random_state = 888\n",
    "               , booster = booster\n",
    "               , subsample = 0.6).fit(xtrain, ytrain)\n",
    "    print(booster)\n",
    "    print(xgb.score(xtest, ytest))"
   ]
  },
  {
   "cell_type": "markdown",
   "id": "88244fd5",
   "metadata": {},
   "source": [
    "### 目标函数Obj\n",
    "\n",
    "```mermaid\n",
    "graph LR\n",
    "    A[读取数据] --> B[设置参数];\n",
    "    B --> C[训练模型];\n",
    "    C --> D[预测结果];\n",
    "    A[\"xgb.DMatrix()\"]\n",
    "    B[\"param = {}\"]\n",
    "    C[\"bst = xgb.train(param)\"]\n",
    "    D[\"bst.predict()\"]\n",
    "```\n",
    "\n",
    "\n",
    "\n",
    "\n",
    "| xgb.train() | xgb.XGBRegressor() | xgb.XGBClassifier() |\n",
    "|---|---|---|\n",
    "| obj: 默认binary:logistic | **objective**: 默认reg:linear | objective: 默认binary:logistic |\n",
    "\n",
    "常用的选择有：\n",
    "\n",
    "| 输入 | 选用的损失函数 |\n",
    "|---|---|\n",
    "| reg:linear | 使用线性回归的损失函数，均方误差，回归时使用 |\n",
    "| binary:logistic | 使用逻辑回归的损失函数，对数损失log_loss，二分类时使用 |\n",
    "| binary:hinge | 使用支持向量机的损失函数，Hinge Loss，二分类时使用 |\n",
    "| multi:softmax | 使用softmax损失函数，多分类时使用 |\n",
    "\n",
    "还可以自己输入"
   ]
  },
  {
   "cell_type": "code",
   "execution_count": 6,
   "id": "ac2069da",
   "metadata": {},
   "outputs": [
    {
     "data": {
      "text/plain": [
       "(0.8198447083487521, 13.17420745083781)"
      ]
     },
     "execution_count": 6,
     "metadata": {},
     "output_type": "execute_result"
    }
   ],
   "source": [
    "# sklearn实现法\n",
    "xgb = XGBR(n_estimators = 100, random_state = 999).fit(xtrain, ytrain)\n",
    "xgb.score(xtest, ytest), MSE(ytest, xgb.predict(xtest))"
   ]
  },
  {
   "cell_type": "code",
   "execution_count": 7,
   "id": "8a589217",
   "metadata": {},
   "outputs": [
    {
     "data": {
      "text/plain": [
       "<354x13 sparse matrix of type '<class 'numpy.float32'>'\n",
       "\twith 4602 stored elements in Compressed Sparse Row format>"
      ]
     },
     "execution_count": 7,
     "metadata": {},
     "output_type": "execute_result"
    }
   ],
   "source": [
    "# xgb实现法\n",
    "import xgboost as XGB\n",
    "\n",
    "# 使用类Dmatrix读取数据\n",
    "dtrain = XGB.DMatrix(xtrain, ytrain)\n",
    "dtest = XGB.DMatrix(xtest, ytest)\n",
    "# 无法直接打开查看，只能先读入pd然后再放入DMatrix\n",
    "dtrain.get_data()\n"
   ]
  },
  {
   "cell_type": "code",
   "execution_count": 8,
   "id": "d80002ed",
   "metadata": {},
   "outputs": [
    {
     "data": {
      "text/html": [
       "<div>\n",
       "<style scoped>\n",
       "    .dataframe tbody tr th:only-of-type {\n",
       "        vertical-align: middle;\n",
       "    }\n",
       "\n",
       "    .dataframe tbody tr th {\n",
       "        vertical-align: top;\n",
       "    }\n",
       "\n",
       "    .dataframe thead th {\n",
       "        text-align: right;\n",
       "    }\n",
       "</style>\n",
       "<table border=\"1\" class=\"dataframe\">\n",
       "  <thead>\n",
       "    <tr style=\"text-align: right;\">\n",
       "      <th></th>\n",
       "      <th>0</th>\n",
       "      <th>1</th>\n",
       "      <th>2</th>\n",
       "      <th>3</th>\n",
       "      <th>4</th>\n",
       "      <th>5</th>\n",
       "      <th>6</th>\n",
       "      <th>7</th>\n",
       "      <th>8</th>\n",
       "      <th>9</th>\n",
       "      <th>10</th>\n",
       "      <th>11</th>\n",
       "      <th>12</th>\n",
       "    </tr>\n",
       "  </thead>\n",
       "  <tbody>\n",
       "    <tr>\n",
       "      <th>0</th>\n",
       "      <td>9.51363</td>\n",
       "      <td>0.0</td>\n",
       "      <td>18.10</td>\n",
       "      <td>0.0</td>\n",
       "      <td>0.713</td>\n",
       "      <td>6.728</td>\n",
       "      <td>94.1</td>\n",
       "      <td>2.4961</td>\n",
       "      <td>24.0</td>\n",
       "      <td>666.0</td>\n",
       "      <td>20.2</td>\n",
       "      <td>6.68</td>\n",
       "      <td>18.71</td>\n",
       "    </tr>\n",
       "    <tr>\n",
       "      <th>1</th>\n",
       "      <td>15.86030</td>\n",
       "      <td>0.0</td>\n",
       "      <td>18.10</td>\n",
       "      <td>0.0</td>\n",
       "      <td>0.679</td>\n",
       "      <td>5.896</td>\n",
       "      <td>95.4</td>\n",
       "      <td>1.9096</td>\n",
       "      <td>24.0</td>\n",
       "      <td>666.0</td>\n",
       "      <td>20.2</td>\n",
       "      <td>7.68</td>\n",
       "      <td>24.39</td>\n",
       "    </tr>\n",
       "    <tr>\n",
       "      <th>2</th>\n",
       "      <td>0.03445</td>\n",
       "      <td>82.5</td>\n",
       "      <td>2.03</td>\n",
       "      <td>0.0</td>\n",
       "      <td>0.415</td>\n",
       "      <td>6.162</td>\n",
       "      <td>38.4</td>\n",
       "      <td>6.2700</td>\n",
       "      <td>2.0</td>\n",
       "      <td>348.0</td>\n",
       "      <td>14.7</td>\n",
       "      <td>393.77</td>\n",
       "      <td>7.43</td>\n",
       "    </tr>\n",
       "    <tr>\n",
       "      <th>3</th>\n",
       "      <td>0.08187</td>\n",
       "      <td>0.0</td>\n",
       "      <td>2.89</td>\n",
       "      <td>0.0</td>\n",
       "      <td>0.445</td>\n",
       "      <td>7.820</td>\n",
       "      <td>36.9</td>\n",
       "      <td>3.4952</td>\n",
       "      <td>2.0</td>\n",
       "      <td>276.0</td>\n",
       "      <td>18.0</td>\n",
       "      <td>393.53</td>\n",
       "      <td>3.57</td>\n",
       "    </tr>\n",
       "    <tr>\n",
       "      <th>4</th>\n",
       "      <td>0.03548</td>\n",
       "      <td>80.0</td>\n",
       "      <td>3.64</td>\n",
       "      <td>0.0</td>\n",
       "      <td>0.392</td>\n",
       "      <td>5.876</td>\n",
       "      <td>19.1</td>\n",
       "      <td>9.2203</td>\n",
       "      <td>1.0</td>\n",
       "      <td>315.0</td>\n",
       "      <td>16.4</td>\n",
       "      <td>395.18</td>\n",
       "      <td>9.25</td>\n",
       "    </tr>\n",
       "    <tr>\n",
       "      <th>...</th>\n",
       "      <td>...</td>\n",
       "      <td>...</td>\n",
       "      <td>...</td>\n",
       "      <td>...</td>\n",
       "      <td>...</td>\n",
       "      <td>...</td>\n",
       "      <td>...</td>\n",
       "      <td>...</td>\n",
       "      <td>...</td>\n",
       "      <td>...</td>\n",
       "      <td>...</td>\n",
       "      <td>...</td>\n",
       "      <td>...</td>\n",
       "    </tr>\n",
       "    <tr>\n",
       "      <th>349</th>\n",
       "      <td>0.17134</td>\n",
       "      <td>0.0</td>\n",
       "      <td>10.01</td>\n",
       "      <td>0.0</td>\n",
       "      <td>0.547</td>\n",
       "      <td>5.928</td>\n",
       "      <td>88.2</td>\n",
       "      <td>2.4631</td>\n",
       "      <td>6.0</td>\n",
       "      <td>432.0</td>\n",
       "      <td>17.8</td>\n",
       "      <td>344.91</td>\n",
       "      <td>15.76</td>\n",
       "    </tr>\n",
       "    <tr>\n",
       "      <th>350</th>\n",
       "      <td>1.65660</td>\n",
       "      <td>0.0</td>\n",
       "      <td>19.58</td>\n",
       "      <td>0.0</td>\n",
       "      <td>0.871</td>\n",
       "      <td>6.122</td>\n",
       "      <td>97.3</td>\n",
       "      <td>1.6180</td>\n",
       "      <td>5.0</td>\n",
       "      <td>403.0</td>\n",
       "      <td>14.7</td>\n",
       "      <td>372.80</td>\n",
       "      <td>14.10</td>\n",
       "    </tr>\n",
       "    <tr>\n",
       "      <th>351</th>\n",
       "      <td>0.09252</td>\n",
       "      <td>30.0</td>\n",
       "      <td>4.93</td>\n",
       "      <td>0.0</td>\n",
       "      <td>0.428</td>\n",
       "      <td>6.606</td>\n",
       "      <td>42.2</td>\n",
       "      <td>6.1899</td>\n",
       "      <td>6.0</td>\n",
       "      <td>300.0</td>\n",
       "      <td>16.6</td>\n",
       "      <td>383.78</td>\n",
       "      <td>7.37</td>\n",
       "    </tr>\n",
       "    <tr>\n",
       "      <th>352</th>\n",
       "      <td>0.17331</td>\n",
       "      <td>0.0</td>\n",
       "      <td>9.69</td>\n",
       "      <td>0.0</td>\n",
       "      <td>0.585</td>\n",
       "      <td>5.707</td>\n",
       "      <td>54.0</td>\n",
       "      <td>2.3817</td>\n",
       "      <td>6.0</td>\n",
       "      <td>391.0</td>\n",
       "      <td>19.2</td>\n",
       "      <td>396.90</td>\n",
       "      <td>12.01</td>\n",
       "    </tr>\n",
       "    <tr>\n",
       "      <th>353</th>\n",
       "      <td>51.13580</td>\n",
       "      <td>0.0</td>\n",
       "      <td>18.10</td>\n",
       "      <td>0.0</td>\n",
       "      <td>0.597</td>\n",
       "      <td>5.757</td>\n",
       "      <td>100.0</td>\n",
       "      <td>1.4130</td>\n",
       "      <td>24.0</td>\n",
       "      <td>666.0</td>\n",
       "      <td>20.2</td>\n",
       "      <td>2.60</td>\n",
       "      <td>10.11</td>\n",
       "    </tr>\n",
       "  </tbody>\n",
       "</table>\n",
       "<p>354 rows × 13 columns</p>\n",
       "</div>"
      ],
      "text/plain": [
       "           0     1      2    3      4      5      6       7     8      9   \\\n",
       "0     9.51363   0.0  18.10  0.0  0.713  6.728   94.1  2.4961  24.0  666.0   \n",
       "1    15.86030   0.0  18.10  0.0  0.679  5.896   95.4  1.9096  24.0  666.0   \n",
       "2     0.03445  82.5   2.03  0.0  0.415  6.162   38.4  6.2700   2.0  348.0   \n",
       "3     0.08187   0.0   2.89  0.0  0.445  7.820   36.9  3.4952   2.0  276.0   \n",
       "4     0.03548  80.0   3.64  0.0  0.392  5.876   19.1  9.2203   1.0  315.0   \n",
       "..        ...   ...    ...  ...    ...    ...    ...     ...   ...    ...   \n",
       "349   0.17134   0.0  10.01  0.0  0.547  5.928   88.2  2.4631   6.0  432.0   \n",
       "350   1.65660   0.0  19.58  0.0  0.871  6.122   97.3  1.6180   5.0  403.0   \n",
       "351   0.09252  30.0   4.93  0.0  0.428  6.606   42.2  6.1899   6.0  300.0   \n",
       "352   0.17331   0.0   9.69  0.0  0.585  5.707   54.0  2.3817   6.0  391.0   \n",
       "353  51.13580   0.0  18.10  0.0  0.597  5.757  100.0  1.4130  24.0  666.0   \n",
       "\n",
       "       10      11     12  \n",
       "0    20.2    6.68  18.71  \n",
       "1    20.2    7.68  24.39  \n",
       "2    14.7  393.77   7.43  \n",
       "3    18.0  393.53   3.57  \n",
       "4    16.4  395.18   9.25  \n",
       "..    ...     ...    ...  \n",
       "349  17.8  344.91  15.76  \n",
       "350  14.7  372.80  14.10  \n",
       "351  16.6  383.78   7.37  \n",
       "352  19.2  396.90  12.01  \n",
       "353  20.2    2.60  10.11  \n",
       "\n",
       "[354 rows x 13 columns]"
      ]
     },
     "execution_count": 8,
     "metadata": {},
     "output_type": "execute_result"
    }
   ],
   "source": [
    "pd.DataFrame(xtrain)"
   ]
  },
  {
   "cell_type": "code",
   "execution_count": null,
   "id": "6a2424b6",
   "metadata": {},
   "outputs": [],
   "source": [
    "# 写明参数\n",
    "param = {'silent':False\n",
    "         , 'objective':'reg:squarederror'\n",
    "         , 'eta':0.1}\n",
    "num_round = 100\n"
   ]
  },
  {
   "cell_type": "code",
   "execution_count": 10,
   "id": "50abbba5",
   "metadata": {},
   "outputs": [
    {
     "name": "stderr",
     "output_type": "stream",
     "text": [
      "d:\\anaconda\\envs\\mineenv\\lib\\site-packages\\xgboost\\training.py:183: UserWarning: [16:55:51] WARNING: C:\\b\\abs_d97hy_84m6\\croot\\xgboost-split_1749630932152\\work\\src\\learner.cc:738: \n",
      "Parameters: { \"slient\" } are not used.\n",
      "\n",
      "  bst.update(dtrain, iteration=i, fobj=obj)\n"
     ]
    }
   ],
   "source": [
    "\n",
    "# 类train，可以直接导入的参数是训练数据，树的数量\n",
    "# 其他参数都需要params来导入\n",
    "bst = XGB.train(param, dtrain, num_round)\n",
    "preds = bst.predict(dtest)\n"
   ]
  },
  {
   "cell_type": "code",
   "execution_count": 11,
   "id": "db922fff",
   "metadata": {},
   "outputs": [
    {
     "data": {
      "text/plain": [
       "0.8048260280507197"
      ]
     },
     "execution_count": 11,
     "metadata": {},
     "output_type": "execute_result"
    }
   ],
   "source": [
    "from sklearn.metrics import r2_score\n",
    "r2_score(ytest, preds)"
   ]
  },
  {
   "cell_type": "code",
   "execution_count": 14,
   "id": "1cf3172d",
   "metadata": {},
   "outputs": [
    {
     "data": {
      "text/plain": [
       "14.272477771240682"
      ]
     },
     "execution_count": 14,
     "metadata": {},
     "output_type": "execute_result"
    }
   ],
   "source": [
    "MSE(ytest, preds)"
   ]
  },
  {
   "cell_type": "markdown",
   "id": "572b418d",
   "metadata": {},
   "source": [
    "### 惩罚项系数与正则化参数\n",
    "\n",
    "$\\gamma$：惩罚项系数\n",
    "\n",
    "$\\alpha$：L1正则化参数\n",
    "\n",
    "$\\lambda$：L2正则化参数"
   ]
  },
  {
   "cell_type": "markdown",
   "id": "55ae5521",
   "metadata": {},
   "source": [
    "#### $\\alpha$ & $\\lambda$"
   ]
  },
  {
   "cell_type": "code",
   "execution_count": 21,
   "id": "18ff178e",
   "metadata": {},
   "outputs": [],
   "source": [
    "# 使用网格搜索来查找最佳参数组合\n",
    "from sklearn.model_selection import GridSearchCV\n",
    "\n",
    "param = {'reg_alpha':np.arange(0, 5, 0.05)\n",
    "         , 'reg_lambda':np.arange(0, 2, 0.05)}\n",
    "\n",
    "gscv = GridSearchCV(xgb, param_grid=param, scoring='neg_mean_squared_error', cv = 10)"
   ]
  },
  {
   "cell_type": "code",
   "execution_count": null,
   "id": "d972bd91",
   "metadata": {},
   "outputs": [],
   "source": [
    "# time warning\n",
    "time0 = time()\n",
    "gscv.fit(xtrain, ytrain)\n",
    "print(datetime.datetime.fromtimestamp(time() - time0).strftime('%M:%S:%f'))"
   ]
  },
  {
   "cell_type": "code",
   "execution_count": null,
   "id": "3fa57fc1",
   "metadata": {},
   "outputs": [],
   "source": [
    "gscv.best_params_"
   ]
  },
  {
   "cell_type": "code",
   "execution_count": null,
   "id": "c9ddf2db",
   "metadata": {},
   "outputs": [],
   "source": [
    "gscv.best_score_"
   ]
  },
  {
   "cell_type": "code",
   "execution_count": null,
   "id": "ad7b0e44",
   "metadata": {},
   "outputs": [],
   "source": [
    "preds = gscv.predict(xtest)"
   ]
  },
  {
   "cell_type": "markdown",
   "id": "067c5387",
   "metadata": {},
   "source": [
    "#### $\\gamma$\n",
    "\n",
    "很重要\n",
    "\n",
    "让树停止生长\n",
    "\n",
    "$\\gamma$越大，惩罚越严重，树将越保守，越不容易过拟合"
   ]
  },
  {
   "cell_type": "code",
   "execution_count": null,
   "id": "849f85f8",
   "metadata": {},
   "outputs": [],
   "source": [
    "# 通过传统的学习曲线\n",
    "axisx = np.arange(1, 5, 0.05)\n",
    "score, var, ge = [], [], []\n",
    "for i in axisx:\n",
    "    model = XGBR(n_estimators = 100, random_state = 888, gamma = i)\n",
    "    result = cross_val_score(model, xtrain, ytrain, cv = 10)\n",
    "    score.append(result.mean())\n",
    "    var.append(result.var())\n",
    "    ge.append((1 - result.mean())**2 + result.var())\n"
   ]
  },
  {
   "cell_type": "code",
   "execution_count": 16,
   "id": "2aa2ca4b",
   "metadata": {},
   "outputs": [
    {
     "name": "stdout",
     "output_type": "stream",
     "text": [
      "max(score): 2.950000000000002 0.8491807482358608\n",
      "min(var): 2.950000000000002 0.8491807482358608\n",
      "min(ge): 2.950000000000002 0.8491807482358608\n"
     ]
    },
    {
     "data": {
      "image/png": "[encoded data removed]",
      "text/plain": [
       "<Figure size 640x480 with 1 Axes>"
      ]
     },
     "metadata": {},
     "output_type": "display_data"
    }
   ],
   "source": [
    "\n",
    "\n",
    "print('max(score):', axisx[score.index(max(score))], max(score))\n",
    "print('min(var):', axisx[var.index(min(var))], score[var.index(min(var))])\n",
    "print('min(ge):', axisx[ge.index(min(ge))], score[ge.index(min(ge))])\n",
    "\n",
    "plt.figure()\n",
    "plt.plot(axisx, score)\n",
    "plt.plot(axisx, score + np.sqrt(var), '--')\n",
    "plt.plot(axisx, score - np.sqrt(var), '--')\n",
    "\n",
    "plt.show()"
   ]
  },
  {
   "cell_type": "markdown",
   "id": "013ea60b",
   "metadata": {},
   "source": [
    "完全无法看出趋势，$\\gamma$引起的波动远远超过其他的参数的改变，无法贸然取值\n",
    "\n",
    "引入xgboost库中的类xgboost.cv"
   ]
  },
  {
   "cell_type": "markdown",
   "id": "12bf08d4",
   "metadata": {},
   "source": [
    "### xgboost.cv\n",
    "\n",
    "常用指标\n",
    "| 指标 | 含义 |\n",
    "|---|---|\n",
    "| rmse | 回归用，调整后的均方误差 |\n",
    "| mae | 回归用，绝对平均误差 |\n",
    "| logloss | 二分类用，对数损失 |\n",
    "| mlogloss | 多分类用，对数损失 |\n",
    "| error | 分类用，分类误差，等于1-准确率 |\n",
    "| auc | 分类用，AUC面积 |"
   ]
  },
  {
   "cell_type": "code",
   "execution_count": 26,
   "id": "7fde6546",
   "metadata": {},
   "outputs": [
    {
     "name": "stderr",
     "output_type": "stream",
     "text": [
      "d:\\anaconda\\envs\\mineenv\\lib\\site-packages\\xgboost\\training.py:215: UserWarning: [19:40:28] WARNING: C:\\b\\abs_d97hy_84m6\\croot\\xgboost-split_1749630932152\\work\\src\\learner.cc:738: \n",
      "Parameters: { \"silent\" } are not used.\n",
      "\n",
      "  self.bst.update(self.dtrain, iteration, fobj)\n"
     ]
    },
    {
     "name": "stdout",
     "output_type": "stream",
     "text": [
      "00:00:597733\n"
     ]
    }
   ],
   "source": [
    "param1 = {'silent':True\n",
    "         , 'objective':'reg:squarederror'\n",
    "         , 'gamma':0}\n",
    "num_round = 100\n",
    "n_fold = 5\n",
    "\n",
    "time0 = time()\n",
    "cvresult1 = XGB.cv(param1, dtrain, num_round, n_fold)\n",
    "print(datetime.datetime.fromtimestamp(time() - time0).strftime('%M:%S:%f'))"
   ]
  },
  {
   "cell_type": "code",
   "execution_count": 27,
   "id": "89a5766b",
   "metadata": {},
   "outputs": [
    {
     "data": {
      "text/html": [
       "<div>\n",
       "<style scoped>\n",
       "    .dataframe tbody tr th:only-of-type {\n",
       "        vertical-align: middle;\n",
       "    }\n",
       "\n",
       "    .dataframe tbody tr th {\n",
       "        vertical-align: top;\n",
       "    }\n",
       "\n",
       "    .dataframe thead th {\n",
       "        text-align: right;\n",
       "    }\n",
       "</style>\n",
       "<table border=\"1\" class=\"dataframe\">\n",
       "  <thead>\n",
       "    <tr style=\"text-align: right;\">\n",
       "      <th></th>\n",
       "      <th>train-rmse-mean</th>\n",
       "      <th>train-rmse-std</th>\n",
       "      <th>test-rmse-mean</th>\n",
       "      <th>test-rmse-std</th>\n",
       "    </tr>\n",
       "  </thead>\n",
       "  <tbody>\n",
       "    <tr>\n",
       "      <th>0</th>\n",
       "      <td>7.029977</td>\n",
       "      <td>0.095130</td>\n",
       "      <td>7.643617</td>\n",
       "      <td>0.481202</td>\n",
       "    </tr>\n",
       "    <tr>\n",
       "      <th>1</th>\n",
       "      <td>5.328434</td>\n",
       "      <td>0.062754</td>\n",
       "      <td>6.290009</td>\n",
       "      <td>0.436051</td>\n",
       "    </tr>\n",
       "    <tr>\n",
       "      <th>2</th>\n",
       "      <td>4.103719</td>\n",
       "      <td>0.060085</td>\n",
       "      <td>5.460049</td>\n",
       "      <td>0.589032</td>\n",
       "    </tr>\n",
       "    <tr>\n",
       "      <th>3</th>\n",
       "      <td>3.219513</td>\n",
       "      <td>0.067879</td>\n",
       "      <td>4.875964</td>\n",
       "      <td>0.635531</td>\n",
       "    </tr>\n",
       "    <tr>\n",
       "      <th>4</th>\n",
       "      <td>2.551082</td>\n",
       "      <td>0.062724</td>\n",
       "      <td>4.458590</td>\n",
       "      <td>0.614815</td>\n",
       "    </tr>\n",
       "    <tr>\n",
       "      <th>...</th>\n",
       "      <td>...</td>\n",
       "      <td>...</td>\n",
       "      <td>...</td>\n",
       "      <td>...</td>\n",
       "    </tr>\n",
       "    <tr>\n",
       "      <th>95</th>\n",
       "      <td>0.006406</td>\n",
       "      <td>0.001872</td>\n",
       "      <td>3.677413</td>\n",
       "      <td>0.592420</td>\n",
       "    </tr>\n",
       "    <tr>\n",
       "      <th>96</th>\n",
       "      <td>0.006067</td>\n",
       "      <td>0.001747</td>\n",
       "      <td>3.677477</td>\n",
       "      <td>0.592450</td>\n",
       "    </tr>\n",
       "    <tr>\n",
       "      <th>97</th>\n",
       "      <td>0.005696</td>\n",
       "      <td>0.001550</td>\n",
       "      <td>3.677476</td>\n",
       "      <td>0.592469</td>\n",
       "    </tr>\n",
       "    <tr>\n",
       "      <th>98</th>\n",
       "      <td>0.005405</td>\n",
       "      <td>0.001398</td>\n",
       "      <td>3.677463</td>\n",
       "      <td>0.592468</td>\n",
       "    </tr>\n",
       "    <tr>\n",
       "      <th>99</th>\n",
       "      <td>0.005088</td>\n",
       "      <td>0.001378</td>\n",
       "      <td>3.677421</td>\n",
       "      <td>0.592560</td>\n",
       "    </tr>\n",
       "  </tbody>\n",
       "</table>\n",
       "<p>100 rows × 4 columns</p>\n",
       "</div>"
      ],
      "text/plain": [
       "    train-rmse-mean  train-rmse-std  test-rmse-mean  test-rmse-std\n",
       "0          7.029977        0.095130        7.643617       0.481202\n",
       "1          5.328434        0.062754        6.290009       0.436051\n",
       "2          4.103719        0.060085        5.460049       0.589032\n",
       "3          3.219513        0.067879        4.875964       0.635531\n",
       "4          2.551082        0.062724        4.458590       0.614815\n",
       "..              ...             ...             ...            ...\n",
       "95         0.006406        0.001872        3.677413       0.592420\n",
       "96         0.006067        0.001747        3.677477       0.592450\n",
       "97         0.005696        0.001550        3.677476       0.592469\n",
       "98         0.005405        0.001398        3.677463       0.592468\n",
       "99         0.005088        0.001378        3.677421       0.592560\n",
       "\n",
       "[100 rows x 4 columns]"
      ]
     },
     "execution_count": 27,
     "metadata": {},
     "output_type": "execute_result"
    }
   ],
   "source": [
    "cvresult1"
   ]
  },
  {
   "cell_type": "code",
   "execution_count": 28,
   "id": "c737b30c",
   "metadata": {},
   "outputs": [
    {
     "data": {
      "text/plain": [
       "<function matplotlib.pyplot.show(close=None, block=None)>"
      ]
     },
     "execution_count": 28,
     "metadata": {},
     "output_type": "execute_result"
    },
    {
     "data": {
      "image/png": "[encoded data removed]",
      "text/plain": [
       "<Figure size 640x480 with 1 Axes>"
      ]
     },
     "metadata": {},
     "output_type": "display_data"
    }
   ],
   "source": [
    "plt.figure()\n",
    "plt.grid()\n",
    "plt.plot(range(1, 101), cvresult1.iloc[:, 0], label = 'train, gamma = 0')\n",
    "plt.plot(range(1, 101), cvresult1.iloc[:, 2], label = 'test, gamma = 0')\n",
    "plt.legend()\n",
    "plt.xlabel('num of tree(s)')\n",
    "plt.ylabel('mse')\n",
    "plt.show"
   ]
  },
  {
   "cell_type": "code",
   "execution_count": 29,
   "id": "70f63a5d",
   "metadata": {},
   "outputs": [
    {
     "name": "stderr",
     "output_type": "stream",
     "text": [
      "d:\\anaconda\\envs\\mineenv\\lib\\site-packages\\xgboost\\core.py:726: FutureWarning: Pass `nfold` as keyword args.\n",
      "  warnings.warn(msg, FutureWarning)\n",
      "d:\\anaconda\\envs\\mineenv\\lib\\site-packages\\xgboost\\training.py:215: UserWarning: [19:40:40] WARNING: C:\\b\\abs_d97hy_84m6\\croot\\xgboost-split_1749630932152\\work\\src\\learner.cc:738: \n",
      "Parameters: { \"silent\" } are not used.\n",
      "\n",
      "  self.bst.update(self.dtrain, iteration, fobj)\n"
     ]
    },
    {
     "name": "stdout",
     "output_type": "stream",
     "text": [
      "00:00:552486\n"
     ]
    },
    {
     "data": {
      "text/plain": [
       "<function matplotlib.pyplot.show(close=None, block=None)>"
      ]
     },
     "execution_count": 29,
     "metadata": {},
     "output_type": "execute_result"
    },
    {
     "data": {
      "image/png": "[encoded data removed]",
      "text/plain": [
       "<Figure size 640x480 with 1 Axes>"
      ]
     },
     "metadata": {},
     "output_type": "display_data"
    }
   ],
   "source": [
    "# 修改指标\n",
    "param1 = {'silent':True\n",
    "         , 'objective':'reg:squarederror'\n",
    "         , 'gamma':0\n",
    "         , 'eval_metric':'mae'}\n",
    "num_round = 100\n",
    "n_fold = 5\n",
    "\n",
    "time0 = time()\n",
    "cvresult1 = XGB.cv(param1, dtrain, num_round, n_fold)\n",
    "print(datetime.datetime.fromtimestamp(time() - time0).strftime('%M:%S:%f'))\n",
    "plt.figure()\n",
    "plt.grid()\n",
    "plt.plot(range(1, 101), cvresult1.iloc[:, 0], label = 'train, gamma = 0')\n",
    "plt.plot(range(1, 101), cvresult1.iloc[:, 2], label = 'test, gamma = 0')\n",
    "plt.legend()\n",
    "plt.xlabel('num of tree(s)')\n",
    "plt.ylabel('mae')\n",
    "plt.show"
   ]
  },
  {
   "cell_type": "markdown",
   "id": "4f407e43",
   "metadata": {},
   "source": [
    "过拟合\n",
    "\n",
    "可以增大训练集的mse，或者减少测试集的mse，以使两条线接近，减弱过拟合，增强模型泛化能力。"
   ]
  },
  {
   "cell_type": "code",
   "execution_count": 31,
   "id": "2635f4f5",
   "metadata": {},
   "outputs": [
    {
     "name": "stderr",
     "output_type": "stream",
     "text": [
      "d:\\anaconda\\envs\\mineenv\\lib\\site-packages\\xgboost\\training.py:215: UserWarning: [19:49:22] WARNING: C:\\b\\abs_d97hy_84m6\\croot\\xgboost-split_1749630932152\\work\\src\\learner.cc:738: \n",
      "Parameters: { \"silent\" } are not used.\n",
      "\n",
      "  self.bst.update(self.dtrain, iteration, fobj)\n"
     ]
    },
    {
     "name": "stdout",
     "output_type": "stream",
     "text": [
      "00:00:612223\n"
     ]
    },
    {
     "name": "stderr",
     "output_type": "stream",
     "text": [
      "d:\\anaconda\\envs\\mineenv\\lib\\site-packages\\xgboost\\training.py:215: UserWarning: [19:49:23] WARNING: C:\\b\\abs_d97hy_84m6\\croot\\xgboost-split_1749630932152\\work\\src\\learner.cc:738: \n",
      "Parameters: { \"silent\" } are not used.\n",
      "\n",
      "  self.bst.update(self.dtrain, iteration, fobj)\n"
     ]
    },
    {
     "name": "stdout",
     "output_type": "stream",
     "text": [
      "00:00:304118\n"
     ]
    },
    {
     "data": {
      "text/plain": [
       "<function matplotlib.pyplot.show(close=None, block=None)>"
      ]
     },
     "execution_count": 31,
     "metadata": {},
     "output_type": "execute_result"
    },
    {
     "data": {
      "image/png": "[encoded data removed]",
      "text/plain": [
       "<Figure size 640x480 with 1 Axes>"
      ]
     },
     "metadata": {},
     "output_type": "display_data"
    }
   ],
   "source": [
    "param1 = {'silent':True\n",
    "         , 'objective':'reg:squarederror'\n",
    "         , 'gamma':0\n",
    "        }\n",
    "param2 = {'silent':True\n",
    "         , 'objective':'reg:squarederror'\n",
    "         , 'gamma':20\n",
    "        }\n",
    "num_round = 100\n",
    "n_fold = 5\n",
    "\n",
    "time0 = time()\n",
    "cvresult1 = XGB.cv(param1, dtrain, num_round, n_fold)\n",
    "print(datetime.datetime.fromtimestamp(time() - time0).strftime('%M:%S:%f'))\n",
    "time0 = time()\n",
    "cvresult2 = XGB.cv(param2, dtrain, num_round, n_fold)\n",
    "print(datetime.datetime.fromtimestamp(time() - time0).strftime('%M:%S:%f'))\n",
    "plt.figure()\n",
    "plt.grid()\n",
    "plt.plot(range(1, 101), cvresult1.iloc[:, 0], label = 'train, gamma = 0')\n",
    "plt.plot(range(1, 101), cvresult1.iloc[:, 2], label = 'test, gamma = 0')\n",
    "plt.plot(range(1, 101), cvresult2.iloc[:, 0], label = 'train, gamma = 20')\n",
    "plt.plot(range(1, 101), cvresult2.iloc[:, 2], label = 'test, gamma = 20')\n",
    "plt.legend()\n",
    "plt.xlabel('num of tree(s)')\n",
    "plt.ylabel('mse')\n",
    "plt.show"
   ]
  },
  {
   "cell_type": "markdown",
   "id": "1a0ffe18",
   "metadata": {},
   "source": [
    "发现增大gamma，则两条曲线更加接近\n",
    "\n",
    "但是测试集上的表现几乎一样\n",
    "\n",
    "gamma是通过降低训练集上的表现来控制过拟合"
   ]
  },
  {
   "cell_type": "markdown",
   "id": "3d933b05",
   "metadata": {},
   "source": [
    "#### 在分类问题上的表现"
   ]
  },
  {
   "cell_type": "code",
   "execution_count": 32,
   "id": "ef7e60aa",
   "metadata": {},
   "outputs": [],
   "source": [
    "from sklearn.datasets import load_breast_cancer"
   ]
  },
  {
   "cell_type": "code",
   "execution_count": 34,
   "id": "01862673",
   "metadata": {},
   "outputs": [],
   "source": [
    "data2 = load_breast_cancer()\n",
    "x2 = data2.data\n",
    "y2 = data2.target\n",
    "\n",
    "xtrain2, xtest2, ytrain2, ytest2  = train_test_split(x2, y2, test_size=0.3, random_state=888) "
   ]
  },
  {
   "cell_type": "code",
   "execution_count": 35,
   "id": "beb7cf7c",
   "metadata": {},
   "outputs": [],
   "source": [
    "dtrain2 = XGB.DMatrix(xtrain2, ytrain2)\n",
    "dtest2 = XGB.DMatrix(xtest2, ytest2)"
   ]
  },
  {
   "cell_type": "code",
   "execution_count": 36,
   "id": "3cecb680",
   "metadata": {},
   "outputs": [],
   "source": [
    "param1 = {'silent':True\n",
    "          , 'objective':'binary:logistic'\n",
    "          , 'gamma':0\n",
    "          , 'nfold':5}\n",
    "param2 = {'silent':True\n",
    "          , 'objective':'binary:logistic'\n",
    "          , 'gamma':2\n",
    "          , 'nfold':5}\n",
    "num_round = 100"
   ]
  },
  {
   "cell_type": "code",
   "execution_count": 37,
   "id": "d845a80c",
   "metadata": {},
   "outputs": [
    {
     "name": "stderr",
     "output_type": "stream",
     "text": [
      "d:\\anaconda\\envs\\mineenv\\lib\\site-packages\\xgboost\\training.py:215: UserWarning: [20:13:42] WARNING: C:\\b\\abs_d97hy_84m6\\croot\\xgboost-split_1749630932152\\work\\src\\learner.cc:738: \n",
      "Parameters: { \"nfold\", \"silent\" } are not used.\n",
      "\n",
      "  self.bst.update(self.dtrain, iteration, fobj)\n"
     ]
    },
    {
     "name": "stdout",
     "output_type": "stream",
     "text": [
      "00:00:280449\n",
      "00:00:425651\n"
     ]
    }
   ],
   "source": [
    "time0 = time()\n",
    "cvresult1 = XGB.cv(param1, dtrain2, num_round)\n",
    "print(datetime.datetime.fromtimestamp(time() - time0).strftime('%M:%S:%f'))\n",
    "cvresult2 = XGB.cv(param2, dtrain2, num_round)\n",
    "print(datetime.datetime.fromtimestamp(time() - time0).strftime('%M:%S:%f'))"
   ]
  },
  {
   "cell_type": "code",
   "execution_count": 38,
   "id": "c586f49c",
   "metadata": {},
   "outputs": [
    {
     "data": {
      "text/html": [
       "<div>\n",
       "<style scoped>\n",
       "    .dataframe tbody tr th:only-of-type {\n",
       "        vertical-align: middle;\n",
       "    }\n",
       "\n",
       "    .dataframe tbody tr th {\n",
       "        vertical-align: top;\n",
       "    }\n",
       "\n",
       "    .dataframe thead th {\n",
       "        text-align: right;\n",
       "    }\n",
       "</style>\n",
       "<table border=\"1\" class=\"dataframe\">\n",
       "  <thead>\n",
       "    <tr style=\"text-align: right;\">\n",
       "      <th></th>\n",
       "      <th>train-logloss-mean</th>\n",
       "      <th>train-logloss-std</th>\n",
       "      <th>test-logloss-mean</th>\n",
       "      <th>test-logloss-std</th>\n",
       "    </tr>\n",
       "  </thead>\n",
       "  <tbody>\n",
       "    <tr>\n",
       "      <th>0</th>\n",
       "      <td>0.449080</td>\n",
       "      <td>0.002957</td>\n",
       "      <td>0.470849</td>\n",
       "      <td>0.018537</td>\n",
       "    </tr>\n",
       "    <tr>\n",
       "      <th>1</th>\n",
       "      <td>0.325995</td>\n",
       "      <td>0.003704</td>\n",
       "      <td>0.365670</td>\n",
       "      <td>0.016136</td>\n",
       "    </tr>\n",
       "    <tr>\n",
       "      <th>2</th>\n",
       "      <td>0.245150</td>\n",
       "      <td>0.004736</td>\n",
       "      <td>0.296202</td>\n",
       "      <td>0.023000</td>\n",
       "    </tr>\n",
       "    <tr>\n",
       "      <th>3</th>\n",
       "      <td>0.188785</td>\n",
       "      <td>0.003093</td>\n",
       "      <td>0.249085</td>\n",
       "      <td>0.023419</td>\n",
       "    </tr>\n",
       "    <tr>\n",
       "      <th>4</th>\n",
       "      <td>0.148254</td>\n",
       "      <td>0.002929</td>\n",
       "      <td>0.218039</td>\n",
       "      <td>0.023191</td>\n",
       "    </tr>\n",
       "    <tr>\n",
       "      <th>...</th>\n",
       "      <td>...</td>\n",
       "      <td>...</td>\n",
       "      <td>...</td>\n",
       "      <td>...</td>\n",
       "    </tr>\n",
       "    <tr>\n",
       "      <th>95</th>\n",
       "      <td>0.008230</td>\n",
       "      <td>0.000125</td>\n",
       "      <td>0.122580</td>\n",
       "      <td>0.027789</td>\n",
       "    </tr>\n",
       "    <tr>\n",
       "      <th>96</th>\n",
       "      <td>0.008230</td>\n",
       "      <td>0.000125</td>\n",
       "      <td>0.122581</td>\n",
       "      <td>0.027789</td>\n",
       "    </tr>\n",
       "    <tr>\n",
       "      <th>97</th>\n",
       "      <td>0.008230</td>\n",
       "      <td>0.000125</td>\n",
       "      <td>0.122581</td>\n",
       "      <td>0.027789</td>\n",
       "    </tr>\n",
       "    <tr>\n",
       "      <th>98</th>\n",
       "      <td>0.008230</td>\n",
       "      <td>0.000125</td>\n",
       "      <td>0.122581</td>\n",
       "      <td>0.027789</td>\n",
       "    </tr>\n",
       "    <tr>\n",
       "      <th>99</th>\n",
       "      <td>0.008230</td>\n",
       "      <td>0.000125</td>\n",
       "      <td>0.122581</td>\n",
       "      <td>0.027789</td>\n",
       "    </tr>\n",
       "  </tbody>\n",
       "</table>\n",
       "<p>100 rows × 4 columns</p>\n",
       "</div>"
      ],
      "text/plain": [
       "    train-logloss-mean  train-logloss-std  test-logloss-mean  test-logloss-std\n",
       "0             0.449080           0.002957           0.470849          0.018537\n",
       "1             0.325995           0.003704           0.365670          0.016136\n",
       "2             0.245150           0.004736           0.296202          0.023000\n",
       "3             0.188785           0.003093           0.249085          0.023419\n",
       "4             0.148254           0.002929           0.218039          0.023191\n",
       "..                 ...                ...                ...               ...\n",
       "95            0.008230           0.000125           0.122580          0.027789\n",
       "96            0.008230           0.000125           0.122581          0.027789\n",
       "97            0.008230           0.000125           0.122581          0.027789\n",
       "98            0.008230           0.000125           0.122581          0.027789\n",
       "99            0.008230           0.000125           0.122581          0.027789\n",
       "\n",
       "[100 rows x 4 columns]"
      ]
     },
     "execution_count": 38,
     "metadata": {},
     "output_type": "execute_result"
    }
   ],
   "source": [
    "cvresult1"
   ]
  },
  {
   "cell_type": "code",
   "execution_count": 41,
   "id": "0bfb2a81",
   "metadata": {},
   "outputs": [
    {
     "data": {
      "text/plain": [
       "<function matplotlib.pyplot.show(close=None, block=None)>"
      ]
     },
     "execution_count": 41,
     "metadata": {},
     "output_type": "execute_result"
    },
    {
     "data": {
      "image/png": "[encoded data removed]",
      "text/plain": [
       "<Figure size 640x480 with 1 Axes>"
      ]
     },
     "metadata": {},
     "output_type": "display_data"
    }
   ],
   "source": [
    "plt.figure()\n",
    "plt.grid()\n",
    "plt.plot(range(1, 101), cvresult1.iloc[:, 0], label = 'train, gamma = 0')\n",
    "plt.plot(range(1, 101), cvresult1.iloc[:, 2], label = 'test, gamma = 0')\n",
    "plt.plot(range(1, 101), cvresult2.iloc[:, 0], label = 'train, gamma = 2')\n",
    "plt.plot(range(1, 101), cvresult2.iloc[:, 2], label = 'test, gamma = 2')\n",
    "plt.legend()\n",
    "plt.xlabel('num of tree(s)')\n",
    "plt.ylabel('logloss')\n",
    "plt.show"
   ]
  },
  {
   "cell_type": "markdown",
   "id": "b706ea00",
   "metadata": {},
   "source": [
    "发现模型在测试集上的表现也下降了，说明gamma取得过大了"
   ]
  },
  {
   "cell_type": "markdown",
   "id": "94cb12e0",
   "metadata": {},
   "source": []
  }
 ],
 "metadata": {
  "kernelspec": {
   "display_name": "Python (mineenv)",
   "language": "python",
   "name": "mineenv"
  },
  "language_info": {
   "codemirror_mode": {
    "name": "ipython",
    "version": 3
   },
   "file_extension": ".py",
   "mimetype": "text/x-python",
   "name": "python",
   "nbconvert_exporter": "python",
   "pygments_lexer": "ipython3",
   "version": "3.10.18"
  }
 },
 "nbformat": 4,
 "nbformat_minor": 5
}
